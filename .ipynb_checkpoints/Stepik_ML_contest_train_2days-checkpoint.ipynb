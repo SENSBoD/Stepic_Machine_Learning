{
 "cells": [
  {
   "cell_type": "markdown",
   "metadata": {},
   "source": [
    "Задача нам уже знакома - нужно предсказать, сможет ли пользователь успешно закончить онлайн курс Анализ данных в R.\n",
    "\n",
    "Мы будем считать, что пользователь успешно закончил курс, если он правильно решил больше 40 практических заданий (больше 40 баллов).\n",
    "\n",
    "В данных:\n",
    "- submission_data_test.csv\n",
    "- events_data_test.csv\n",
    "\n",
    "хранится информация о решениях и действиях для 6184 студентов за первые два дня прохождения курса. Это 6184 студентов, которые проходили курс в период с мая 2018 по январь 2019.\n",
    "\n",
    "Используя данные о первых двух днях активности на курсе вам нужно предсказать, наберет ли пользователь более 40 баллов на курсе или нет.\n",
    "\n",
    "В этих данных, вам доступны только первые дня активности студентов для того, чтобы сделать предсказание. На самом деле, используя эти данные, вы уже можете сделать прогноз. Например, если пользователь за первые два дня набрал 40 баллов, скорее всего он наберет более 40 баллов в дальнейшем. Чтобы подкрепить такие гипотезы, вы можете использовать данные, на которые мы исследовали в первых двух модулях курса, где для всех пользователей представлены все данные об их активности на курсе. "
   ]
  },
  {
   "cell_type": "code",
   "execution_count": 1,
   "metadata": {},
   "outputs": [],
   "source": [
    "import os\n",
    "import pandas as pd\n",
    "import numpy as np\n",
    "\n",
    "%matplotlib inline\n",
    "import matplotlib.pyplot as plt\n",
    "import seaborn as sns\n",
    "\n",
    "sns.set(rc={'figure.figsize': (9, 6)})"
   ]
  },
  {
   "cell_type": "code",
   "execution_count": 2,
   "metadata": {},
   "outputs": [
    {
     "name": "stdout",
     "output_type": "stream",
     "text": [
      "Wall time: 2.96 s\n"
     ]
    }
   ],
   "source": [
    "%%time\n",
    "PATH_TO_DATA = '../data/Stepic_Machine_Learning/'\n",
    "\n",
    "event_data_train = pd.read_csv(os.path.join(PATH_TO_DATA, 'event_data_train.csv'))"
   ]
  },
  {
   "cell_type": "code",
   "execution_count": 3,
   "metadata": {},
   "outputs": [
    {
     "data": {
      "text/html": [
       "<div>\n",
       "<style scoped>\n",
       "    .dataframe tbody tr th:only-of-type {\n",
       "        vertical-align: middle;\n",
       "    }\n",
       "\n",
       "    .dataframe tbody tr th {\n",
       "        vertical-align: top;\n",
       "    }\n",
       "\n",
       "    .dataframe thead th {\n",
       "        text-align: right;\n",
       "    }\n",
       "</style>\n",
       "<table border=\"1\" class=\"dataframe\">\n",
       "  <thead>\n",
       "    <tr style=\"text-align: right;\">\n",
       "      <th></th>\n",
       "      <th>step_id</th>\n",
       "      <th>timestamp</th>\n",
       "      <th>action</th>\n",
       "      <th>user_id</th>\n",
       "    </tr>\n",
       "  </thead>\n",
       "  <tbody>\n",
       "    <tr>\n",
       "      <th>0</th>\n",
       "      <td>32815</td>\n",
       "      <td>1434340848</td>\n",
       "      <td>viewed</td>\n",
       "      <td>17632</td>\n",
       "    </tr>\n",
       "    <tr>\n",
       "      <th>1</th>\n",
       "      <td>32815</td>\n",
       "      <td>1434340848</td>\n",
       "      <td>passed</td>\n",
       "      <td>17632</td>\n",
       "    </tr>\n",
       "    <tr>\n",
       "      <th>2</th>\n",
       "      <td>32815</td>\n",
       "      <td>1434340848</td>\n",
       "      <td>discovered</td>\n",
       "      <td>17632</td>\n",
       "    </tr>\n",
       "    <tr>\n",
       "      <th>3</th>\n",
       "      <td>32811</td>\n",
       "      <td>1434340895</td>\n",
       "      <td>discovered</td>\n",
       "      <td>17632</td>\n",
       "    </tr>\n",
       "    <tr>\n",
       "      <th>4</th>\n",
       "      <td>32811</td>\n",
       "      <td>1434340895</td>\n",
       "      <td>viewed</td>\n",
       "      <td>17632</td>\n",
       "    </tr>\n",
       "  </tbody>\n",
       "</table>\n",
       "</div>"
      ],
      "text/plain": [
       "   step_id   timestamp      action  user_id\n",
       "0    32815  1434340848      viewed    17632\n",
       "1    32815  1434340848      passed    17632\n",
       "2    32815  1434340848  discovered    17632\n",
       "3    32811  1434340895  discovered    17632\n",
       "4    32811  1434340895      viewed    17632"
      ]
     },
     "execution_count": 3,
     "metadata": {},
     "output_type": "execute_result"
    }
   ],
   "source": [
    "event_data_train.head()"
   ]
  },
  {
   "cell_type": "code",
   "execution_count": 4,
   "metadata": {},
   "outputs": [
    {
     "data": {
      "text/plain": [
       "19234"
      ]
     },
     "execution_count": 4,
     "metadata": {},
     "output_type": "execute_result"
    }
   ],
   "source": [
    "event_data_train['user_id'].nunique()"
   ]
  },
  {
   "cell_type": "code",
   "execution_count": 5,
   "metadata": {},
   "outputs": [],
   "source": [
    "submissions_data_train = pd.read_csv(os.path.join(PATH_TO_DATA, 'submissions_data_train.csv'))"
   ]
  },
  {
   "cell_type": "code",
   "execution_count": 6,
   "metadata": {},
   "outputs": [
    {
     "data": {
      "text/html": [
       "<div>\n",
       "<style scoped>\n",
       "    .dataframe tbody tr th:only-of-type {\n",
       "        vertical-align: middle;\n",
       "    }\n",
       "\n",
       "    .dataframe tbody tr th {\n",
       "        vertical-align: top;\n",
       "    }\n",
       "\n",
       "    .dataframe thead th {\n",
       "        text-align: right;\n",
       "    }\n",
       "</style>\n",
       "<table border=\"1\" class=\"dataframe\">\n",
       "  <thead>\n",
       "    <tr style=\"text-align: right;\">\n",
       "      <th></th>\n",
       "      <th>step_id</th>\n",
       "      <th>timestamp</th>\n",
       "      <th>submission_status</th>\n",
       "      <th>user_id</th>\n",
       "    </tr>\n",
       "  </thead>\n",
       "  <tbody>\n",
       "    <tr>\n",
       "      <th>0</th>\n",
       "      <td>31971</td>\n",
       "      <td>1434349275</td>\n",
       "      <td>correct</td>\n",
       "      <td>15853</td>\n",
       "    </tr>\n",
       "    <tr>\n",
       "      <th>1</th>\n",
       "      <td>31972</td>\n",
       "      <td>1434348300</td>\n",
       "      <td>correct</td>\n",
       "      <td>15853</td>\n",
       "    </tr>\n",
       "    <tr>\n",
       "      <th>2</th>\n",
       "      <td>31972</td>\n",
       "      <td>1478852149</td>\n",
       "      <td>wrong</td>\n",
       "      <td>15853</td>\n",
       "    </tr>\n",
       "    <tr>\n",
       "      <th>3</th>\n",
       "      <td>31972</td>\n",
       "      <td>1478852164</td>\n",
       "      <td>correct</td>\n",
       "      <td>15853</td>\n",
       "    </tr>\n",
       "    <tr>\n",
       "      <th>4</th>\n",
       "      <td>31976</td>\n",
       "      <td>1434348123</td>\n",
       "      <td>wrong</td>\n",
       "      <td>15853</td>\n",
       "    </tr>\n",
       "  </tbody>\n",
       "</table>\n",
       "</div>"
      ],
      "text/plain": [
       "   step_id   timestamp submission_status  user_id\n",
       "0    31971  1434349275           correct    15853\n",
       "1    31972  1434348300           correct    15853\n",
       "2    31972  1478852149             wrong    15853\n",
       "3    31972  1478852164           correct    15853\n",
       "4    31976  1434348123             wrong    15853"
      ]
     },
     "execution_count": 6,
     "metadata": {},
     "output_type": "execute_result"
    }
   ],
   "source": [
    "submissions_data_train.head()"
   ]
  },
  {
   "cell_type": "code",
   "execution_count": 7,
   "metadata": {},
   "outputs": [
    {
     "data": {
      "text/plain": [
       "9940"
      ]
     },
     "execution_count": 7,
     "metadata": {},
     "output_type": "execute_result"
    }
   ],
   "source": [
    "submissions_data_train['user_id'].nunique()"
   ]
  },
  {
   "cell_type": "markdown",
   "metadata": {},
   "source": [
    "9940 унікальних користувачів засабмітили практичні завдання"
   ]
  },
  {
   "cell_type": "markdown",
   "metadata": {},
   "source": [
    "## Розмітим користувачів, які успішно пройшли курс (набрали більше 40 балів)"
   ]
  },
  {
   "cell_type": "markdown",
   "metadata": {},
   "source": [
    "### Виділяємо унікальні user_id в окремий датафрейм\n",
    "\n",
    "Унікальні user_id беремо з датафрейма event_data_train"
   ]
  },
  {
   "cell_type": "code",
   "execution_count": 8,
   "metadata": {},
   "outputs": [],
   "source": [
    "y_train = event_data_train[['user_id']] \\\n",
    "    .drop_duplicates(subset=['user_id']) \\\n",
    "    .reset_index().drop('index', axis=1)"
   ]
  },
  {
   "cell_type": "code",
   "execution_count": 9,
   "metadata": {},
   "outputs": [
    {
     "data": {
      "text/html": [
       "<div>\n",
       "<style scoped>\n",
       "    .dataframe tbody tr th:only-of-type {\n",
       "        vertical-align: middle;\n",
       "    }\n",
       "\n",
       "    .dataframe tbody tr th {\n",
       "        vertical-align: top;\n",
       "    }\n",
       "\n",
       "    .dataframe thead th {\n",
       "        text-align: right;\n",
       "    }\n",
       "</style>\n",
       "<table border=\"1\" class=\"dataframe\">\n",
       "  <thead>\n",
       "    <tr style=\"text-align: right;\">\n",
       "      <th></th>\n",
       "      <th>user_id</th>\n",
       "    </tr>\n",
       "  </thead>\n",
       "  <tbody>\n",
       "    <tr>\n",
       "      <th>0</th>\n",
       "      <td>17632</td>\n",
       "    </tr>\n",
       "    <tr>\n",
       "      <th>1</th>\n",
       "      <td>12494</td>\n",
       "    </tr>\n",
       "    <tr>\n",
       "      <th>2</th>\n",
       "      <td>442</td>\n",
       "    </tr>\n",
       "    <tr>\n",
       "      <th>3</th>\n",
       "      <td>22254</td>\n",
       "    </tr>\n",
       "    <tr>\n",
       "      <th>4</th>\n",
       "      <td>6646</td>\n",
       "    </tr>\n",
       "  </tbody>\n",
       "</table>\n",
       "</div>"
      ],
      "text/plain": [
       "   user_id\n",
       "0    17632\n",
       "1    12494\n",
       "2      442\n",
       "3    22254\n",
       "4     6646"
      ]
     },
     "execution_count": 9,
     "metadata": {},
     "output_type": "execute_result"
    }
   ],
   "source": [
    "y_train.head()"
   ]
  },
  {
   "cell_type": "code",
   "execution_count": 10,
   "metadata": {},
   "outputs": [
    {
     "data": {
      "text/plain": [
       "19234"
      ]
     },
     "execution_count": 10,
     "metadata": {},
     "output_type": "execute_result"
    }
   ],
   "source": [
    "y_train['user_id'].nunique()"
   ]
  },
  {
   "cell_type": "markdown",
   "metadata": {},
   "source": [
    "### Порахуємо кількість балів, які заробив користувач за практичні завдання 'correct'"
   ]
  },
  {
   "cell_type": "code",
   "execution_count": 11,
   "metadata": {},
   "outputs": [
    {
     "data": {
      "text/html": [
       "<div>\n",
       "<style scoped>\n",
       "    .dataframe tbody tr th:only-of-type {\n",
       "        vertical-align: middle;\n",
       "    }\n",
       "\n",
       "    .dataframe tbody tr th {\n",
       "        vertical-align: top;\n",
       "    }\n",
       "\n",
       "    .dataframe thead th {\n",
       "        text-align: right;\n",
       "    }\n",
       "</style>\n",
       "<table border=\"1\" class=\"dataframe\">\n",
       "  <thead>\n",
       "    <tr style=\"text-align: right;\">\n",
       "      <th>submission_status</th>\n",
       "      <th>user_id</th>\n",
       "      <th>correct</th>\n",
       "      <th>wrong</th>\n",
       "    </tr>\n",
       "  </thead>\n",
       "  <tbody>\n",
       "    <tr>\n",
       "      <th>0</th>\n",
       "      <td>2</td>\n",
       "      <td>2</td>\n",
       "      <td>0</td>\n",
       "    </tr>\n",
       "    <tr>\n",
       "      <th>1</th>\n",
       "      <td>3</td>\n",
       "      <td>29</td>\n",
       "      <td>23</td>\n",
       "    </tr>\n",
       "    <tr>\n",
       "      <th>2</th>\n",
       "      <td>5</td>\n",
       "      <td>2</td>\n",
       "      <td>2</td>\n",
       "    </tr>\n",
       "    <tr>\n",
       "      <th>3</th>\n",
       "      <td>8</td>\n",
       "      <td>9</td>\n",
       "      <td>21</td>\n",
       "    </tr>\n",
       "    <tr>\n",
       "      <th>4</th>\n",
       "      <td>14</td>\n",
       "      <td>0</td>\n",
       "      <td>1</td>\n",
       "    </tr>\n",
       "  </tbody>\n",
       "</table>\n",
       "</div>"
      ],
      "text/plain": [
       "submission_status  user_id  correct  wrong\n",
       "0                        2        2      0\n",
       "1                        3       29     23\n",
       "2                        5        2      2\n",
       "3                        8        9     21\n",
       "4                       14        0      1"
      ]
     },
     "execution_count": 11,
     "metadata": {},
     "output_type": "execute_result"
    }
   ],
   "source": [
    "users_scores = pd.crosstab(submissions_data_train['user_id'], submissions_data_train['submission_status']).reset_index()\n",
    "users_scores.head()"
   ]
  },
  {
   "cell_type": "code",
   "execution_count": 12,
   "metadata": {},
   "outputs": [
    {
     "data": {
      "text/plain": [
       "submission_status\n",
       "user_id    9794\n",
       "correct    9794\n",
       "wrong      9794\n",
       "dtype: int64"
      ]
     },
     "execution_count": 12,
     "metadata": {},
     "output_type": "execute_result"
    }
   ],
   "source": [
    "users_scores[users_scores['correct'] >= 1].count()"
   ]
  },
  {
   "cell_type": "markdown",
   "metadata": {},
   "source": [
    "9794 унікальних користувачів засабмітили коректне практичне завдання, тобто виконали хоча б одне практичне завдання"
   ]
  },
  {
   "cell_type": "code",
   "execution_count": 13,
   "metadata": {},
   "outputs": [
    {
     "data": {
      "text/plain": [
       "submission_status\n",
       "user_id    1968\n",
       "correct    1968\n",
       "wrong      1968\n",
       "dtype: int64"
      ]
     },
     "execution_count": 13,
     "metadata": {},
     "output_type": "execute_result"
    }
   ],
   "source": [
    "users_scores[users_scores['correct'] > 40].count()"
   ]
  },
  {
   "cell_type": "markdown",
   "metadata": {},
   "source": [
    "1968 унікальних користувачів успішно завершили курс (набрали більше 40 балів на практичних завданнях)"
   ]
  },
  {
   "cell_type": "markdown",
   "metadata": {},
   "source": [
    "### Добавимо інформацію про практичні завдання до унікальних user_id"
   ]
  },
  {
   "cell_type": "code",
   "execution_count": 14,
   "metadata": {},
   "outputs": [
    {
     "data": {
      "text/html": [
       "<div>\n",
       "<style scoped>\n",
       "    .dataframe tbody tr th:only-of-type {\n",
       "        vertical-align: middle;\n",
       "    }\n",
       "\n",
       "    .dataframe tbody tr th {\n",
       "        vertical-align: top;\n",
       "    }\n",
       "\n",
       "    .dataframe thead th {\n",
       "        text-align: right;\n",
       "    }\n",
       "</style>\n",
       "<table border=\"1\" class=\"dataframe\">\n",
       "  <thead>\n",
       "    <tr style=\"text-align: right;\">\n",
       "      <th></th>\n",
       "      <th>user_id</th>\n",
       "      <th>correct</th>\n",
       "      <th>wrong</th>\n",
       "    </tr>\n",
       "  </thead>\n",
       "  <tbody>\n",
       "    <tr>\n",
       "      <th>0</th>\n",
       "      <td>17632</td>\n",
       "      <td>31.0</td>\n",
       "      <td>278.0</td>\n",
       "    </tr>\n",
       "    <tr>\n",
       "      <th>1</th>\n",
       "      <td>12494</td>\n",
       "      <td>18.0</td>\n",
       "      <td>44.0</td>\n",
       "    </tr>\n",
       "    <tr>\n",
       "      <th>2</th>\n",
       "      <td>442</td>\n",
       "      <td>25.0</td>\n",
       "      <td>134.0</td>\n",
       "    </tr>\n",
       "    <tr>\n",
       "      <th>3</th>\n",
       "      <td>22254</td>\n",
       "      <td>24.0</td>\n",
       "      <td>54.0</td>\n",
       "    </tr>\n",
       "    <tr>\n",
       "      <th>4</th>\n",
       "      <td>6646</td>\n",
       "      <td>70.0</td>\n",
       "      <td>54.0</td>\n",
       "    </tr>\n",
       "  </tbody>\n",
       "</table>\n",
       "</div>"
      ],
      "text/plain": [
       "   user_id  correct  wrong\n",
       "0    17632     31.0  278.0\n",
       "1    12494     18.0   44.0\n",
       "2      442     25.0  134.0\n",
       "3    22254     24.0   54.0\n",
       "4     6646     70.0   54.0"
      ]
     },
     "execution_count": 14,
     "metadata": {},
     "output_type": "execute_result"
    }
   ],
   "source": [
    "y_train = y_train.merge(users_scores, how='outer', on='user_id')\n",
    "y_train.head()"
   ]
  },
  {
   "cell_type": "code",
   "execution_count": 15,
   "metadata": {},
   "outputs": [
    {
     "data": {
      "text/plain": [
       "user_id       0\n",
       "correct    9294\n",
       "wrong      9294\n",
       "dtype: int64"
      ]
     },
     "execution_count": 15,
     "metadata": {},
     "output_type": "execute_result"
    }
   ],
   "source": [
    "y_train.isnull().sum()"
   ]
  },
  {
   "cell_type": "markdown",
   "metadata": {},
   "source": [
    "### Заповнимо пропуски нулями\n",
    "\n",
    "Не всі користувачі робили практичні завдання"
   ]
  },
  {
   "cell_type": "code",
   "execution_count": 16,
   "metadata": {},
   "outputs": [],
   "source": [
    "y_train = y_train.fillna(0)"
   ]
  },
  {
   "cell_type": "code",
   "execution_count": 17,
   "metadata": {},
   "outputs": [
    {
     "data": {
      "text/plain": [
       "0"
      ]
     },
     "execution_count": 17,
     "metadata": {},
     "output_type": "execute_result"
    }
   ],
   "source": [
    "y_train.isnull().sum().sum()"
   ]
  },
  {
   "cell_type": "markdown",
   "metadata": {},
   "source": [
    "### Визначатимо користувачів, які успішно пройшли курс (набрали на ПРАКТИЧНИХ завданнях більше 40 балів)\n",
    "Добавимо колонку \"correct_course\""
   ]
  },
  {
   "cell_type": "code",
   "execution_count": 18,
   "metadata": {},
   "outputs": [
    {
     "data": {
      "text/plain": [
       "0    17266\n",
       "1     1968\n",
       "Name: correct_course, dtype: int64"
      ]
     },
     "execution_count": 18,
     "metadata": {},
     "output_type": "execute_result"
    }
   ],
   "source": [
    "y_train['correct_course'] = np.where(y_train['correct'] > 40, 1, 0)\n",
    "y_train['correct_course'].value_counts()"
   ]
  },
  {
   "cell_type": "code",
   "execution_count": 19,
   "metadata": {},
   "outputs": [
    {
     "data": {
      "text/html": [
       "<div>\n",
       "<style scoped>\n",
       "    .dataframe tbody tr th:only-of-type {\n",
       "        vertical-align: middle;\n",
       "    }\n",
       "\n",
       "    .dataframe tbody tr th {\n",
       "        vertical-align: top;\n",
       "    }\n",
       "\n",
       "    .dataframe thead th {\n",
       "        text-align: right;\n",
       "    }\n",
       "</style>\n",
       "<table border=\"1\" class=\"dataframe\">\n",
       "  <thead>\n",
       "    <tr style=\"text-align: right;\">\n",
       "      <th></th>\n",
       "      <th>user_id</th>\n",
       "      <th>correct</th>\n",
       "      <th>wrong</th>\n",
       "      <th>correct_course</th>\n",
       "    </tr>\n",
       "  </thead>\n",
       "  <tbody>\n",
       "    <tr>\n",
       "      <th>0</th>\n",
       "      <td>17632</td>\n",
       "      <td>31.0</td>\n",
       "      <td>278.0</td>\n",
       "      <td>0</td>\n",
       "    </tr>\n",
       "    <tr>\n",
       "      <th>1</th>\n",
       "      <td>12494</td>\n",
       "      <td>18.0</td>\n",
       "      <td>44.0</td>\n",
       "      <td>0</td>\n",
       "    </tr>\n",
       "    <tr>\n",
       "      <th>2</th>\n",
       "      <td>442</td>\n",
       "      <td>25.0</td>\n",
       "      <td>134.0</td>\n",
       "      <td>0</td>\n",
       "    </tr>\n",
       "    <tr>\n",
       "      <th>3</th>\n",
       "      <td>22254</td>\n",
       "      <td>24.0</td>\n",
       "      <td>54.0</td>\n",
       "      <td>0</td>\n",
       "    </tr>\n",
       "    <tr>\n",
       "      <th>4</th>\n",
       "      <td>6646</td>\n",
       "      <td>70.0</td>\n",
       "      <td>54.0</td>\n",
       "      <td>1</td>\n",
       "    </tr>\n",
       "  </tbody>\n",
       "</table>\n",
       "</div>"
      ],
      "text/plain": [
       "   user_id  correct  wrong  correct_course\n",
       "0    17632     31.0  278.0               0\n",
       "1    12494     18.0   44.0               0\n",
       "2      442     25.0  134.0               0\n",
       "3    22254     24.0   54.0               0\n",
       "4     6646     70.0   54.0               1"
      ]
     },
     "execution_count": 19,
     "metadata": {},
     "output_type": "execute_result"
    }
   ],
   "source": [
    "y_train.head()"
   ]
  },
  {
   "cell_type": "markdown",
   "metadata": {},
   "source": [
    "### Розмітим користувачів, які успішно пройшли курс\n",
    "Залишимо тільки колонку \"correct_course\""
   ]
  },
  {
   "cell_type": "code",
   "execution_count": 20,
   "metadata": {},
   "outputs": [
    {
     "data": {
      "text/html": [
       "<div>\n",
       "<style scoped>\n",
       "    .dataframe tbody tr th:only-of-type {\n",
       "        vertical-align: middle;\n",
       "    }\n",
       "\n",
       "    .dataframe tbody tr th {\n",
       "        vertical-align: top;\n",
       "    }\n",
       "\n",
       "    .dataframe thead th {\n",
       "        text-align: right;\n",
       "    }\n",
       "</style>\n",
       "<table border=\"1\" class=\"dataframe\">\n",
       "  <thead>\n",
       "    <tr style=\"text-align: right;\">\n",
       "      <th></th>\n",
       "      <th>user_id</th>\n",
       "      <th>correct_course</th>\n",
       "    </tr>\n",
       "  </thead>\n",
       "  <tbody>\n",
       "    <tr>\n",
       "      <th>0</th>\n",
       "      <td>17632</td>\n",
       "      <td>0</td>\n",
       "    </tr>\n",
       "    <tr>\n",
       "      <th>1</th>\n",
       "      <td>12494</td>\n",
       "      <td>0</td>\n",
       "    </tr>\n",
       "    <tr>\n",
       "      <th>2</th>\n",
       "      <td>442</td>\n",
       "      <td>0</td>\n",
       "    </tr>\n",
       "    <tr>\n",
       "      <th>3</th>\n",
       "      <td>22254</td>\n",
       "      <td>0</td>\n",
       "    </tr>\n",
       "    <tr>\n",
       "      <th>4</th>\n",
       "      <td>6646</td>\n",
       "      <td>1</td>\n",
       "    </tr>\n",
       "  </tbody>\n",
       "</table>\n",
       "</div>"
      ],
      "text/plain": [
       "   user_id  correct_course\n",
       "0    17632               0\n",
       "1    12494               0\n",
       "2      442               0\n",
       "3    22254               0\n",
       "4     6646               1"
      ]
     },
     "execution_count": 20,
     "metadata": {},
     "output_type": "execute_result"
    }
   ],
   "source": [
    "y_train = y_train.drop(['correct', 'wrong'], axis=1)\n",
    "y_train.head()"
   ]
  },
  {
   "cell_type": "code",
   "execution_count": 21,
   "metadata": {},
   "outputs": [
    {
     "data": {
      "text/plain": [
       "0    17266\n",
       "1     1968\n",
       "Name: correct_course, dtype: int64"
      ]
     },
     "execution_count": 21,
     "metadata": {},
     "output_type": "execute_result"
    }
   ],
   "source": [
    "y_train['correct_course'].value_counts()"
   ]
  },
  {
   "cell_type": "markdown",
   "metadata": {},
   "source": [
    "### Зазначимо колонку user_id як індекси"
   ]
  },
  {
   "cell_type": "code",
   "execution_count": 22,
   "metadata": {},
   "outputs": [
    {
     "data": {
      "text/html": [
       "<div>\n",
       "<style scoped>\n",
       "    .dataframe tbody tr th:only-of-type {\n",
       "        vertical-align: middle;\n",
       "    }\n",
       "\n",
       "    .dataframe tbody tr th {\n",
       "        vertical-align: top;\n",
       "    }\n",
       "\n",
       "    .dataframe thead th {\n",
       "        text-align: right;\n",
       "    }\n",
       "</style>\n",
       "<table border=\"1\" class=\"dataframe\">\n",
       "  <thead>\n",
       "    <tr style=\"text-align: right;\">\n",
       "      <th></th>\n",
       "      <th>correct_course</th>\n",
       "    </tr>\n",
       "    <tr>\n",
       "      <th>user_id</th>\n",
       "      <th></th>\n",
       "    </tr>\n",
       "  </thead>\n",
       "  <tbody>\n",
       "    <tr>\n",
       "      <th>17632</th>\n",
       "      <td>0</td>\n",
       "    </tr>\n",
       "    <tr>\n",
       "      <th>12494</th>\n",
       "      <td>0</td>\n",
       "    </tr>\n",
       "    <tr>\n",
       "      <th>442</th>\n",
       "      <td>0</td>\n",
       "    </tr>\n",
       "    <tr>\n",
       "      <th>22254</th>\n",
       "      <td>0</td>\n",
       "    </tr>\n",
       "    <tr>\n",
       "      <th>6646</th>\n",
       "      <td>1</td>\n",
       "    </tr>\n",
       "  </tbody>\n",
       "</table>\n",
       "</div>"
      ],
      "text/plain": [
       "         correct_course\n",
       "user_id                \n",
       "17632                 0\n",
       "12494                 0\n",
       "442                   0\n",
       "22254                 0\n",
       "6646                  1"
      ]
     },
     "execution_count": 22,
     "metadata": {},
     "output_type": "execute_result"
    }
   ],
   "source": [
    "y_train = y_train.set_index('user_id')\n",
    "y_train.head()"
   ]
  },
  {
   "cell_type": "markdown",
   "metadata": {},
   "source": [
    "## Виділимо інформацію про користувачів за перші 2 дні на курсі"
   ]
  },
  {
   "cell_type": "markdown",
   "metadata": {},
   "source": [
    "### Виділимо колонку з першим заходом (first_timestamp)"
   ]
  },
  {
   "cell_type": "code",
   "execution_count": 23,
   "metadata": {},
   "outputs": [],
   "source": [
    "first_timestamp_event_data = event_data_train.groupby('user_id', as_index=False) \\\n",
    "    .agg({'timestamp': 'min'}) \\\n",
    "    .rename(columns={'timestamp': 'first_timestamp'})"
   ]
  },
  {
   "cell_type": "code",
   "execution_count": 24,
   "metadata": {},
   "outputs": [
    {
     "data": {
      "text/html": [
       "<div>\n",
       "<style scoped>\n",
       "    .dataframe tbody tr th:only-of-type {\n",
       "        vertical-align: middle;\n",
       "    }\n",
       "\n",
       "    .dataframe tbody tr th {\n",
       "        vertical-align: top;\n",
       "    }\n",
       "\n",
       "    .dataframe thead th {\n",
       "        text-align: right;\n",
       "    }\n",
       "</style>\n",
       "<table border=\"1\" class=\"dataframe\">\n",
       "  <thead>\n",
       "    <tr style=\"text-align: right;\">\n",
       "      <th></th>\n",
       "      <th>user_id</th>\n",
       "      <th>first_timestamp</th>\n",
       "    </tr>\n",
       "  </thead>\n",
       "  <tbody>\n",
       "    <tr>\n",
       "      <th>0</th>\n",
       "      <td>1</td>\n",
       "      <td>1472827464</td>\n",
       "    </tr>\n",
       "    <tr>\n",
       "      <th>1</th>\n",
       "      <td>2</td>\n",
       "      <td>1514383364</td>\n",
       "    </tr>\n",
       "    <tr>\n",
       "      <th>2</th>\n",
       "      <td>3</td>\n",
       "      <td>1434358476</td>\n",
       "    </tr>\n",
       "    <tr>\n",
       "      <th>3</th>\n",
       "      <td>5</td>\n",
       "      <td>1466156809</td>\n",
       "    </tr>\n",
       "    <tr>\n",
       "      <th>4</th>\n",
       "      <td>7</td>\n",
       "      <td>1521634660</td>\n",
       "    </tr>\n",
       "  </tbody>\n",
       "</table>\n",
       "</div>"
      ],
      "text/plain": [
       "   user_id  first_timestamp\n",
       "0        1       1472827464\n",
       "1        2       1514383364\n",
       "2        3       1434358476\n",
       "3        5       1466156809\n",
       "4        7       1521634660"
      ]
     },
     "execution_count": 24,
     "metadata": {},
     "output_type": "execute_result"
    }
   ],
   "source": [
    "first_timestamp_event_data.head()"
   ]
  },
  {
   "cell_type": "markdown",
   "metadata": {},
   "source": [
    "### Добавимо колонку з першим заходом плюс 1 і 2 дні"
   ]
  },
  {
   "cell_type": "code",
   "execution_count": 25,
   "metadata": {},
   "outputs": [
    {
     "data": {
      "text/plain": [
       "172800"
      ]
     },
     "execution_count": 25,
     "metadata": {},
     "output_type": "execute_result"
    }
   ],
   "source": [
    "treshold = 2 * 24 * 60 * 60 # 2 дні\n",
    "treshold"
   ]
  },
  {
   "cell_type": "code",
   "execution_count": 26,
   "metadata": {},
   "outputs": [],
   "source": [
    "first_timestamp_event_data['1_day_timestamp'] = first_timestamp_event_data['first_timestamp'] + (treshold / 2)\n",
    "first_timestamp_event_data['2_day_timestamp'] = first_timestamp_event_data['first_timestamp'] + treshold"
   ]
  },
  {
   "cell_type": "code",
   "execution_count": 27,
   "metadata": {},
   "outputs": [
    {
     "data": {
      "text/html": [
       "<div>\n",
       "<style scoped>\n",
       "    .dataframe tbody tr th:only-of-type {\n",
       "        vertical-align: middle;\n",
       "    }\n",
       "\n",
       "    .dataframe tbody tr th {\n",
       "        vertical-align: top;\n",
       "    }\n",
       "\n",
       "    .dataframe thead th {\n",
       "        text-align: right;\n",
       "    }\n",
       "</style>\n",
       "<table border=\"1\" class=\"dataframe\">\n",
       "  <thead>\n",
       "    <tr style=\"text-align: right;\">\n",
       "      <th></th>\n",
       "      <th>user_id</th>\n",
       "      <th>first_timestamp</th>\n",
       "      <th>1_day_timestamp</th>\n",
       "      <th>2_day_timestamp</th>\n",
       "    </tr>\n",
       "  </thead>\n",
       "  <tbody>\n",
       "    <tr>\n",
       "      <th>0</th>\n",
       "      <td>1</td>\n",
       "      <td>1472827464</td>\n",
       "      <td>1.472914e+09</td>\n",
       "      <td>1473000264</td>\n",
       "    </tr>\n",
       "    <tr>\n",
       "      <th>1</th>\n",
       "      <td>2</td>\n",
       "      <td>1514383364</td>\n",
       "      <td>1.514470e+09</td>\n",
       "      <td>1514556164</td>\n",
       "    </tr>\n",
       "    <tr>\n",
       "      <th>2</th>\n",
       "      <td>3</td>\n",
       "      <td>1434358476</td>\n",
       "      <td>1.434445e+09</td>\n",
       "      <td>1434531276</td>\n",
       "    </tr>\n",
       "    <tr>\n",
       "      <th>3</th>\n",
       "      <td>5</td>\n",
       "      <td>1466156809</td>\n",
       "      <td>1.466243e+09</td>\n",
       "      <td>1466329609</td>\n",
       "    </tr>\n",
       "    <tr>\n",
       "      <th>4</th>\n",
       "      <td>7</td>\n",
       "      <td>1521634660</td>\n",
       "      <td>1.521721e+09</td>\n",
       "      <td>1521807460</td>\n",
       "    </tr>\n",
       "  </tbody>\n",
       "</table>\n",
       "</div>"
      ],
      "text/plain": [
       "   user_id  first_timestamp  1_day_timestamp  2_day_timestamp\n",
       "0        1       1472827464     1.472914e+09       1473000264\n",
       "1        2       1514383364     1.514470e+09       1514556164\n",
       "2        3       1434358476     1.434445e+09       1434531276\n",
       "3        5       1466156809     1.466243e+09       1466329609\n",
       "4        7       1521634660     1.521721e+09       1521807460"
      ]
     },
     "execution_count": 27,
     "metadata": {},
     "output_type": "execute_result"
    }
   ],
   "source": [
    "first_timestamp_event_data.head()"
   ]
  },
  {
   "cell_type": "markdown",
   "metadata": {},
   "source": [
    "### Зробимо обєднання з event_data_train"
   ]
  },
  {
   "cell_type": "code",
   "execution_count": 28,
   "metadata": {},
   "outputs": [],
   "source": [
    "event_data_train = event_data_train.merge(first_timestamp_event_data, on='user_id', how='outer')"
   ]
  },
  {
   "cell_type": "code",
   "execution_count": 29,
   "metadata": {},
   "outputs": [
    {
     "data": {
      "text/html": [
       "<div>\n",
       "<style scoped>\n",
       "    .dataframe tbody tr th:only-of-type {\n",
       "        vertical-align: middle;\n",
       "    }\n",
       "\n",
       "    .dataframe tbody tr th {\n",
       "        vertical-align: top;\n",
       "    }\n",
       "\n",
       "    .dataframe thead th {\n",
       "        text-align: right;\n",
       "    }\n",
       "</style>\n",
       "<table border=\"1\" class=\"dataframe\">\n",
       "  <thead>\n",
       "    <tr style=\"text-align: right;\">\n",
       "      <th></th>\n",
       "      <th>step_id</th>\n",
       "      <th>timestamp</th>\n",
       "      <th>action</th>\n",
       "      <th>user_id</th>\n",
       "      <th>first_timestamp</th>\n",
       "      <th>1_day_timestamp</th>\n",
       "      <th>2_day_timestamp</th>\n",
       "    </tr>\n",
       "  </thead>\n",
       "  <tbody>\n",
       "    <tr>\n",
       "      <th>0</th>\n",
       "      <td>32815</td>\n",
       "      <td>1434340848</td>\n",
       "      <td>viewed</td>\n",
       "      <td>17632</td>\n",
       "      <td>1434340848</td>\n",
       "      <td>1.434427e+09</td>\n",
       "      <td>1434513648</td>\n",
       "    </tr>\n",
       "    <tr>\n",
       "      <th>1</th>\n",
       "      <td>32815</td>\n",
       "      <td>1434340848</td>\n",
       "      <td>passed</td>\n",
       "      <td>17632</td>\n",
       "      <td>1434340848</td>\n",
       "      <td>1.434427e+09</td>\n",
       "      <td>1434513648</td>\n",
       "    </tr>\n",
       "    <tr>\n",
       "      <th>2</th>\n",
       "      <td>32815</td>\n",
       "      <td>1434340848</td>\n",
       "      <td>discovered</td>\n",
       "      <td>17632</td>\n",
       "      <td>1434340848</td>\n",
       "      <td>1.434427e+09</td>\n",
       "      <td>1434513648</td>\n",
       "    </tr>\n",
       "    <tr>\n",
       "      <th>3</th>\n",
       "      <td>32811</td>\n",
       "      <td>1434340895</td>\n",
       "      <td>discovered</td>\n",
       "      <td>17632</td>\n",
       "      <td>1434340848</td>\n",
       "      <td>1.434427e+09</td>\n",
       "      <td>1434513648</td>\n",
       "    </tr>\n",
       "    <tr>\n",
       "      <th>4</th>\n",
       "      <td>32811</td>\n",
       "      <td>1434340895</td>\n",
       "      <td>viewed</td>\n",
       "      <td>17632</td>\n",
       "      <td>1434340848</td>\n",
       "      <td>1.434427e+09</td>\n",
       "      <td>1434513648</td>\n",
       "    </tr>\n",
       "  </tbody>\n",
       "</table>\n",
       "</div>"
      ],
      "text/plain": [
       "   step_id   timestamp      action  user_id  first_timestamp  1_day_timestamp  \\\n",
       "0    32815  1434340848      viewed    17632       1434340848     1.434427e+09   \n",
       "1    32815  1434340848      passed    17632       1434340848     1.434427e+09   \n",
       "2    32815  1434340848  discovered    17632       1434340848     1.434427e+09   \n",
       "3    32811  1434340895  discovered    17632       1434340848     1.434427e+09   \n",
       "4    32811  1434340895      viewed    17632       1434340848     1.434427e+09   \n",
       "\n",
       "   2_day_timestamp  \n",
       "0       1434513648  \n",
       "1       1434513648  \n",
       "2       1434513648  \n",
       "3       1434513648  \n",
       "4       1434513648  "
      ]
     },
     "execution_count": 29,
     "metadata": {},
     "output_type": "execute_result"
    }
   ],
   "source": [
    "event_data_train.head()"
   ]
  },
  {
   "cell_type": "code",
   "execution_count": 30,
   "metadata": {},
   "outputs": [
    {
     "data": {
      "text/plain": [
       "(3480703, 7)"
      ]
     },
     "execution_count": 30,
     "metadata": {},
     "output_type": "execute_result"
    }
   ],
   "source": [
    "event_data_train.shape"
   ]
  },
  {
   "cell_type": "code",
   "execution_count": 31,
   "metadata": {},
   "outputs": [
    {
     "data": {
      "text/plain": [
       "19234"
      ]
     },
     "execution_count": 31,
     "metadata": {},
     "output_type": "execute_result"
    }
   ],
   "source": [
    "event_data_train['user_id'].nunique()"
   ]
  },
  {
   "cell_type": "markdown",
   "metadata": {},
   "source": [
    "### Врешті виділимо дані тільки по першим двом дням"
   ]
  },
  {
   "cell_type": "code",
   "execution_count": 32,
   "metadata": {},
   "outputs": [],
   "source": [
    "event_data_train_first_2_days = event_data_train[event_data_train['timestamp'] < event_data_train['2_day_timestamp']]"
   ]
  },
  {
   "cell_type": "code",
   "execution_count": 33,
   "metadata": {},
   "outputs": [
    {
     "data": {
      "text/plain": [
       "(906194, 7)"
      ]
     },
     "execution_count": 33,
     "metadata": {},
     "output_type": "execute_result"
    }
   ],
   "source": [
    "event_data_train_first_2_days.shape"
   ]
  },
  {
   "cell_type": "markdown",
   "metadata": {},
   "source": [
    "Перевіряємо чи кількість унікальних користувачів залишилась така ж"
   ]
  },
  {
   "cell_type": "code",
   "execution_count": 34,
   "metadata": {},
   "outputs": [
    {
     "data": {
      "text/plain": [
       "19234"
      ]
     },
     "execution_count": 34,
     "metadata": {},
     "output_type": "execute_result"
    }
   ],
   "source": [
    "event_data_train_first_2_days['user_id'].nunique()"
   ]
  },
  {
   "cell_type": "code",
   "execution_count": 35,
   "metadata": {},
   "outputs": [
    {
     "data": {
      "text/html": [
       "<div>\n",
       "<style scoped>\n",
       "    .dataframe tbody tr th:only-of-type {\n",
       "        vertical-align: middle;\n",
       "    }\n",
       "\n",
       "    .dataframe tbody tr th {\n",
       "        vertical-align: top;\n",
       "    }\n",
       "\n",
       "    .dataframe thead th {\n",
       "        text-align: right;\n",
       "    }\n",
       "</style>\n",
       "<table border=\"1\" class=\"dataframe\">\n",
       "  <thead>\n",
       "    <tr style=\"text-align: right;\">\n",
       "      <th></th>\n",
       "      <th>step_id</th>\n",
       "      <th>timestamp</th>\n",
       "      <th>action</th>\n",
       "      <th>user_id</th>\n",
       "      <th>first_timestamp</th>\n",
       "      <th>1_day_timestamp</th>\n",
       "      <th>2_day_timestamp</th>\n",
       "    </tr>\n",
       "  </thead>\n",
       "  <tbody>\n",
       "    <tr>\n",
       "      <th>0</th>\n",
       "      <td>32815</td>\n",
       "      <td>1434340848</td>\n",
       "      <td>viewed</td>\n",
       "      <td>17632</td>\n",
       "      <td>1434340848</td>\n",
       "      <td>1.434427e+09</td>\n",
       "      <td>1434513648</td>\n",
       "    </tr>\n",
       "    <tr>\n",
       "      <th>1</th>\n",
       "      <td>32815</td>\n",
       "      <td>1434340848</td>\n",
       "      <td>passed</td>\n",
       "      <td>17632</td>\n",
       "      <td>1434340848</td>\n",
       "      <td>1.434427e+09</td>\n",
       "      <td>1434513648</td>\n",
       "    </tr>\n",
       "    <tr>\n",
       "      <th>2</th>\n",
       "      <td>32815</td>\n",
       "      <td>1434340848</td>\n",
       "      <td>discovered</td>\n",
       "      <td>17632</td>\n",
       "      <td>1434340848</td>\n",
       "      <td>1.434427e+09</td>\n",
       "      <td>1434513648</td>\n",
       "    </tr>\n",
       "    <tr>\n",
       "      <th>3</th>\n",
       "      <td>32811</td>\n",
       "      <td>1434340895</td>\n",
       "      <td>discovered</td>\n",
       "      <td>17632</td>\n",
       "      <td>1434340848</td>\n",
       "      <td>1.434427e+09</td>\n",
       "      <td>1434513648</td>\n",
       "    </tr>\n",
       "    <tr>\n",
       "      <th>4</th>\n",
       "      <td>32811</td>\n",
       "      <td>1434340895</td>\n",
       "      <td>viewed</td>\n",
       "      <td>17632</td>\n",
       "      <td>1434340848</td>\n",
       "      <td>1.434427e+09</td>\n",
       "      <td>1434513648</td>\n",
       "    </tr>\n",
       "  </tbody>\n",
       "</table>\n",
       "</div>"
      ],
      "text/plain": [
       "   step_id   timestamp      action  user_id  first_timestamp  1_day_timestamp  \\\n",
       "0    32815  1434340848      viewed    17632       1434340848     1.434427e+09   \n",
       "1    32815  1434340848      passed    17632       1434340848     1.434427e+09   \n",
       "2    32815  1434340848  discovered    17632       1434340848     1.434427e+09   \n",
       "3    32811  1434340895  discovered    17632       1434340848     1.434427e+09   \n",
       "4    32811  1434340895      viewed    17632       1434340848     1.434427e+09   \n",
       "\n",
       "   2_day_timestamp  \n",
       "0       1434513648  \n",
       "1       1434513648  \n",
       "2       1434513648  \n",
       "3       1434513648  \n",
       "4       1434513648  "
      ]
     },
     "execution_count": 35,
     "metadata": {},
     "output_type": "execute_result"
    }
   ],
   "source": [
    "event_data_train_first_2_days.head()"
   ]
  },
  {
   "cell_type": "markdown",
   "metadata": {},
   "source": [
    "Виділимо інформація про перші 2 два дні для **submissions_data_train** - потрібно використовувати проміжок у 2 дні від старту по таблиці з івентами так, як сабміти ідуть пізніше і 2 дні з початку сабмітів не дорівнюють двом дням на курсі (сабмітити могли на певний день після старту), тому дабавимо колонки по 1 і 2 дням з таблиці з івентами"
   ]
  },
  {
   "cell_type": "code",
   "execution_count": 36,
   "metadata": {},
   "outputs": [],
   "source": [
    "first_timestamp_submissions_data = submissions_data_train.groupby('user_id', as_index=False) \\\n",
    "    .agg({'timestamp': 'min'}) \\\n",
    "    .rename(columns={'timestamp': 'first_timestamp'})\n",
    "    \n",
    "first_timestamp_submissions_data['1_day_timestamp'] = first_timestamp_submissions_data['first_timestamp'] + (treshold / 2)\n",
    "first_timestamp_submissions_data['2_day_timestamp'] = first_timestamp_submissions_data['first_timestamp'] + treshold\n",
    "\n",
    "submissions_data_train = submissions_data_train.merge(first_timestamp_submissions_data, on='user_id', how='outer')"
   ]
  },
  {
   "cell_type": "code",
   "execution_count": 37,
   "metadata": {},
   "outputs": [
    {
     "data": {
      "text/html": [
       "<div>\n",
       "<style scoped>\n",
       "    .dataframe tbody tr th:only-of-type {\n",
       "        vertical-align: middle;\n",
       "    }\n",
       "\n",
       "    .dataframe tbody tr th {\n",
       "        vertical-align: top;\n",
       "    }\n",
       "\n",
       "    .dataframe thead th {\n",
       "        text-align: right;\n",
       "    }\n",
       "</style>\n",
       "<table border=\"1\" class=\"dataframe\">\n",
       "  <thead>\n",
       "    <tr style=\"text-align: right;\">\n",
       "      <th></th>\n",
       "      <th>step_id</th>\n",
       "      <th>timestamp</th>\n",
       "      <th>submission_status</th>\n",
       "      <th>user_id</th>\n",
       "      <th>first_timestamp</th>\n",
       "      <th>1_day_timestamp</th>\n",
       "      <th>2_day_timestamp</th>\n",
       "    </tr>\n",
       "  </thead>\n",
       "  <tbody>\n",
       "    <tr>\n",
       "      <th>0</th>\n",
       "      <td>31971</td>\n",
       "      <td>1434349275</td>\n",
       "      <td>correct</td>\n",
       "      <td>15853</td>\n",
       "      <td>1434346056</td>\n",
       "      <td>1.434432e+09</td>\n",
       "      <td>1434518856</td>\n",
       "    </tr>\n",
       "    <tr>\n",
       "      <th>1</th>\n",
       "      <td>31972</td>\n",
       "      <td>1434348300</td>\n",
       "      <td>correct</td>\n",
       "      <td>15853</td>\n",
       "      <td>1434346056</td>\n",
       "      <td>1.434432e+09</td>\n",
       "      <td>1434518856</td>\n",
       "    </tr>\n",
       "    <tr>\n",
       "      <th>2</th>\n",
       "      <td>31972</td>\n",
       "      <td>1478852149</td>\n",
       "      <td>wrong</td>\n",
       "      <td>15853</td>\n",
       "      <td>1434346056</td>\n",
       "      <td>1.434432e+09</td>\n",
       "      <td>1434518856</td>\n",
       "    </tr>\n",
       "    <tr>\n",
       "      <th>3</th>\n",
       "      <td>31972</td>\n",
       "      <td>1478852164</td>\n",
       "      <td>correct</td>\n",
       "      <td>15853</td>\n",
       "      <td>1434346056</td>\n",
       "      <td>1.434432e+09</td>\n",
       "      <td>1434518856</td>\n",
       "    </tr>\n",
       "    <tr>\n",
       "      <th>4</th>\n",
       "      <td>31976</td>\n",
       "      <td>1434348123</td>\n",
       "      <td>wrong</td>\n",
       "      <td>15853</td>\n",
       "      <td>1434346056</td>\n",
       "      <td>1.434432e+09</td>\n",
       "      <td>1434518856</td>\n",
       "    </tr>\n",
       "  </tbody>\n",
       "</table>\n",
       "</div>"
      ],
      "text/plain": [
       "   step_id   timestamp submission_status  user_id  first_timestamp  \\\n",
       "0    31971  1434349275           correct    15853       1434346056   \n",
       "1    31972  1434348300           correct    15853       1434346056   \n",
       "2    31972  1478852149             wrong    15853       1434346056   \n",
       "3    31972  1478852164           correct    15853       1434346056   \n",
       "4    31976  1434348123             wrong    15853       1434346056   \n",
       "\n",
       "   1_day_timestamp  2_day_timestamp  \n",
       "0     1.434432e+09       1434518856  \n",
       "1     1.434432e+09       1434518856  \n",
       "2     1.434432e+09       1434518856  \n",
       "3     1.434432e+09       1434518856  \n",
       "4     1.434432e+09       1434518856  "
      ]
     },
     "execution_count": 37,
     "metadata": {},
     "output_type": "execute_result"
    }
   ],
   "source": [
    "submissions_data_train.head()"
   ]
  },
  {
   "cell_type": "code",
   "execution_count": 38,
   "metadata": {},
   "outputs": [],
   "source": [
    "# submissions_data_train = submissions_data_train.merge(event_data_train_first_2_days[['user_id', '1_day_timestamp', '2_day_timestamp']], \n",
    "#                                                       on='user_id', how='outer')\n",
    "# submissions_data_train.head()"
   ]
  },
  {
   "cell_type": "code",
   "execution_count": 39,
   "metadata": {},
   "outputs": [],
   "source": [
    "submissions_data_train_first_2_days = submissions_data_train[submissions_data_train['timestamp'] < submissions_data_train['2_day_timestamp']]"
   ]
  },
  {
   "cell_type": "code",
   "execution_count": 40,
   "metadata": {},
   "outputs": [
    {
     "data": {
      "text/plain": [
       "(509104, 7)"
      ]
     },
     "execution_count": 40,
     "metadata": {},
     "output_type": "execute_result"
    }
   ],
   "source": [
    "submissions_data_train.shape"
   ]
  },
  {
   "cell_type": "code",
   "execution_count": 41,
   "metadata": {},
   "outputs": [
    {
     "data": {
      "text/plain": [
       "9940"
      ]
     },
     "execution_count": 41,
     "metadata": {},
     "output_type": "execute_result"
    }
   ],
   "source": [
    "submissions_data_train['user_id'].nunique()"
   ]
  },
  {
   "cell_type": "code",
   "execution_count": 42,
   "metadata": {},
   "outputs": [
    {
     "data": {
      "text/html": [
       "<div>\n",
       "<style scoped>\n",
       "    .dataframe tbody tr th:only-of-type {\n",
       "        vertical-align: middle;\n",
       "    }\n",
       "\n",
       "    .dataframe tbody tr th {\n",
       "        vertical-align: top;\n",
       "    }\n",
       "\n",
       "    .dataframe thead th {\n",
       "        text-align: right;\n",
       "    }\n",
       "</style>\n",
       "<table border=\"1\" class=\"dataframe\">\n",
       "  <thead>\n",
       "    <tr style=\"text-align: right;\">\n",
       "      <th></th>\n",
       "      <th>step_id</th>\n",
       "      <th>timestamp</th>\n",
       "      <th>submission_status</th>\n",
       "      <th>user_id</th>\n",
       "      <th>first_timestamp</th>\n",
       "      <th>1_day_timestamp</th>\n",
       "      <th>2_day_timestamp</th>\n",
       "    </tr>\n",
       "  </thead>\n",
       "  <tbody>\n",
       "    <tr>\n",
       "      <th>0</th>\n",
       "      <td>31971</td>\n",
       "      <td>1434349275</td>\n",
       "      <td>correct</td>\n",
       "      <td>15853</td>\n",
       "      <td>1434346056</td>\n",
       "      <td>1.434432e+09</td>\n",
       "      <td>1434518856</td>\n",
       "    </tr>\n",
       "    <tr>\n",
       "      <th>1</th>\n",
       "      <td>31972</td>\n",
       "      <td>1434348300</td>\n",
       "      <td>correct</td>\n",
       "      <td>15853</td>\n",
       "      <td>1434346056</td>\n",
       "      <td>1.434432e+09</td>\n",
       "      <td>1434518856</td>\n",
       "    </tr>\n",
       "    <tr>\n",
       "      <th>4</th>\n",
       "      <td>31976</td>\n",
       "      <td>1434348123</td>\n",
       "      <td>wrong</td>\n",
       "      <td>15853</td>\n",
       "      <td>1434346056</td>\n",
       "      <td>1.434432e+09</td>\n",
       "      <td>1434518856</td>\n",
       "    </tr>\n",
       "    <tr>\n",
       "      <th>5</th>\n",
       "      <td>31976</td>\n",
       "      <td>1434348188</td>\n",
       "      <td>correct</td>\n",
       "      <td>15853</td>\n",
       "      <td>1434346056</td>\n",
       "      <td>1.434432e+09</td>\n",
       "      <td>1434518856</td>\n",
       "    </tr>\n",
       "    <tr>\n",
       "      <th>7</th>\n",
       "      <td>31977</td>\n",
       "      <td>1434347371</td>\n",
       "      <td>correct</td>\n",
       "      <td>15853</td>\n",
       "      <td>1434346056</td>\n",
       "      <td>1.434432e+09</td>\n",
       "      <td>1434518856</td>\n",
       "    </tr>\n",
       "  </tbody>\n",
       "</table>\n",
       "</div>"
      ],
      "text/plain": [
       "   step_id   timestamp submission_status  user_id  first_timestamp  \\\n",
       "0    31971  1434349275           correct    15853       1434346056   \n",
       "1    31972  1434348300           correct    15853       1434346056   \n",
       "4    31976  1434348123             wrong    15853       1434346056   \n",
       "5    31976  1434348188           correct    15853       1434346056   \n",
       "7    31977  1434347371           correct    15853       1434346056   \n",
       "\n",
       "   1_day_timestamp  2_day_timestamp  \n",
       "0     1.434432e+09       1434518856  \n",
       "1     1.434432e+09       1434518856  \n",
       "4     1.434432e+09       1434518856  \n",
       "5     1.434432e+09       1434518856  \n",
       "7     1.434432e+09       1434518856  "
      ]
     },
     "execution_count": 42,
     "metadata": {},
     "output_type": "execute_result"
    }
   ],
   "source": [
    "submissions_data_train_first_2_days.head()"
   ]
  },
  {
   "cell_type": "code",
   "execution_count": 43,
   "metadata": {},
   "outputs": [
    {
     "data": {
      "text/plain": [
       "(134612, 7)"
      ]
     },
     "execution_count": 43,
     "metadata": {},
     "output_type": "execute_result"
    }
   ],
   "source": [
    "submissions_data_train_first_2_days.shape"
   ]
  },
  {
   "cell_type": "markdown",
   "metadata": {},
   "source": [
    "Перевіряємо чи кількість унікальних користувачів залишилась така ж"
   ]
  },
  {
   "cell_type": "code",
   "execution_count": 44,
   "metadata": {},
   "outputs": [
    {
     "data": {
      "text/plain": [
       "9940"
      ]
     },
     "execution_count": 44,
     "metadata": {},
     "output_type": "execute_result"
    }
   ],
   "source": [
    "submissions_data_train_first_2_days['user_id'].nunique()"
   ]
  },
  {
   "cell_type": "markdown",
   "metadata": {},
   "source": [
    "## Проаналізуємо і перетворимо дані у формат, який придатний для навчання моделі"
   ]
  },
  {
   "cell_type": "markdown",
   "metadata": {},
   "source": [
    "- кількість днів, які робив івенти +\n",
    "- кількість днів, які сабмітив +\n",
    "- чи взагалі зробив сабміт +\n",
    "- чи зробив коректний сабміт +\n",
    "- чи перший сабміт коректний -\n",
    "- чи пройшов івент +\n",
    "- набрав 40 балів за івенти ?\n",
    "- різниця між коректними і помилковими сабмітами -\n",
    "- ratio між коректними і помилковими сабмітами +\n",
    "- різниця між коректними і сумою усіх сабмітів -\n",
    "- ratio між коректними і сумою усіх сабмітів +\n",
    "- різниця між пройденими та іншими івентами -\n",
    "- ratio між пройденими та іншими івентами +\n",
    "- різниця між пройденими івентами та сумою усіх івентів -\n",
    "- ratio між пройденими івентами та сумою усіх івентів +\n",
    "- стартовий день тижня +\n",
    "- чи стартовий день вихідний +\n",
    "- стартовий місяць +\n",
    "- стартовий рік +\n",
    "- стартовий день місяця +\n",
    "- pivot_table по івентам +\n",
    "- pivot_table по сабмітам +\n",
    "- кількість унікальних івентів +\n",
    "- кількість унікальних сабмітів +\n",
    "- часовий проміжок між першим івентом і першим сабмітом -\n",
    "- середній часовий проміжок між сабмітами -\n",
    "- середній часовий проміжок між івентами -\n",
    "- сума усіх забмітів +\n",
    "- сума усіх івентів +\n",
    "\n",
    "\n",
    "- ratio між коректними сабмітами в перший і другий день\n",
    "- ratio між пройденими івентами в перший і другий день\n",
    "- сума усіх сабмітів в перший день\n",
    "- сума усіх сабмітів в другий день\n",
    "- сума усіх івентів в перший день\n",
    "- сума усіх івентів в другий день"
   ]
  },
  {
   "cell_type": "markdown",
   "metadata": {},
   "source": [
    "### Підготуємо заготовку в усіма user_id"
   ]
  },
  {
   "cell_type": "code",
   "execution_count": 45,
   "metadata": {},
   "outputs": [],
   "source": [
    "X_train = event_data_train[['user_id']] \\\n",
    "    .drop_duplicates(subset=['user_id']) \\\n",
    "    .reset_index().drop('index', axis=1)"
   ]
  },
  {
   "cell_type": "code",
   "execution_count": 46,
   "metadata": {},
   "outputs": [
    {
     "data": {
      "text/html": [
       "<div>\n",
       "<style scoped>\n",
       "    .dataframe tbody tr th:only-of-type {\n",
       "        vertical-align: middle;\n",
       "    }\n",
       "\n",
       "    .dataframe tbody tr th {\n",
       "        vertical-align: top;\n",
       "    }\n",
       "\n",
       "    .dataframe thead th {\n",
       "        text-align: right;\n",
       "    }\n",
       "</style>\n",
       "<table border=\"1\" class=\"dataframe\">\n",
       "  <thead>\n",
       "    <tr style=\"text-align: right;\">\n",
       "      <th></th>\n",
       "      <th>user_id</th>\n",
       "    </tr>\n",
       "  </thead>\n",
       "  <tbody>\n",
       "    <tr>\n",
       "      <th>0</th>\n",
       "      <td>17632</td>\n",
       "    </tr>\n",
       "    <tr>\n",
       "      <th>1</th>\n",
       "      <td>12494</td>\n",
       "    </tr>\n",
       "    <tr>\n",
       "      <th>2</th>\n",
       "      <td>442</td>\n",
       "    </tr>\n",
       "    <tr>\n",
       "      <th>3</th>\n",
       "      <td>22254</td>\n",
       "    </tr>\n",
       "    <tr>\n",
       "      <th>4</th>\n",
       "      <td>6646</td>\n",
       "    </tr>\n",
       "  </tbody>\n",
       "</table>\n",
       "</div>"
      ],
      "text/plain": [
       "   user_id\n",
       "0    17632\n",
       "1    12494\n",
       "2      442\n",
       "3    22254\n",
       "4     6646"
      ]
     },
     "execution_count": 46,
     "metadata": {},
     "output_type": "execute_result"
    }
   ],
   "source": [
    "X_train.head()"
   ]
  },
  {
   "cell_type": "markdown",
   "metadata": {},
   "source": [
    "### Додамо дату і коротку дату для \"event_data_train_first_2_days\""
   ]
  },
  {
   "cell_type": "code",
   "execution_count": 47,
   "metadata": {},
   "outputs": [
    {
     "name": "stderr",
     "output_type": "stream",
     "text": [
      "C:\\ProgramData\\Anaconda3\\lib\\site-packages\\ipykernel_launcher.py:1: SettingWithCopyWarning: \n",
      "A value is trying to be set on a copy of a slice from a DataFrame.\n",
      "Try using .loc[row_indexer,col_indexer] = value instead\n",
      "\n",
      "See the caveats in the documentation: http://pandas.pydata.org/pandas-docs/stable/indexing.html#indexing-view-versus-copy\n",
      "  \"\"\"Entry point for launching an IPython kernel.\n",
      "C:\\ProgramData\\Anaconda3\\lib\\site-packages\\ipykernel_launcher.py:2: SettingWithCopyWarning: \n",
      "A value is trying to be set on a copy of a slice from a DataFrame.\n",
      "Try using .loc[row_indexer,col_indexer] = value instead\n",
      "\n",
      "See the caveats in the documentation: http://pandas.pydata.org/pandas-docs/stable/indexing.html#indexing-view-versus-copy\n",
      "  \n"
     ]
    }
   ],
   "source": [
    "event_data_train_first_2_days['date'] = pd.to_datetime(event_data_train_first_2_days['timestamp'], unit='s')\n",
    "event_data_train_first_2_days['date_short'] = event_data_train_first_2_days['date'].dt.date"
   ]
  },
  {
   "cell_type": "code",
   "execution_count": 48,
   "metadata": {},
   "outputs": [
    {
     "data": {
      "text/html": [
       "<div>\n",
       "<style scoped>\n",
       "    .dataframe tbody tr th:only-of-type {\n",
       "        vertical-align: middle;\n",
       "    }\n",
       "\n",
       "    .dataframe tbody tr th {\n",
       "        vertical-align: top;\n",
       "    }\n",
       "\n",
       "    .dataframe thead th {\n",
       "        text-align: right;\n",
       "    }\n",
       "</style>\n",
       "<table border=\"1\" class=\"dataframe\">\n",
       "  <thead>\n",
       "    <tr style=\"text-align: right;\">\n",
       "      <th></th>\n",
       "      <th>step_id</th>\n",
       "      <th>timestamp</th>\n",
       "      <th>action</th>\n",
       "      <th>user_id</th>\n",
       "      <th>first_timestamp</th>\n",
       "      <th>1_day_timestamp</th>\n",
       "      <th>2_day_timestamp</th>\n",
       "      <th>date</th>\n",
       "      <th>date_short</th>\n",
       "    </tr>\n",
       "  </thead>\n",
       "  <tbody>\n",
       "    <tr>\n",
       "      <th>0</th>\n",
       "      <td>32815</td>\n",
       "      <td>1434340848</td>\n",
       "      <td>viewed</td>\n",
       "      <td>17632</td>\n",
       "      <td>1434340848</td>\n",
       "      <td>1.434427e+09</td>\n",
       "      <td>1434513648</td>\n",
       "      <td>2015-06-15 04:00:48</td>\n",
       "      <td>2015-06-15</td>\n",
       "    </tr>\n",
       "    <tr>\n",
       "      <th>1</th>\n",
       "      <td>32815</td>\n",
       "      <td>1434340848</td>\n",
       "      <td>passed</td>\n",
       "      <td>17632</td>\n",
       "      <td>1434340848</td>\n",
       "      <td>1.434427e+09</td>\n",
       "      <td>1434513648</td>\n",
       "      <td>2015-06-15 04:00:48</td>\n",
       "      <td>2015-06-15</td>\n",
       "    </tr>\n",
       "    <tr>\n",
       "      <th>2</th>\n",
       "      <td>32815</td>\n",
       "      <td>1434340848</td>\n",
       "      <td>discovered</td>\n",
       "      <td>17632</td>\n",
       "      <td>1434340848</td>\n",
       "      <td>1.434427e+09</td>\n",
       "      <td>1434513648</td>\n",
       "      <td>2015-06-15 04:00:48</td>\n",
       "      <td>2015-06-15</td>\n",
       "    </tr>\n",
       "    <tr>\n",
       "      <th>3</th>\n",
       "      <td>32811</td>\n",
       "      <td>1434340895</td>\n",
       "      <td>discovered</td>\n",
       "      <td>17632</td>\n",
       "      <td>1434340848</td>\n",
       "      <td>1.434427e+09</td>\n",
       "      <td>1434513648</td>\n",
       "      <td>2015-06-15 04:01:35</td>\n",
       "      <td>2015-06-15</td>\n",
       "    </tr>\n",
       "    <tr>\n",
       "      <th>4</th>\n",
       "      <td>32811</td>\n",
       "      <td>1434340895</td>\n",
       "      <td>viewed</td>\n",
       "      <td>17632</td>\n",
       "      <td>1434340848</td>\n",
       "      <td>1.434427e+09</td>\n",
       "      <td>1434513648</td>\n",
       "      <td>2015-06-15 04:01:35</td>\n",
       "      <td>2015-06-15</td>\n",
       "    </tr>\n",
       "  </tbody>\n",
       "</table>\n",
       "</div>"
      ],
      "text/plain": [
       "   step_id   timestamp      action  user_id  first_timestamp  1_day_timestamp  \\\n",
       "0    32815  1434340848      viewed    17632       1434340848     1.434427e+09   \n",
       "1    32815  1434340848      passed    17632       1434340848     1.434427e+09   \n",
       "2    32815  1434340848  discovered    17632       1434340848     1.434427e+09   \n",
       "3    32811  1434340895  discovered    17632       1434340848     1.434427e+09   \n",
       "4    32811  1434340895      viewed    17632       1434340848     1.434427e+09   \n",
       "\n",
       "   2_day_timestamp                date  date_short  \n",
       "0       1434513648 2015-06-15 04:00:48  2015-06-15  \n",
       "1       1434513648 2015-06-15 04:00:48  2015-06-15  \n",
       "2       1434513648 2015-06-15 04:00:48  2015-06-15  \n",
       "3       1434513648 2015-06-15 04:01:35  2015-06-15  \n",
       "4       1434513648 2015-06-15 04:01:35  2015-06-15  "
      ]
     },
     "execution_count": 48,
     "metadata": {},
     "output_type": "execute_result"
    }
   ],
   "source": [
    "event_data_train_first_2_days.head()"
   ]
  },
  {
   "cell_type": "markdown",
   "metadata": {},
   "source": [
    "Аналогічно для **submissions_data_train_first_2_days**"
   ]
  },
  {
   "cell_type": "code",
   "execution_count": 49,
   "metadata": {},
   "outputs": [
    {
     "name": "stderr",
     "output_type": "stream",
     "text": [
      "C:\\ProgramData\\Anaconda3\\lib\\site-packages\\ipykernel_launcher.py:1: SettingWithCopyWarning: \n",
      "A value is trying to be set on a copy of a slice from a DataFrame.\n",
      "Try using .loc[row_indexer,col_indexer] = value instead\n",
      "\n",
      "See the caveats in the documentation: http://pandas.pydata.org/pandas-docs/stable/indexing.html#indexing-view-versus-copy\n",
      "  \"\"\"Entry point for launching an IPython kernel.\n",
      "C:\\ProgramData\\Anaconda3\\lib\\site-packages\\ipykernel_launcher.py:2: SettingWithCopyWarning: \n",
      "A value is trying to be set on a copy of a slice from a DataFrame.\n",
      "Try using .loc[row_indexer,col_indexer] = value instead\n",
      "\n",
      "See the caveats in the documentation: http://pandas.pydata.org/pandas-docs/stable/indexing.html#indexing-view-versus-copy\n",
      "  \n"
     ]
    }
   ],
   "source": [
    "submissions_data_train_first_2_days['date'] = pd.to_datetime(submissions_data_train_first_2_days['timestamp'], unit='s')\n",
    "submissions_data_train_first_2_days['date_short'] = submissions_data_train_first_2_days['date'].dt.date"
   ]
  },
  {
   "cell_type": "code",
   "execution_count": 50,
   "metadata": {},
   "outputs": [
    {
     "data": {
      "text/html": [
       "<div>\n",
       "<style scoped>\n",
       "    .dataframe tbody tr th:only-of-type {\n",
       "        vertical-align: middle;\n",
       "    }\n",
       "\n",
       "    .dataframe tbody tr th {\n",
       "        vertical-align: top;\n",
       "    }\n",
       "\n",
       "    .dataframe thead th {\n",
       "        text-align: right;\n",
       "    }\n",
       "</style>\n",
       "<table border=\"1\" class=\"dataframe\">\n",
       "  <thead>\n",
       "    <tr style=\"text-align: right;\">\n",
       "      <th></th>\n",
       "      <th>step_id</th>\n",
       "      <th>timestamp</th>\n",
       "      <th>submission_status</th>\n",
       "      <th>user_id</th>\n",
       "      <th>first_timestamp</th>\n",
       "      <th>1_day_timestamp</th>\n",
       "      <th>2_day_timestamp</th>\n",
       "      <th>date</th>\n",
       "      <th>date_short</th>\n",
       "    </tr>\n",
       "  </thead>\n",
       "  <tbody>\n",
       "    <tr>\n",
       "      <th>0</th>\n",
       "      <td>31971</td>\n",
       "      <td>1434349275</td>\n",
       "      <td>correct</td>\n",
       "      <td>15853</td>\n",
       "      <td>1434346056</td>\n",
       "      <td>1.434432e+09</td>\n",
       "      <td>1434518856</td>\n",
       "      <td>2015-06-15 06:21:15</td>\n",
       "      <td>2015-06-15</td>\n",
       "    </tr>\n",
       "    <tr>\n",
       "      <th>1</th>\n",
       "      <td>31972</td>\n",
       "      <td>1434348300</td>\n",
       "      <td>correct</td>\n",
       "      <td>15853</td>\n",
       "      <td>1434346056</td>\n",
       "      <td>1.434432e+09</td>\n",
       "      <td>1434518856</td>\n",
       "      <td>2015-06-15 06:05:00</td>\n",
       "      <td>2015-06-15</td>\n",
       "    </tr>\n",
       "    <tr>\n",
       "      <th>4</th>\n",
       "      <td>31976</td>\n",
       "      <td>1434348123</td>\n",
       "      <td>wrong</td>\n",
       "      <td>15853</td>\n",
       "      <td>1434346056</td>\n",
       "      <td>1.434432e+09</td>\n",
       "      <td>1434518856</td>\n",
       "      <td>2015-06-15 06:02:03</td>\n",
       "      <td>2015-06-15</td>\n",
       "    </tr>\n",
       "    <tr>\n",
       "      <th>5</th>\n",
       "      <td>31976</td>\n",
       "      <td>1434348188</td>\n",
       "      <td>correct</td>\n",
       "      <td>15853</td>\n",
       "      <td>1434346056</td>\n",
       "      <td>1.434432e+09</td>\n",
       "      <td>1434518856</td>\n",
       "      <td>2015-06-15 06:03:08</td>\n",
       "      <td>2015-06-15</td>\n",
       "    </tr>\n",
       "    <tr>\n",
       "      <th>7</th>\n",
       "      <td>31977</td>\n",
       "      <td>1434347371</td>\n",
       "      <td>correct</td>\n",
       "      <td>15853</td>\n",
       "      <td>1434346056</td>\n",
       "      <td>1.434432e+09</td>\n",
       "      <td>1434518856</td>\n",
       "      <td>2015-06-15 05:49:31</td>\n",
       "      <td>2015-06-15</td>\n",
       "    </tr>\n",
       "  </tbody>\n",
       "</table>\n",
       "</div>"
      ],
      "text/plain": [
       "   step_id   timestamp submission_status  user_id  first_timestamp  \\\n",
       "0    31971  1434349275           correct    15853       1434346056   \n",
       "1    31972  1434348300           correct    15853       1434346056   \n",
       "4    31976  1434348123             wrong    15853       1434346056   \n",
       "5    31976  1434348188           correct    15853       1434346056   \n",
       "7    31977  1434347371           correct    15853       1434346056   \n",
       "\n",
       "   1_day_timestamp  2_day_timestamp                date  date_short  \n",
       "0     1.434432e+09       1434518856 2015-06-15 06:21:15  2015-06-15  \n",
       "1     1.434432e+09       1434518856 2015-06-15 06:05:00  2015-06-15  \n",
       "4     1.434432e+09       1434518856 2015-06-15 06:02:03  2015-06-15  \n",
       "5     1.434432e+09       1434518856 2015-06-15 06:03:08  2015-06-15  \n",
       "7     1.434432e+09       1434518856 2015-06-15 05:49:31  2015-06-15  "
      ]
     },
     "execution_count": 50,
     "metadata": {},
     "output_type": "execute_result"
    }
   ],
   "source": [
    "submissions_data_train_first_2_days.head()"
   ]
  },
  {
   "cell_type": "markdown",
   "metadata": {},
   "source": [
    "### Порахуємо кількість унікальних днів, які користувач провів на курсі"
   ]
  },
  {
   "cell_type": "code",
   "execution_count": 51,
   "metadata": {},
   "outputs": [
    {
     "data": {
      "text/html": [
       "<div>\n",
       "<style scoped>\n",
       "    .dataframe tbody tr th:only-of-type {\n",
       "        vertical-align: middle;\n",
       "    }\n",
       "\n",
       "    .dataframe tbody tr th {\n",
       "        vertical-align: top;\n",
       "    }\n",
       "\n",
       "    .dataframe thead th {\n",
       "        text-align: right;\n",
       "    }\n",
       "</style>\n",
       "<table border=\"1\" class=\"dataframe\">\n",
       "  <thead>\n",
       "    <tr style=\"text-align: right;\">\n",
       "      <th></th>\n",
       "      <th>user_id</th>\n",
       "      <th>date_short</th>\n",
       "    </tr>\n",
       "  </thead>\n",
       "  <tbody>\n",
       "    <tr>\n",
       "      <th>0</th>\n",
       "      <td>1</td>\n",
       "      <td>1</td>\n",
       "    </tr>\n",
       "    <tr>\n",
       "      <th>1</th>\n",
       "      <td>2</td>\n",
       "      <td>1</td>\n",
       "    </tr>\n",
       "    <tr>\n",
       "      <th>2</th>\n",
       "      <td>3</td>\n",
       "      <td>1</td>\n",
       "    </tr>\n",
       "    <tr>\n",
       "      <th>3</th>\n",
       "      <td>5</td>\n",
       "      <td>1</td>\n",
       "    </tr>\n",
       "    <tr>\n",
       "      <th>4</th>\n",
       "      <td>7</td>\n",
       "      <td>1</td>\n",
       "    </tr>\n",
       "  </tbody>\n",
       "</table>\n",
       "</div>"
      ],
      "text/plain": [
       "   user_id  date_short\n",
       "0        1           1\n",
       "1        2           1\n",
       "2        3           1\n",
       "3        5           1\n",
       "4        7           1"
      ]
     },
     "execution_count": 51,
     "metadata": {},
     "output_type": "execute_result"
    }
   ],
   "source": [
    "event_unique_day = event_data_train_first_2_days.groupby('user_id')['date_short'].nunique().to_frame().reset_index()\n",
    "event_unique_day.head()"
   ]
  },
  {
   "cell_type": "code",
   "execution_count": 52,
   "metadata": {},
   "outputs": [
    {
     "data": {
      "text/plain": [
       "1    14225\n",
       "2     3420\n",
       "3     1589\n",
       "Name: date_short, dtype: int64"
      ]
     },
     "execution_count": 52,
     "metadata": {},
     "output_type": "execute_result"
    }
   ],
   "source": [
    "event_unique_day['date_short'].value_counts()"
   ]
  },
  {
   "cell_type": "code",
   "execution_count": 53,
   "metadata": {},
   "outputs": [],
   "source": [
    "X_train = X_train.merge(event_unique_day, on='user_id', how='outer')"
   ]
  },
  {
   "cell_type": "code",
   "execution_count": 54,
   "metadata": {},
   "outputs": [
    {
     "data": {
      "text/html": [
       "<div>\n",
       "<style scoped>\n",
       "    .dataframe tbody tr th:only-of-type {\n",
       "        vertical-align: middle;\n",
       "    }\n",
       "\n",
       "    .dataframe tbody tr th {\n",
       "        vertical-align: top;\n",
       "    }\n",
       "\n",
       "    .dataframe thead th {\n",
       "        text-align: right;\n",
       "    }\n",
       "</style>\n",
       "<table border=\"1\" class=\"dataframe\">\n",
       "  <thead>\n",
       "    <tr style=\"text-align: right;\">\n",
       "      <th></th>\n",
       "      <th>user_id</th>\n",
       "      <th>date_short</th>\n",
       "    </tr>\n",
       "  </thead>\n",
       "  <tbody>\n",
       "    <tr>\n",
       "      <th>0</th>\n",
       "      <td>17632</td>\n",
       "      <td>2</td>\n",
       "    </tr>\n",
       "    <tr>\n",
       "      <th>1</th>\n",
       "      <td>12494</td>\n",
       "      <td>2</td>\n",
       "    </tr>\n",
       "    <tr>\n",
       "      <th>2</th>\n",
       "      <td>442</td>\n",
       "      <td>1</td>\n",
       "    </tr>\n",
       "    <tr>\n",
       "      <th>3</th>\n",
       "      <td>22254</td>\n",
       "      <td>2</td>\n",
       "    </tr>\n",
       "    <tr>\n",
       "      <th>4</th>\n",
       "      <td>6646</td>\n",
       "      <td>1</td>\n",
       "    </tr>\n",
       "  </tbody>\n",
       "</table>\n",
       "</div>"
      ],
      "text/plain": [
       "   user_id  date_short\n",
       "0    17632           2\n",
       "1    12494           2\n",
       "2      442           1\n",
       "3    22254           2\n",
       "4     6646           1"
      ]
     },
     "execution_count": 54,
     "metadata": {},
     "output_type": "execute_result"
    }
   ],
   "source": [
    "X_train.head()"
   ]
  },
  {
   "cell_type": "markdown",
   "metadata": {},
   "source": [
    "Аналогічно для **submissions_data_train_first_2_days**"
   ]
  },
  {
   "cell_type": "code",
   "execution_count": 55,
   "metadata": {},
   "outputs": [
    {
     "data": {
      "text/html": [
       "<div>\n",
       "<style scoped>\n",
       "    .dataframe tbody tr th:only-of-type {\n",
       "        vertical-align: middle;\n",
       "    }\n",
       "\n",
       "    .dataframe tbody tr th {\n",
       "        vertical-align: top;\n",
       "    }\n",
       "\n",
       "    .dataframe thead th {\n",
       "        text-align: right;\n",
       "    }\n",
       "</style>\n",
       "<table border=\"1\" class=\"dataframe\">\n",
       "  <thead>\n",
       "    <tr style=\"text-align: right;\">\n",
       "      <th></th>\n",
       "      <th>user_id</th>\n",
       "      <th>date_short</th>\n",
       "    </tr>\n",
       "  </thead>\n",
       "  <tbody>\n",
       "    <tr>\n",
       "      <th>0</th>\n",
       "      <td>2</td>\n",
       "      <td>1</td>\n",
       "    </tr>\n",
       "    <tr>\n",
       "      <th>1</th>\n",
       "      <td>3</td>\n",
       "      <td>1</td>\n",
       "    </tr>\n",
       "    <tr>\n",
       "      <th>2</th>\n",
       "      <td>5</td>\n",
       "      <td>1</td>\n",
       "    </tr>\n",
       "    <tr>\n",
       "      <th>3</th>\n",
       "      <td>8</td>\n",
       "      <td>1</td>\n",
       "    </tr>\n",
       "    <tr>\n",
       "      <th>4</th>\n",
       "      <td>14</td>\n",
       "      <td>1</td>\n",
       "    </tr>\n",
       "  </tbody>\n",
       "</table>\n",
       "</div>"
      ],
      "text/plain": [
       "   user_id  date_short\n",
       "0        2           1\n",
       "1        3           1\n",
       "2        5           1\n",
       "3        8           1\n",
       "4       14           1"
      ]
     },
     "execution_count": 55,
     "metadata": {},
     "output_type": "execute_result"
    }
   ],
   "source": [
    "submissions_unique_day = submissions_data_train_first_2_days.groupby('user_id')['date_short'].nunique().to_frame().reset_index()\n",
    "submissions_unique_day.head()"
   ]
  },
  {
   "cell_type": "code",
   "execution_count": 56,
   "metadata": {},
   "outputs": [
    {
     "data": {
      "text/plain": [
       "1    6897\n",
       "2    2284\n",
       "3     759\n",
       "Name: date_short, dtype: int64"
      ]
     },
     "execution_count": 56,
     "metadata": {},
     "output_type": "execute_result"
    }
   ],
   "source": [
    "submissions_unique_day['date_short'].value_counts()"
   ]
  },
  {
   "cell_type": "code",
   "execution_count": 57,
   "metadata": {},
   "outputs": [],
   "source": [
    "X_train = X_train.merge(submissions_unique_day, on='user_id', how='outer')"
   ]
  },
  {
   "cell_type": "code",
   "execution_count": 58,
   "metadata": {},
   "outputs": [
    {
     "data": {
      "text/html": [
       "<div>\n",
       "<style scoped>\n",
       "    .dataframe tbody tr th:only-of-type {\n",
       "        vertical-align: middle;\n",
       "    }\n",
       "\n",
       "    .dataframe tbody tr th {\n",
       "        vertical-align: top;\n",
       "    }\n",
       "\n",
       "    .dataframe thead th {\n",
       "        text-align: right;\n",
       "    }\n",
       "</style>\n",
       "<table border=\"1\" class=\"dataframe\">\n",
       "  <thead>\n",
       "    <tr style=\"text-align: right;\">\n",
       "      <th></th>\n",
       "      <th>user_id</th>\n",
       "      <th>date_short_x</th>\n",
       "      <th>date_short_y</th>\n",
       "    </tr>\n",
       "  </thead>\n",
       "  <tbody>\n",
       "    <tr>\n",
       "      <th>0</th>\n",
       "      <td>17632</td>\n",
       "      <td>2</td>\n",
       "      <td>1.0</td>\n",
       "    </tr>\n",
       "    <tr>\n",
       "      <th>1</th>\n",
       "      <td>12494</td>\n",
       "      <td>2</td>\n",
       "      <td>1.0</td>\n",
       "    </tr>\n",
       "    <tr>\n",
       "      <th>2</th>\n",
       "      <td>442</td>\n",
       "      <td>1</td>\n",
       "      <td>1.0</td>\n",
       "    </tr>\n",
       "    <tr>\n",
       "      <th>3</th>\n",
       "      <td>22254</td>\n",
       "      <td>2</td>\n",
       "      <td>1.0</td>\n",
       "    </tr>\n",
       "    <tr>\n",
       "      <th>4</th>\n",
       "      <td>6646</td>\n",
       "      <td>1</td>\n",
       "      <td>1.0</td>\n",
       "    </tr>\n",
       "  </tbody>\n",
       "</table>\n",
       "</div>"
      ],
      "text/plain": [
       "   user_id  date_short_x  date_short_y\n",
       "0    17632             2           1.0\n",
       "1    12494             2           1.0\n",
       "2      442             1           1.0\n",
       "3    22254             2           1.0\n",
       "4     6646             1           1.0"
      ]
     },
     "execution_count": 58,
     "metadata": {},
     "output_type": "execute_result"
    }
   ],
   "source": [
    "X_train.head()"
   ]
  },
  {
   "cell_type": "code",
   "execution_count": 59,
   "metadata": {},
   "outputs": [],
   "source": [
    "X_train = X_train.rename(columns={'date_short_x': 'event_unique_days', 'date_short_y': 'subm_unique_days'})"
   ]
  },
  {
   "cell_type": "code",
   "execution_count": 60,
   "metadata": {},
   "outputs": [
    {
     "data": {
      "text/html": [
       "<div>\n",
       "<style scoped>\n",
       "    .dataframe tbody tr th:only-of-type {\n",
       "        vertical-align: middle;\n",
       "    }\n",
       "\n",
       "    .dataframe tbody tr th {\n",
       "        vertical-align: top;\n",
       "    }\n",
       "\n",
       "    .dataframe thead th {\n",
       "        text-align: right;\n",
       "    }\n",
       "</style>\n",
       "<table border=\"1\" class=\"dataframe\">\n",
       "  <thead>\n",
       "    <tr style=\"text-align: right;\">\n",
       "      <th></th>\n",
       "      <th>user_id</th>\n",
       "      <th>event_unique_days</th>\n",
       "      <th>subm_unique_days</th>\n",
       "    </tr>\n",
       "  </thead>\n",
       "  <tbody>\n",
       "    <tr>\n",
       "      <th>0</th>\n",
       "      <td>17632</td>\n",
       "      <td>2</td>\n",
       "      <td>1.0</td>\n",
       "    </tr>\n",
       "    <tr>\n",
       "      <th>1</th>\n",
       "      <td>12494</td>\n",
       "      <td>2</td>\n",
       "      <td>1.0</td>\n",
       "    </tr>\n",
       "    <tr>\n",
       "      <th>2</th>\n",
       "      <td>442</td>\n",
       "      <td>1</td>\n",
       "      <td>1.0</td>\n",
       "    </tr>\n",
       "    <tr>\n",
       "      <th>3</th>\n",
       "      <td>22254</td>\n",
       "      <td>2</td>\n",
       "      <td>1.0</td>\n",
       "    </tr>\n",
       "    <tr>\n",
       "      <th>4</th>\n",
       "      <td>6646</td>\n",
       "      <td>1</td>\n",
       "      <td>1.0</td>\n",
       "    </tr>\n",
       "  </tbody>\n",
       "</table>\n",
       "</div>"
      ],
      "text/plain": [
       "   user_id  event_unique_days  subm_unique_days\n",
       "0    17632                  2               1.0\n",
       "1    12494                  2               1.0\n",
       "2      442                  1               1.0\n",
       "3    22254                  2               1.0\n",
       "4     6646                  1               1.0"
      ]
     },
     "execution_count": 60,
     "metadata": {},
     "output_type": "execute_result"
    }
   ],
   "source": [
    "X_train.head()"
   ]
  },
  {
   "cell_type": "code",
   "execution_count": 61,
   "metadata": {},
   "outputs": [
    {
     "data": {
      "text/plain": [
       "user_id                 0\n",
       "event_unique_days       0\n",
       "subm_unique_days     9294\n",
       "dtype: int64"
      ]
     },
     "execution_count": 61,
     "metadata": {},
     "output_type": "execute_result"
    }
   ],
   "source": [
    "X_train.isnull().sum()"
   ]
  },
  {
   "cell_type": "markdown",
   "metadata": {},
   "source": [
    "### Порахуємо скільки унікальних степів зробив користувач"
   ]
  },
  {
   "cell_type": "code",
   "execution_count": 62,
   "metadata": {},
   "outputs": [],
   "source": [
    "event_step_tried = event_data_train_first_2_days.groupby('user_id')['step_id'].nunique().to_frame().reset_index() \\\n",
    "    .rename(columns={'step_id': 'event_steps_tried'})"
   ]
  },
  {
   "cell_type": "code",
   "execution_count": 63,
   "metadata": {},
   "outputs": [
    {
     "data": {
      "text/html": [
       "<div>\n",
       "<style scoped>\n",
       "    .dataframe tbody tr th:only-of-type {\n",
       "        vertical-align: middle;\n",
       "    }\n",
       "\n",
       "    .dataframe tbody tr th {\n",
       "        vertical-align: top;\n",
       "    }\n",
       "\n",
       "    .dataframe thead th {\n",
       "        text-align: right;\n",
       "    }\n",
       "</style>\n",
       "<table border=\"1\" class=\"dataframe\">\n",
       "  <thead>\n",
       "    <tr style=\"text-align: right;\">\n",
       "      <th></th>\n",
       "      <th>user_id</th>\n",
       "      <th>event_steps_tried</th>\n",
       "    </tr>\n",
       "  </thead>\n",
       "  <tbody>\n",
       "    <tr>\n",
       "      <th>0</th>\n",
       "      <td>1</td>\n",
       "      <td>1</td>\n",
       "    </tr>\n",
       "    <tr>\n",
       "      <th>1</th>\n",
       "      <td>2</td>\n",
       "      <td>9</td>\n",
       "    </tr>\n",
       "    <tr>\n",
       "      <th>2</th>\n",
       "      <td>3</td>\n",
       "      <td>15</td>\n",
       "    </tr>\n",
       "    <tr>\n",
       "      <th>3</th>\n",
       "      <td>5</td>\n",
       "      <td>1</td>\n",
       "    </tr>\n",
       "    <tr>\n",
       "      <th>4</th>\n",
       "      <td>7</td>\n",
       "      <td>1</td>\n",
       "    </tr>\n",
       "  </tbody>\n",
       "</table>\n",
       "</div>"
      ],
      "text/plain": [
       "   user_id  event_steps_tried\n",
       "0        1                  1\n",
       "1        2                  9\n",
       "2        3                 15\n",
       "3        5                  1\n",
       "4        7                  1"
      ]
     },
     "execution_count": 63,
     "metadata": {},
     "output_type": "execute_result"
    }
   ],
   "source": [
    "event_step_tried.head()"
   ]
  },
  {
   "cell_type": "code",
   "execution_count": 64,
   "metadata": {},
   "outputs": [],
   "source": [
    "X_train = X_train.merge(event_step_tried, on='user_id', how='outer')"
   ]
  },
  {
   "cell_type": "code",
   "execution_count": 65,
   "metadata": {},
   "outputs": [
    {
     "data": {
      "text/html": [
       "<div>\n",
       "<style scoped>\n",
       "    .dataframe tbody tr th:only-of-type {\n",
       "        vertical-align: middle;\n",
       "    }\n",
       "\n",
       "    .dataframe tbody tr th {\n",
       "        vertical-align: top;\n",
       "    }\n",
       "\n",
       "    .dataframe thead th {\n",
       "        text-align: right;\n",
       "    }\n",
       "</style>\n",
       "<table border=\"1\" class=\"dataframe\">\n",
       "  <thead>\n",
       "    <tr style=\"text-align: right;\">\n",
       "      <th></th>\n",
       "      <th>user_id</th>\n",
       "      <th>event_unique_days</th>\n",
       "      <th>subm_unique_days</th>\n",
       "      <th>event_steps_tried</th>\n",
       "    </tr>\n",
       "  </thead>\n",
       "  <tbody>\n",
       "    <tr>\n",
       "      <th>0</th>\n",
       "      <td>17632</td>\n",
       "      <td>2</td>\n",
       "      <td>1.0</td>\n",
       "      <td>17</td>\n",
       "    </tr>\n",
       "    <tr>\n",
       "      <th>1</th>\n",
       "      <td>12494</td>\n",
       "      <td>2</td>\n",
       "      <td>1.0</td>\n",
       "      <td>17</td>\n",
       "    </tr>\n",
       "    <tr>\n",
       "      <th>2</th>\n",
       "      <td>442</td>\n",
       "      <td>1</td>\n",
       "      <td>1.0</td>\n",
       "      <td>19</td>\n",
       "    </tr>\n",
       "    <tr>\n",
       "      <th>3</th>\n",
       "      <td>22254</td>\n",
       "      <td>2</td>\n",
       "      <td>1.0</td>\n",
       "      <td>27</td>\n",
       "    </tr>\n",
       "    <tr>\n",
       "      <th>4</th>\n",
       "      <td>6646</td>\n",
       "      <td>1</td>\n",
       "      <td>1.0</td>\n",
       "      <td>2</td>\n",
       "    </tr>\n",
       "  </tbody>\n",
       "</table>\n",
       "</div>"
      ],
      "text/plain": [
       "   user_id  event_unique_days  subm_unique_days  event_steps_tried\n",
       "0    17632                  2               1.0                 17\n",
       "1    12494                  2               1.0                 17\n",
       "2      442                  1               1.0                 19\n",
       "3    22254                  2               1.0                 27\n",
       "4     6646                  1               1.0                  2"
      ]
     },
     "execution_count": 65,
     "metadata": {},
     "output_type": "execute_result"
    }
   ],
   "source": [
    "X_train.head()"
   ]
  },
  {
   "cell_type": "markdown",
   "metadata": {},
   "source": [
    "Аналогічно для **submissions_data_train_first_2_days**"
   ]
  },
  {
   "cell_type": "code",
   "execution_count": 66,
   "metadata": {},
   "outputs": [],
   "source": [
    "subm_step_tried = submissions_data_train_first_2_days.groupby('user_id')['step_id'].nunique().to_frame().reset_index() \\\n",
    "    .rename(columns={'step_id': 'subm_step_tried'})"
   ]
  },
  {
   "cell_type": "code",
   "execution_count": 67,
   "metadata": {},
   "outputs": [
    {
     "data": {
      "text/html": [
       "<div>\n",
       "<style scoped>\n",
       "    .dataframe tbody tr th:only-of-type {\n",
       "        vertical-align: middle;\n",
       "    }\n",
       "\n",
       "    .dataframe tbody tr th {\n",
       "        vertical-align: top;\n",
       "    }\n",
       "\n",
       "    .dataframe thead th {\n",
       "        text-align: right;\n",
       "    }\n",
       "</style>\n",
       "<table border=\"1\" class=\"dataframe\">\n",
       "  <thead>\n",
       "    <tr style=\"text-align: right;\">\n",
       "      <th></th>\n",
       "      <th>user_id</th>\n",
       "      <th>subm_step_tried</th>\n",
       "    </tr>\n",
       "  </thead>\n",
       "  <tbody>\n",
       "    <tr>\n",
       "      <th>0</th>\n",
       "      <td>2</td>\n",
       "      <td>2</td>\n",
       "    </tr>\n",
       "    <tr>\n",
       "      <th>1</th>\n",
       "      <td>3</td>\n",
       "      <td>4</td>\n",
       "    </tr>\n",
       "    <tr>\n",
       "      <th>2</th>\n",
       "      <td>5</td>\n",
       "      <td>2</td>\n",
       "    </tr>\n",
       "    <tr>\n",
       "      <th>3</th>\n",
       "      <td>8</td>\n",
       "      <td>11</td>\n",
       "    </tr>\n",
       "    <tr>\n",
       "      <th>4</th>\n",
       "      <td>14</td>\n",
       "      <td>1</td>\n",
       "    </tr>\n",
       "  </tbody>\n",
       "</table>\n",
       "</div>"
      ],
      "text/plain": [
       "   user_id  subm_step_tried\n",
       "0        2                2\n",
       "1        3                4\n",
       "2        5                2\n",
       "3        8               11\n",
       "4       14                1"
      ]
     },
     "execution_count": 67,
     "metadata": {},
     "output_type": "execute_result"
    }
   ],
   "source": [
    "subm_step_tried.head()"
   ]
  },
  {
   "cell_type": "code",
   "execution_count": 68,
   "metadata": {},
   "outputs": [],
   "source": [
    "X_train = X_train.merge(subm_step_tried, on='user_id', how='outer')"
   ]
  },
  {
   "cell_type": "code",
   "execution_count": 69,
   "metadata": {},
   "outputs": [
    {
     "data": {
      "text/html": [
       "<div>\n",
       "<style scoped>\n",
       "    .dataframe tbody tr th:only-of-type {\n",
       "        vertical-align: middle;\n",
       "    }\n",
       "\n",
       "    .dataframe tbody tr th {\n",
       "        vertical-align: top;\n",
       "    }\n",
       "\n",
       "    .dataframe thead th {\n",
       "        text-align: right;\n",
       "    }\n",
       "</style>\n",
       "<table border=\"1\" class=\"dataframe\">\n",
       "  <thead>\n",
       "    <tr style=\"text-align: right;\">\n",
       "      <th></th>\n",
       "      <th>user_id</th>\n",
       "      <th>event_unique_days</th>\n",
       "      <th>subm_unique_days</th>\n",
       "      <th>event_steps_tried</th>\n",
       "      <th>subm_step_tried</th>\n",
       "    </tr>\n",
       "  </thead>\n",
       "  <tbody>\n",
       "    <tr>\n",
       "      <th>0</th>\n",
       "      <td>17632</td>\n",
       "      <td>2</td>\n",
       "      <td>1.0</td>\n",
       "      <td>17</td>\n",
       "      <td>2.0</td>\n",
       "    </tr>\n",
       "    <tr>\n",
       "      <th>1</th>\n",
       "      <td>12494</td>\n",
       "      <td>2</td>\n",
       "      <td>1.0</td>\n",
       "      <td>17</td>\n",
       "      <td>4.0</td>\n",
       "    </tr>\n",
       "    <tr>\n",
       "      <th>2</th>\n",
       "      <td>442</td>\n",
       "      <td>1</td>\n",
       "      <td>1.0</td>\n",
       "      <td>19</td>\n",
       "      <td>6.0</td>\n",
       "    </tr>\n",
       "    <tr>\n",
       "      <th>3</th>\n",
       "      <td>22254</td>\n",
       "      <td>2</td>\n",
       "      <td>1.0</td>\n",
       "      <td>27</td>\n",
       "      <td>8.0</td>\n",
       "    </tr>\n",
       "    <tr>\n",
       "      <th>4</th>\n",
       "      <td>6646</td>\n",
       "      <td>1</td>\n",
       "      <td>1.0</td>\n",
       "      <td>2</td>\n",
       "      <td>2.0</td>\n",
       "    </tr>\n",
       "  </tbody>\n",
       "</table>\n",
       "</div>"
      ],
      "text/plain": [
       "   user_id  event_unique_days  subm_unique_days  event_steps_tried  \\\n",
       "0    17632                  2               1.0                 17   \n",
       "1    12494                  2               1.0                 17   \n",
       "2      442                  1               1.0                 19   \n",
       "3    22254                  2               1.0                 27   \n",
       "4     6646                  1               1.0                  2   \n",
       "\n",
       "   subm_step_tried  \n",
       "0              2.0  \n",
       "1              4.0  \n",
       "2              6.0  \n",
       "3              8.0  \n",
       "4              2.0  "
      ]
     },
     "execution_count": 69,
     "metadata": {},
     "output_type": "execute_result"
    }
   ],
   "source": [
    "X_train.head()"
   ]
  },
  {
   "cell_type": "code",
   "execution_count": 70,
   "metadata": {},
   "outputs": [
    {
     "data": {
      "text/plain": [
       "user_id                 0\n",
       "event_unique_days       0\n",
       "subm_unique_days     9294\n",
       "event_steps_tried       0\n",
       "subm_step_tried      9294\n",
       "dtype: int64"
      ]
     },
     "execution_count": 70,
     "metadata": {},
     "output_type": "execute_result"
    }
   ],
   "source": [
    "X_train.isnull().sum()"
   ]
  },
  {
   "cell_type": "markdown",
   "metadata": {},
   "source": [
    "### Порахуємо івенти по їх типам"
   ]
  },
  {
   "cell_type": "code",
   "execution_count": 71,
   "metadata": {},
   "outputs": [],
   "source": [
    "event_action = pd.crosstab(event_data_train_first_2_days['user_id'], event_data_train_first_2_days['action']).reset_index()"
   ]
  },
  {
   "cell_type": "code",
   "execution_count": 72,
   "metadata": {},
   "outputs": [
    {
     "data": {
      "text/html": [
       "<div>\n",
       "<style scoped>\n",
       "    .dataframe tbody tr th:only-of-type {\n",
       "        vertical-align: middle;\n",
       "    }\n",
       "\n",
       "    .dataframe tbody tr th {\n",
       "        vertical-align: top;\n",
       "    }\n",
       "\n",
       "    .dataframe thead th {\n",
       "        text-align: right;\n",
       "    }\n",
       "</style>\n",
       "<table border=\"1\" class=\"dataframe\">\n",
       "  <thead>\n",
       "    <tr style=\"text-align: right;\">\n",
       "      <th>action</th>\n",
       "      <th>user_id</th>\n",
       "      <th>discovered</th>\n",
       "      <th>passed</th>\n",
       "      <th>started_attempt</th>\n",
       "      <th>viewed</th>\n",
       "    </tr>\n",
       "  </thead>\n",
       "  <tbody>\n",
       "    <tr>\n",
       "      <th>0</th>\n",
       "      <td>1</td>\n",
       "      <td>1</td>\n",
       "      <td>0</td>\n",
       "      <td>0</td>\n",
       "      <td>1</td>\n",
       "    </tr>\n",
       "    <tr>\n",
       "      <th>1</th>\n",
       "      <td>2</td>\n",
       "      <td>9</td>\n",
       "      <td>9</td>\n",
       "      <td>2</td>\n",
       "      <td>9</td>\n",
       "    </tr>\n",
       "    <tr>\n",
       "      <th>2</th>\n",
       "      <td>3</td>\n",
       "      <td>15</td>\n",
       "      <td>15</td>\n",
       "      <td>4</td>\n",
       "      <td>20</td>\n",
       "    </tr>\n",
       "    <tr>\n",
       "      <th>3</th>\n",
       "      <td>5</td>\n",
       "      <td>1</td>\n",
       "      <td>1</td>\n",
       "      <td>0</td>\n",
       "      <td>1</td>\n",
       "    </tr>\n",
       "    <tr>\n",
       "      <th>4</th>\n",
       "      <td>7</td>\n",
       "      <td>1</td>\n",
       "      <td>1</td>\n",
       "      <td>0</td>\n",
       "      <td>1</td>\n",
       "    </tr>\n",
       "  </tbody>\n",
       "</table>\n",
       "</div>"
      ],
      "text/plain": [
       "action  user_id  discovered  passed  started_attempt  viewed\n",
       "0             1           1       0                0       1\n",
       "1             2           9       9                2       9\n",
       "2             3          15      15                4      20\n",
       "3             5           1       1                0       1\n",
       "4             7           1       1                0       1"
      ]
     },
     "execution_count": 72,
     "metadata": {},
     "output_type": "execute_result"
    }
   ],
   "source": [
    "event_action.head()"
   ]
  },
  {
   "cell_type": "markdown",
   "metadata": {},
   "source": [
    "Порахумо ratio між **passed** і (**discovered, viewed, started_attempt**)"
   ]
  },
  {
   "cell_type": "code",
   "execution_count": 73,
   "metadata": {},
   "outputs": [],
   "source": [
    "event_action['passed_ratio'] = event_action['passed'] / (event_action['passed'] + event_action['discovered'] \\\n",
    "                                                         + event_action['started_attempt'] \\\n",
    "                                                         + event_action['viewed'])"
   ]
  },
  {
   "cell_type": "code",
   "execution_count": 74,
   "metadata": {},
   "outputs": [
    {
     "data": {
      "text/html": [
       "<div>\n",
       "<style scoped>\n",
       "    .dataframe tbody tr th:only-of-type {\n",
       "        vertical-align: middle;\n",
       "    }\n",
       "\n",
       "    .dataframe tbody tr th {\n",
       "        vertical-align: top;\n",
       "    }\n",
       "\n",
       "    .dataframe thead th {\n",
       "        text-align: right;\n",
       "    }\n",
       "</style>\n",
       "<table border=\"1\" class=\"dataframe\">\n",
       "  <thead>\n",
       "    <tr style=\"text-align: right;\">\n",
       "      <th>action</th>\n",
       "      <th>user_id</th>\n",
       "      <th>discovered</th>\n",
       "      <th>passed</th>\n",
       "      <th>started_attempt</th>\n",
       "      <th>viewed</th>\n",
       "      <th>passed_ratio</th>\n",
       "    </tr>\n",
       "  </thead>\n",
       "  <tbody>\n",
       "    <tr>\n",
       "      <th>0</th>\n",
       "      <td>1</td>\n",
       "      <td>1</td>\n",
       "      <td>0</td>\n",
       "      <td>0</td>\n",
       "      <td>1</td>\n",
       "      <td>0.000000</td>\n",
       "    </tr>\n",
       "    <tr>\n",
       "      <th>1</th>\n",
       "      <td>2</td>\n",
       "      <td>9</td>\n",
       "      <td>9</td>\n",
       "      <td>2</td>\n",
       "      <td>9</td>\n",
       "      <td>0.310345</td>\n",
       "    </tr>\n",
       "    <tr>\n",
       "      <th>2</th>\n",
       "      <td>3</td>\n",
       "      <td>15</td>\n",
       "      <td>15</td>\n",
       "      <td>4</td>\n",
       "      <td>20</td>\n",
       "      <td>0.277778</td>\n",
       "    </tr>\n",
       "    <tr>\n",
       "      <th>3</th>\n",
       "      <td>5</td>\n",
       "      <td>1</td>\n",
       "      <td>1</td>\n",
       "      <td>0</td>\n",
       "      <td>1</td>\n",
       "      <td>0.333333</td>\n",
       "    </tr>\n",
       "    <tr>\n",
       "      <th>4</th>\n",
       "      <td>7</td>\n",
       "      <td>1</td>\n",
       "      <td>1</td>\n",
       "      <td>0</td>\n",
       "      <td>1</td>\n",
       "      <td>0.333333</td>\n",
       "    </tr>\n",
       "  </tbody>\n",
       "</table>\n",
       "</div>"
      ],
      "text/plain": [
       "action  user_id  discovered  passed  started_attempt  viewed  passed_ratio\n",
       "0             1           1       0                0       1      0.000000\n",
       "1             2           9       9                2       9      0.310345\n",
       "2             3          15      15                4      20      0.277778\n",
       "3             5           1       1                0       1      0.333333\n",
       "4             7           1       1                0       1      0.333333"
      ]
     },
     "execution_count": 74,
     "metadata": {},
     "output_type": "execute_result"
    }
   ],
   "source": [
    "event_action.head()"
   ]
  },
  {
   "cell_type": "code",
   "execution_count": 75,
   "metadata": {},
   "outputs": [
    {
     "data": {
      "text/plain": [
       "action\n",
       "user_id            0\n",
       "discovered         0\n",
       "passed             0\n",
       "started_attempt    0\n",
       "viewed             0\n",
       "passed_ratio       0\n",
       "dtype: int64"
      ]
     },
     "execution_count": 75,
     "metadata": {},
     "output_type": "execute_result"
    }
   ],
   "source": [
    "event_action.isnull().sum()"
   ]
  },
  {
   "cell_type": "code",
   "execution_count": 76,
   "metadata": {},
   "outputs": [],
   "source": [
    "X_train = X_train.merge(event_action, on='user_id', how='outer')"
   ]
  },
  {
   "cell_type": "code",
   "execution_count": 77,
   "metadata": {},
   "outputs": [
    {
     "data": {
      "text/html": [
       "<div>\n",
       "<style scoped>\n",
       "    .dataframe tbody tr th:only-of-type {\n",
       "        vertical-align: middle;\n",
       "    }\n",
       "\n",
       "    .dataframe tbody tr th {\n",
       "        vertical-align: top;\n",
       "    }\n",
       "\n",
       "    .dataframe thead th {\n",
       "        text-align: right;\n",
       "    }\n",
       "</style>\n",
       "<table border=\"1\" class=\"dataframe\">\n",
       "  <thead>\n",
       "    <tr style=\"text-align: right;\">\n",
       "      <th></th>\n",
       "      <th>user_id</th>\n",
       "      <th>event_unique_days</th>\n",
       "      <th>subm_unique_days</th>\n",
       "      <th>event_steps_tried</th>\n",
       "      <th>subm_step_tried</th>\n",
       "      <th>discovered</th>\n",
       "      <th>passed</th>\n",
       "      <th>started_attempt</th>\n",
       "      <th>viewed</th>\n",
       "      <th>passed_ratio</th>\n",
       "    </tr>\n",
       "  </thead>\n",
       "  <tbody>\n",
       "    <tr>\n",
       "      <th>0</th>\n",
       "      <td>17632</td>\n",
       "      <td>2</td>\n",
       "      <td>1.0</td>\n",
       "      <td>17</td>\n",
       "      <td>2.0</td>\n",
       "      <td>17</td>\n",
       "      <td>14</td>\n",
       "      <td>2</td>\n",
       "      <td>29</td>\n",
       "      <td>0.225806</td>\n",
       "    </tr>\n",
       "    <tr>\n",
       "      <th>1</th>\n",
       "      <td>12494</td>\n",
       "      <td>2</td>\n",
       "      <td>1.0</td>\n",
       "      <td>17</td>\n",
       "      <td>4.0</td>\n",
       "      <td>17</td>\n",
       "      <td>14</td>\n",
       "      <td>1</td>\n",
       "      <td>24</td>\n",
       "      <td>0.250000</td>\n",
       "    </tr>\n",
       "    <tr>\n",
       "      <th>2</th>\n",
       "      <td>442</td>\n",
       "      <td>1</td>\n",
       "      <td>1.0</td>\n",
       "      <td>19</td>\n",
       "      <td>6.0</td>\n",
       "      <td>19</td>\n",
       "      <td>18</td>\n",
       "      <td>7</td>\n",
       "      <td>31</td>\n",
       "      <td>0.240000</td>\n",
       "    </tr>\n",
       "    <tr>\n",
       "      <th>3</th>\n",
       "      <td>22254</td>\n",
       "      <td>2</td>\n",
       "      <td>1.0</td>\n",
       "      <td>27</td>\n",
       "      <td>8.0</td>\n",
       "      <td>27</td>\n",
       "      <td>27</td>\n",
       "      <td>10</td>\n",
       "      <td>36</td>\n",
       "      <td>0.270000</td>\n",
       "    </tr>\n",
       "    <tr>\n",
       "      <th>4</th>\n",
       "      <td>6646</td>\n",
       "      <td>1</td>\n",
       "      <td>1.0</td>\n",
       "      <td>2</td>\n",
       "      <td>2.0</td>\n",
       "      <td>2</td>\n",
       "      <td>2</td>\n",
       "      <td>0</td>\n",
       "      <td>3</td>\n",
       "      <td>0.285714</td>\n",
       "    </tr>\n",
       "  </tbody>\n",
       "</table>\n",
       "</div>"
      ],
      "text/plain": [
       "   user_id  event_unique_days  subm_unique_days  event_steps_tried  \\\n",
       "0    17632                  2               1.0                 17   \n",
       "1    12494                  2               1.0                 17   \n",
       "2      442                  1               1.0                 19   \n",
       "3    22254                  2               1.0                 27   \n",
       "4     6646                  1               1.0                  2   \n",
       "\n",
       "   subm_step_tried  discovered  passed  started_attempt  viewed  passed_ratio  \n",
       "0              2.0          17      14                2      29      0.225806  \n",
       "1              4.0          17      14                1      24      0.250000  \n",
       "2              6.0          19      18                7      31      0.240000  \n",
       "3              8.0          27      27               10      36      0.270000  \n",
       "4              2.0           2       2                0       3      0.285714  "
      ]
     },
     "execution_count": 77,
     "metadata": {},
     "output_type": "execute_result"
    }
   ],
   "source": [
    "X_train.head()"
   ]
  },
  {
   "cell_type": "markdown",
   "metadata": {},
   "source": [
    "### Порахуємо сабміти по їх типам"
   ]
  },
  {
   "cell_type": "code",
   "execution_count": 78,
   "metadata": {},
   "outputs": [],
   "source": [
    "submission_status = pd.crosstab(submissions_data_train_first_2_days['user_id'], \n",
    "                                submissions_data_train_first_2_days['submission_status']).reset_index()"
   ]
  },
  {
   "cell_type": "code",
   "execution_count": 79,
   "metadata": {},
   "outputs": [
    {
     "data": {
      "text/html": [
       "<div>\n",
       "<style scoped>\n",
       "    .dataframe tbody tr th:only-of-type {\n",
       "        vertical-align: middle;\n",
       "    }\n",
       "\n",
       "    .dataframe tbody tr th {\n",
       "        vertical-align: top;\n",
       "    }\n",
       "\n",
       "    .dataframe thead th {\n",
       "        text-align: right;\n",
       "    }\n",
       "</style>\n",
       "<table border=\"1\" class=\"dataframe\">\n",
       "  <thead>\n",
       "    <tr style=\"text-align: right;\">\n",
       "      <th>submission_status</th>\n",
       "      <th>user_id</th>\n",
       "      <th>correct</th>\n",
       "      <th>wrong</th>\n",
       "    </tr>\n",
       "  </thead>\n",
       "  <tbody>\n",
       "    <tr>\n",
       "      <th>0</th>\n",
       "      <td>2</td>\n",
       "      <td>2</td>\n",
       "      <td>0</td>\n",
       "    </tr>\n",
       "    <tr>\n",
       "      <th>1</th>\n",
       "      <td>3</td>\n",
       "      <td>4</td>\n",
       "      <td>4</td>\n",
       "    </tr>\n",
       "    <tr>\n",
       "      <th>2</th>\n",
       "      <td>5</td>\n",
       "      <td>2</td>\n",
       "      <td>2</td>\n",
       "    </tr>\n",
       "    <tr>\n",
       "      <th>3</th>\n",
       "      <td>8</td>\n",
       "      <td>9</td>\n",
       "      <td>21</td>\n",
       "    </tr>\n",
       "    <tr>\n",
       "      <th>4</th>\n",
       "      <td>14</td>\n",
       "      <td>0</td>\n",
       "      <td>1</td>\n",
       "    </tr>\n",
       "  </tbody>\n",
       "</table>\n",
       "</div>"
      ],
      "text/plain": [
       "submission_status  user_id  correct  wrong\n",
       "0                        2        2      0\n",
       "1                        3        4      4\n",
       "2                        5        2      2\n",
       "3                        8        9     21\n",
       "4                       14        0      1"
      ]
     },
     "execution_count": 79,
     "metadata": {},
     "output_type": "execute_result"
    }
   ],
   "source": [
    "submission_status.head()"
   ]
  },
  {
   "cell_type": "markdown",
   "metadata": {},
   "source": [
    "Порахумо ratio для **submission_status**"
   ]
  },
  {
   "cell_type": "code",
   "execution_count": 80,
   "metadata": {},
   "outputs": [],
   "source": [
    "submission_status['correct_ratio'] = submission_status['correct'] / (submission_status['correct'] + submission_status['wrong'])"
   ]
  },
  {
   "cell_type": "code",
   "execution_count": 81,
   "metadata": {},
   "outputs": [
    {
     "data": {
      "text/html": [
       "<div>\n",
       "<style scoped>\n",
       "    .dataframe tbody tr th:only-of-type {\n",
       "        vertical-align: middle;\n",
       "    }\n",
       "\n",
       "    .dataframe tbody tr th {\n",
       "        vertical-align: top;\n",
       "    }\n",
       "\n",
       "    .dataframe thead th {\n",
       "        text-align: right;\n",
       "    }\n",
       "</style>\n",
       "<table border=\"1\" class=\"dataframe\">\n",
       "  <thead>\n",
       "    <tr style=\"text-align: right;\">\n",
       "      <th>submission_status</th>\n",
       "      <th>user_id</th>\n",
       "      <th>correct</th>\n",
       "      <th>wrong</th>\n",
       "      <th>correct_ratio</th>\n",
       "    </tr>\n",
       "  </thead>\n",
       "  <tbody>\n",
       "    <tr>\n",
       "      <th>0</th>\n",
       "      <td>2</td>\n",
       "      <td>2</td>\n",
       "      <td>0</td>\n",
       "      <td>1.0</td>\n",
       "    </tr>\n",
       "    <tr>\n",
       "      <th>1</th>\n",
       "      <td>3</td>\n",
       "      <td>4</td>\n",
       "      <td>4</td>\n",
       "      <td>0.5</td>\n",
       "    </tr>\n",
       "    <tr>\n",
       "      <th>2</th>\n",
       "      <td>5</td>\n",
       "      <td>2</td>\n",
       "      <td>2</td>\n",
       "      <td>0.5</td>\n",
       "    </tr>\n",
       "    <tr>\n",
       "      <th>3</th>\n",
       "      <td>8</td>\n",
       "      <td>9</td>\n",
       "      <td>21</td>\n",
       "      <td>0.3</td>\n",
       "    </tr>\n",
       "    <tr>\n",
       "      <th>4</th>\n",
       "      <td>14</td>\n",
       "      <td>0</td>\n",
       "      <td>1</td>\n",
       "      <td>0.0</td>\n",
       "    </tr>\n",
       "  </tbody>\n",
       "</table>\n",
       "</div>"
      ],
      "text/plain": [
       "submission_status  user_id  correct  wrong  correct_ratio\n",
       "0                        2        2      0            1.0\n",
       "1                        3        4      4            0.5\n",
       "2                        5        2      2            0.5\n",
       "3                        8        9     21            0.3\n",
       "4                       14        0      1            0.0"
      ]
     },
     "execution_count": 81,
     "metadata": {},
     "output_type": "execute_result"
    }
   ],
   "source": [
    "submission_status.head()"
   ]
  },
  {
   "cell_type": "code",
   "execution_count": 82,
   "metadata": {},
   "outputs": [
    {
     "data": {
      "text/plain": [
       "submission_status\n",
       "user_id          0\n",
       "correct          0\n",
       "wrong            0\n",
       "correct_ratio    0\n",
       "dtype: int64"
      ]
     },
     "execution_count": 82,
     "metadata": {},
     "output_type": "execute_result"
    }
   ],
   "source": [
    "submission_status.isnull().sum()"
   ]
  },
  {
   "cell_type": "code",
   "execution_count": 83,
   "metadata": {},
   "outputs": [],
   "source": [
    "X_train = X_train.merge(submission_status, on='user_id', how='outer')"
   ]
  },
  {
   "cell_type": "code",
   "execution_count": 84,
   "metadata": {},
   "outputs": [
    {
     "data": {
      "text/html": [
       "<div>\n",
       "<style scoped>\n",
       "    .dataframe tbody tr th:only-of-type {\n",
       "        vertical-align: middle;\n",
       "    }\n",
       "\n",
       "    .dataframe tbody tr th {\n",
       "        vertical-align: top;\n",
       "    }\n",
       "\n",
       "    .dataframe thead th {\n",
       "        text-align: right;\n",
       "    }\n",
       "</style>\n",
       "<table border=\"1\" class=\"dataframe\">\n",
       "  <thead>\n",
       "    <tr style=\"text-align: right;\">\n",
       "      <th></th>\n",
       "      <th>user_id</th>\n",
       "      <th>event_unique_days</th>\n",
       "      <th>subm_unique_days</th>\n",
       "      <th>event_steps_tried</th>\n",
       "      <th>subm_step_tried</th>\n",
       "      <th>discovered</th>\n",
       "      <th>passed</th>\n",
       "      <th>started_attempt</th>\n",
       "      <th>viewed</th>\n",
       "      <th>passed_ratio</th>\n",
       "      <th>correct</th>\n",
       "      <th>wrong</th>\n",
       "      <th>correct_ratio</th>\n",
       "    </tr>\n",
       "  </thead>\n",
       "  <tbody>\n",
       "    <tr>\n",
       "      <th>0</th>\n",
       "      <td>17632</td>\n",
       "      <td>2</td>\n",
       "      <td>1.0</td>\n",
       "      <td>17</td>\n",
       "      <td>2.0</td>\n",
       "      <td>17</td>\n",
       "      <td>14</td>\n",
       "      <td>2</td>\n",
       "      <td>29</td>\n",
       "      <td>0.225806</td>\n",
       "      <td>2.0</td>\n",
       "      <td>0.0</td>\n",
       "      <td>1.000000</td>\n",
       "    </tr>\n",
       "    <tr>\n",
       "      <th>1</th>\n",
       "      <td>12494</td>\n",
       "      <td>2</td>\n",
       "      <td>1.0</td>\n",
       "      <td>17</td>\n",
       "      <td>4.0</td>\n",
       "      <td>17</td>\n",
       "      <td>14</td>\n",
       "      <td>1</td>\n",
       "      <td>24</td>\n",
       "      <td>0.250000</td>\n",
       "      <td>4.0</td>\n",
       "      <td>2.0</td>\n",
       "      <td>0.666667</td>\n",
       "    </tr>\n",
       "    <tr>\n",
       "      <th>2</th>\n",
       "      <td>442</td>\n",
       "      <td>1</td>\n",
       "      <td>1.0</td>\n",
       "      <td>19</td>\n",
       "      <td>6.0</td>\n",
       "      <td>19</td>\n",
       "      <td>18</td>\n",
       "      <td>7</td>\n",
       "      <td>31</td>\n",
       "      <td>0.240000</td>\n",
       "      <td>5.0</td>\n",
       "      <td>16.0</td>\n",
       "      <td>0.238095</td>\n",
       "    </tr>\n",
       "    <tr>\n",
       "      <th>3</th>\n",
       "      <td>22254</td>\n",
       "      <td>2</td>\n",
       "      <td>1.0</td>\n",
       "      <td>27</td>\n",
       "      <td>8.0</td>\n",
       "      <td>27</td>\n",
       "      <td>27</td>\n",
       "      <td>10</td>\n",
       "      <td>36</td>\n",
       "      <td>0.270000</td>\n",
       "      <td>8.0</td>\n",
       "      <td>15.0</td>\n",
       "      <td>0.347826</td>\n",
       "    </tr>\n",
       "    <tr>\n",
       "      <th>4</th>\n",
       "      <td>6646</td>\n",
       "      <td>1</td>\n",
       "      <td>1.0</td>\n",
       "      <td>2</td>\n",
       "      <td>2.0</td>\n",
       "      <td>2</td>\n",
       "      <td>2</td>\n",
       "      <td>0</td>\n",
       "      <td>3</td>\n",
       "      <td>0.285714</td>\n",
       "      <td>2.0</td>\n",
       "      <td>0.0</td>\n",
       "      <td>1.000000</td>\n",
       "    </tr>\n",
       "  </tbody>\n",
       "</table>\n",
       "</div>"
      ],
      "text/plain": [
       "   user_id  event_unique_days  subm_unique_days  event_steps_tried  \\\n",
       "0    17632                  2               1.0                 17   \n",
       "1    12494                  2               1.0                 17   \n",
       "2      442                  1               1.0                 19   \n",
       "3    22254                  2               1.0                 27   \n",
       "4     6646                  1               1.0                  2   \n",
       "\n",
       "   subm_step_tried  discovered  passed  started_attempt  viewed  passed_ratio  \\\n",
       "0              2.0          17      14                2      29      0.225806   \n",
       "1              4.0          17      14                1      24      0.250000   \n",
       "2              6.0          19      18                7      31      0.240000   \n",
       "3              8.0          27      27               10      36      0.270000   \n",
       "4              2.0           2       2                0       3      0.285714   \n",
       "\n",
       "   correct  wrong  correct_ratio  \n",
       "0      2.0    0.0       1.000000  \n",
       "1      4.0    2.0       0.666667  \n",
       "2      5.0   16.0       0.238095  \n",
       "3      8.0   15.0       0.347826  \n",
       "4      2.0    0.0       1.000000  "
      ]
     },
     "execution_count": 84,
     "metadata": {},
     "output_type": "execute_result"
    }
   ],
   "source": [
    "X_train.head()"
   ]
  },
  {
   "cell_type": "code",
   "execution_count": 85,
   "metadata": {},
   "outputs": [
    {
     "data": {
      "text/plain": [
       "user_id                 0\n",
       "event_unique_days       0\n",
       "subm_unique_days     9294\n",
       "event_steps_tried       0\n",
       "subm_step_tried      9294\n",
       "discovered              0\n",
       "passed                  0\n",
       "started_attempt         0\n",
       "viewed                  0\n",
       "passed_ratio            0\n",
       "correct              9294\n",
       "wrong                9294\n",
       "correct_ratio        9294\n",
       "dtype: int64"
      ]
     },
     "execution_count": 85,
     "metadata": {},
     "output_type": "execute_result"
    }
   ],
   "source": [
    "X_train.isnull().sum()"
   ]
  },
  {
   "cell_type": "code",
   "execution_count": 86,
   "metadata": {},
   "outputs": [
    {
     "data": {
      "text/plain": [
       "1     5122\n",
       "0     2007\n",
       "2     1280\n",
       "10     968\n",
       "9      897\n",
       "Name: passed, dtype: int64"
      ]
     },
     "execution_count": 86,
     "metadata": {},
     "output_type": "execute_result"
    }
   ],
   "source": [
    "X_train['passed'].value_counts().head()"
   ]
  },
  {
   "cell_type": "markdown",
   "metadata": {},
   "source": [
    "Добавимо колонку - чи пройшов хоч одне завдання **passed**"
   ]
  },
  {
   "cell_type": "code",
   "execution_count": 87,
   "metadata": {},
   "outputs": [],
   "source": [
    "X_train['action_passed'] = np.where(X_train['passed'] > 0, 1, 0)"
   ]
  },
  {
   "cell_type": "code",
   "execution_count": 88,
   "metadata": {},
   "outputs": [
    {
     "data": {
      "text/html": [
       "<div>\n",
       "<style scoped>\n",
       "    .dataframe tbody tr th:only-of-type {\n",
       "        vertical-align: middle;\n",
       "    }\n",
       "\n",
       "    .dataframe tbody tr th {\n",
       "        vertical-align: top;\n",
       "    }\n",
       "\n",
       "    .dataframe thead th {\n",
       "        text-align: right;\n",
       "    }\n",
       "</style>\n",
       "<table border=\"1\" class=\"dataframe\">\n",
       "  <thead>\n",
       "    <tr style=\"text-align: right;\">\n",
       "      <th></th>\n",
       "      <th>user_id</th>\n",
       "      <th>event_unique_days</th>\n",
       "      <th>subm_unique_days</th>\n",
       "      <th>event_steps_tried</th>\n",
       "      <th>subm_step_tried</th>\n",
       "      <th>discovered</th>\n",
       "      <th>passed</th>\n",
       "      <th>started_attempt</th>\n",
       "      <th>viewed</th>\n",
       "      <th>passed_ratio</th>\n",
       "      <th>correct</th>\n",
       "      <th>wrong</th>\n",
       "      <th>correct_ratio</th>\n",
       "      <th>action_passed</th>\n",
       "    </tr>\n",
       "  </thead>\n",
       "  <tbody>\n",
       "    <tr>\n",
       "      <th>0</th>\n",
       "      <td>17632</td>\n",
       "      <td>2</td>\n",
       "      <td>1.0</td>\n",
       "      <td>17</td>\n",
       "      <td>2.0</td>\n",
       "      <td>17</td>\n",
       "      <td>14</td>\n",
       "      <td>2</td>\n",
       "      <td>29</td>\n",
       "      <td>0.225806</td>\n",
       "      <td>2.0</td>\n",
       "      <td>0.0</td>\n",
       "      <td>1.000000</td>\n",
       "      <td>1</td>\n",
       "    </tr>\n",
       "    <tr>\n",
       "      <th>1</th>\n",
       "      <td>12494</td>\n",
       "      <td>2</td>\n",
       "      <td>1.0</td>\n",
       "      <td>17</td>\n",
       "      <td>4.0</td>\n",
       "      <td>17</td>\n",
       "      <td>14</td>\n",
       "      <td>1</td>\n",
       "      <td>24</td>\n",
       "      <td>0.250000</td>\n",
       "      <td>4.0</td>\n",
       "      <td>2.0</td>\n",
       "      <td>0.666667</td>\n",
       "      <td>1</td>\n",
       "    </tr>\n",
       "    <tr>\n",
       "      <th>2</th>\n",
       "      <td>442</td>\n",
       "      <td>1</td>\n",
       "      <td>1.0</td>\n",
       "      <td>19</td>\n",
       "      <td>6.0</td>\n",
       "      <td>19</td>\n",
       "      <td>18</td>\n",
       "      <td>7</td>\n",
       "      <td>31</td>\n",
       "      <td>0.240000</td>\n",
       "      <td>5.0</td>\n",
       "      <td>16.0</td>\n",
       "      <td>0.238095</td>\n",
       "      <td>1</td>\n",
       "    </tr>\n",
       "    <tr>\n",
       "      <th>3</th>\n",
       "      <td>22254</td>\n",
       "      <td>2</td>\n",
       "      <td>1.0</td>\n",
       "      <td>27</td>\n",
       "      <td>8.0</td>\n",
       "      <td>27</td>\n",
       "      <td>27</td>\n",
       "      <td>10</td>\n",
       "      <td>36</td>\n",
       "      <td>0.270000</td>\n",
       "      <td>8.0</td>\n",
       "      <td>15.0</td>\n",
       "      <td>0.347826</td>\n",
       "      <td>1</td>\n",
       "    </tr>\n",
       "    <tr>\n",
       "      <th>4</th>\n",
       "      <td>6646</td>\n",
       "      <td>1</td>\n",
       "      <td>1.0</td>\n",
       "      <td>2</td>\n",
       "      <td>2.0</td>\n",
       "      <td>2</td>\n",
       "      <td>2</td>\n",
       "      <td>0</td>\n",
       "      <td>3</td>\n",
       "      <td>0.285714</td>\n",
       "      <td>2.0</td>\n",
       "      <td>0.0</td>\n",
       "      <td>1.000000</td>\n",
       "      <td>1</td>\n",
       "    </tr>\n",
       "  </tbody>\n",
       "</table>\n",
       "</div>"
      ],
      "text/plain": [
       "   user_id  event_unique_days  subm_unique_days  event_steps_tried  \\\n",
       "0    17632                  2               1.0                 17   \n",
       "1    12494                  2               1.0                 17   \n",
       "2      442                  1               1.0                 19   \n",
       "3    22254                  2               1.0                 27   \n",
       "4     6646                  1               1.0                  2   \n",
       "\n",
       "   subm_step_tried  discovered  passed  started_attempt  viewed  passed_ratio  \\\n",
       "0              2.0          17      14                2      29      0.225806   \n",
       "1              4.0          17      14                1      24      0.250000   \n",
       "2              6.0          19      18                7      31      0.240000   \n",
       "3              8.0          27      27               10      36      0.270000   \n",
       "4              2.0           2       2                0       3      0.285714   \n",
       "\n",
       "   correct  wrong  correct_ratio  action_passed  \n",
       "0      2.0    0.0       1.000000              1  \n",
       "1      4.0    2.0       0.666667              1  \n",
       "2      5.0   16.0       0.238095              1  \n",
       "3      8.0   15.0       0.347826              1  \n",
       "4      2.0    0.0       1.000000              1  "
      ]
     },
     "execution_count": 88,
     "metadata": {},
     "output_type": "execute_result"
    }
   ],
   "source": [
    "X_train.head()"
   ]
  },
  {
   "cell_type": "markdown",
   "metadata": {},
   "source": [
    "Добавимо колонку - чи зробив хоч один сабміт **correct** або **wrong** (в даному випадку отримають всі, бо користувачі, які не мають ні коректних ні помилкових сабмітів поки що немає в таблиці - NaN)"
   ]
  },
  {
   "cell_type": "code",
   "execution_count": 89,
   "metadata": {},
   "outputs": [],
   "source": [
    "X_train['is_submit'] = np.where(((X_train['correct'] > 0) | (X_train['wrong'] > 0)), 1, 0)"
   ]
  },
  {
   "cell_type": "code",
   "execution_count": 90,
   "metadata": {},
   "outputs": [
    {
     "data": {
      "text/html": [
       "<div>\n",
       "<style scoped>\n",
       "    .dataframe tbody tr th:only-of-type {\n",
       "        vertical-align: middle;\n",
       "    }\n",
       "\n",
       "    .dataframe tbody tr th {\n",
       "        vertical-align: top;\n",
       "    }\n",
       "\n",
       "    .dataframe thead th {\n",
       "        text-align: right;\n",
       "    }\n",
       "</style>\n",
       "<table border=\"1\" class=\"dataframe\">\n",
       "  <thead>\n",
       "    <tr style=\"text-align: right;\">\n",
       "      <th></th>\n",
       "      <th>user_id</th>\n",
       "      <th>event_unique_days</th>\n",
       "      <th>subm_unique_days</th>\n",
       "      <th>event_steps_tried</th>\n",
       "      <th>subm_step_tried</th>\n",
       "      <th>discovered</th>\n",
       "      <th>passed</th>\n",
       "      <th>started_attempt</th>\n",
       "      <th>viewed</th>\n",
       "      <th>passed_ratio</th>\n",
       "      <th>correct</th>\n",
       "      <th>wrong</th>\n",
       "      <th>correct_ratio</th>\n",
       "      <th>action_passed</th>\n",
       "      <th>is_submit</th>\n",
       "    </tr>\n",
       "  </thead>\n",
       "  <tbody>\n",
       "    <tr>\n",
       "      <th>0</th>\n",
       "      <td>17632</td>\n",
       "      <td>2</td>\n",
       "      <td>1.0</td>\n",
       "      <td>17</td>\n",
       "      <td>2.0</td>\n",
       "      <td>17</td>\n",
       "      <td>14</td>\n",
       "      <td>2</td>\n",
       "      <td>29</td>\n",
       "      <td>0.225806</td>\n",
       "      <td>2.0</td>\n",
       "      <td>0.0</td>\n",
       "      <td>1.000000</td>\n",
       "      <td>1</td>\n",
       "      <td>1</td>\n",
       "    </tr>\n",
       "    <tr>\n",
       "      <th>1</th>\n",
       "      <td>12494</td>\n",
       "      <td>2</td>\n",
       "      <td>1.0</td>\n",
       "      <td>17</td>\n",
       "      <td>4.0</td>\n",
       "      <td>17</td>\n",
       "      <td>14</td>\n",
       "      <td>1</td>\n",
       "      <td>24</td>\n",
       "      <td>0.250000</td>\n",
       "      <td>4.0</td>\n",
       "      <td>2.0</td>\n",
       "      <td>0.666667</td>\n",
       "      <td>1</td>\n",
       "      <td>1</td>\n",
       "    </tr>\n",
       "    <tr>\n",
       "      <th>2</th>\n",
       "      <td>442</td>\n",
       "      <td>1</td>\n",
       "      <td>1.0</td>\n",
       "      <td>19</td>\n",
       "      <td>6.0</td>\n",
       "      <td>19</td>\n",
       "      <td>18</td>\n",
       "      <td>7</td>\n",
       "      <td>31</td>\n",
       "      <td>0.240000</td>\n",
       "      <td>5.0</td>\n",
       "      <td>16.0</td>\n",
       "      <td>0.238095</td>\n",
       "      <td>1</td>\n",
       "      <td>1</td>\n",
       "    </tr>\n",
       "    <tr>\n",
       "      <th>3</th>\n",
       "      <td>22254</td>\n",
       "      <td>2</td>\n",
       "      <td>1.0</td>\n",
       "      <td>27</td>\n",
       "      <td>8.0</td>\n",
       "      <td>27</td>\n",
       "      <td>27</td>\n",
       "      <td>10</td>\n",
       "      <td>36</td>\n",
       "      <td>0.270000</td>\n",
       "      <td>8.0</td>\n",
       "      <td>15.0</td>\n",
       "      <td>0.347826</td>\n",
       "      <td>1</td>\n",
       "      <td>1</td>\n",
       "    </tr>\n",
       "    <tr>\n",
       "      <th>4</th>\n",
       "      <td>6646</td>\n",
       "      <td>1</td>\n",
       "      <td>1.0</td>\n",
       "      <td>2</td>\n",
       "      <td>2.0</td>\n",
       "      <td>2</td>\n",
       "      <td>2</td>\n",
       "      <td>0</td>\n",
       "      <td>3</td>\n",
       "      <td>0.285714</td>\n",
       "      <td>2.0</td>\n",
       "      <td>0.0</td>\n",
       "      <td>1.000000</td>\n",
       "      <td>1</td>\n",
       "      <td>1</td>\n",
       "    </tr>\n",
       "  </tbody>\n",
       "</table>\n",
       "</div>"
      ],
      "text/plain": [
       "   user_id  event_unique_days  subm_unique_days  event_steps_tried  \\\n",
       "0    17632                  2               1.0                 17   \n",
       "1    12494                  2               1.0                 17   \n",
       "2      442                  1               1.0                 19   \n",
       "3    22254                  2               1.0                 27   \n",
       "4     6646                  1               1.0                  2   \n",
       "\n",
       "   subm_step_tried  discovered  passed  started_attempt  viewed  passed_ratio  \\\n",
       "0              2.0          17      14                2      29      0.225806   \n",
       "1              4.0          17      14                1      24      0.250000   \n",
       "2              6.0          19      18                7      31      0.240000   \n",
       "3              8.0          27      27               10      36      0.270000   \n",
       "4              2.0           2       2                0       3      0.285714   \n",
       "\n",
       "   correct  wrong  correct_ratio  action_passed  is_submit  \n",
       "0      2.0    0.0       1.000000              1          1  \n",
       "1      4.0    2.0       0.666667              1          1  \n",
       "2      5.0   16.0       0.238095              1          1  \n",
       "3      8.0   15.0       0.347826              1          1  \n",
       "4      2.0    0.0       1.000000              1          1  "
      ]
     },
     "execution_count": 90,
     "metadata": {},
     "output_type": "execute_result"
    }
   ],
   "source": [
    "X_train.head()"
   ]
  },
  {
   "cell_type": "markdown",
   "metadata": {},
   "source": [
    "Добавимо колонку - чи зробив хоч один **correct** сабміт"
   ]
  },
  {
   "cell_type": "code",
   "execution_count": 91,
   "metadata": {},
   "outputs": [],
   "source": [
    "X_train['is_correct_submit'] = np.where(X_train['correct'] > 0, 1, 0)"
   ]
  },
  {
   "cell_type": "code",
   "execution_count": 92,
   "metadata": {},
   "outputs": [
    {
     "data": {
      "text/html": [
       "<div>\n",
       "<style scoped>\n",
       "    .dataframe tbody tr th:only-of-type {\n",
       "        vertical-align: middle;\n",
       "    }\n",
       "\n",
       "    .dataframe tbody tr th {\n",
       "        vertical-align: top;\n",
       "    }\n",
       "\n",
       "    .dataframe thead th {\n",
       "        text-align: right;\n",
       "    }\n",
       "</style>\n",
       "<table border=\"1\" class=\"dataframe\">\n",
       "  <thead>\n",
       "    <tr style=\"text-align: right;\">\n",
       "      <th></th>\n",
       "      <th>user_id</th>\n",
       "      <th>event_unique_days</th>\n",
       "      <th>subm_unique_days</th>\n",
       "      <th>event_steps_tried</th>\n",
       "      <th>subm_step_tried</th>\n",
       "      <th>discovered</th>\n",
       "      <th>passed</th>\n",
       "      <th>started_attempt</th>\n",
       "      <th>viewed</th>\n",
       "      <th>passed_ratio</th>\n",
       "      <th>correct</th>\n",
       "      <th>wrong</th>\n",
       "      <th>correct_ratio</th>\n",
       "      <th>action_passed</th>\n",
       "      <th>is_submit</th>\n",
       "      <th>is_correct_submit</th>\n",
       "    </tr>\n",
       "  </thead>\n",
       "  <tbody>\n",
       "    <tr>\n",
       "      <th>0</th>\n",
       "      <td>17632</td>\n",
       "      <td>2</td>\n",
       "      <td>1.0</td>\n",
       "      <td>17</td>\n",
       "      <td>2.0</td>\n",
       "      <td>17</td>\n",
       "      <td>14</td>\n",
       "      <td>2</td>\n",
       "      <td>29</td>\n",
       "      <td>0.225806</td>\n",
       "      <td>2.0</td>\n",
       "      <td>0.0</td>\n",
       "      <td>1.000000</td>\n",
       "      <td>1</td>\n",
       "      <td>1</td>\n",
       "      <td>1</td>\n",
       "    </tr>\n",
       "    <tr>\n",
       "      <th>1</th>\n",
       "      <td>12494</td>\n",
       "      <td>2</td>\n",
       "      <td>1.0</td>\n",
       "      <td>17</td>\n",
       "      <td>4.0</td>\n",
       "      <td>17</td>\n",
       "      <td>14</td>\n",
       "      <td>1</td>\n",
       "      <td>24</td>\n",
       "      <td>0.250000</td>\n",
       "      <td>4.0</td>\n",
       "      <td>2.0</td>\n",
       "      <td>0.666667</td>\n",
       "      <td>1</td>\n",
       "      <td>1</td>\n",
       "      <td>1</td>\n",
       "    </tr>\n",
       "    <tr>\n",
       "      <th>2</th>\n",
       "      <td>442</td>\n",
       "      <td>1</td>\n",
       "      <td>1.0</td>\n",
       "      <td>19</td>\n",
       "      <td>6.0</td>\n",
       "      <td>19</td>\n",
       "      <td>18</td>\n",
       "      <td>7</td>\n",
       "      <td>31</td>\n",
       "      <td>0.240000</td>\n",
       "      <td>5.0</td>\n",
       "      <td>16.0</td>\n",
       "      <td>0.238095</td>\n",
       "      <td>1</td>\n",
       "      <td>1</td>\n",
       "      <td>1</td>\n",
       "    </tr>\n",
       "    <tr>\n",
       "      <th>3</th>\n",
       "      <td>22254</td>\n",
       "      <td>2</td>\n",
       "      <td>1.0</td>\n",
       "      <td>27</td>\n",
       "      <td>8.0</td>\n",
       "      <td>27</td>\n",
       "      <td>27</td>\n",
       "      <td>10</td>\n",
       "      <td>36</td>\n",
       "      <td>0.270000</td>\n",
       "      <td>8.0</td>\n",
       "      <td>15.0</td>\n",
       "      <td>0.347826</td>\n",
       "      <td>1</td>\n",
       "      <td>1</td>\n",
       "      <td>1</td>\n",
       "    </tr>\n",
       "    <tr>\n",
       "      <th>4</th>\n",
       "      <td>6646</td>\n",
       "      <td>1</td>\n",
       "      <td>1.0</td>\n",
       "      <td>2</td>\n",
       "      <td>2.0</td>\n",
       "      <td>2</td>\n",
       "      <td>2</td>\n",
       "      <td>0</td>\n",
       "      <td>3</td>\n",
       "      <td>0.285714</td>\n",
       "      <td>2.0</td>\n",
       "      <td>0.0</td>\n",
       "      <td>1.000000</td>\n",
       "      <td>1</td>\n",
       "      <td>1</td>\n",
       "      <td>1</td>\n",
       "    </tr>\n",
       "  </tbody>\n",
       "</table>\n",
       "</div>"
      ],
      "text/plain": [
       "   user_id  event_unique_days  subm_unique_days  event_steps_tried  \\\n",
       "0    17632                  2               1.0                 17   \n",
       "1    12494                  2               1.0                 17   \n",
       "2      442                  1               1.0                 19   \n",
       "3    22254                  2               1.0                 27   \n",
       "4     6646                  1               1.0                  2   \n",
       "\n",
       "   subm_step_tried  discovered  passed  started_attempt  viewed  passed_ratio  \\\n",
       "0              2.0          17      14                2      29      0.225806   \n",
       "1              4.0          17      14                1      24      0.250000   \n",
       "2              6.0          19      18                7      31      0.240000   \n",
       "3              8.0          27      27               10      36      0.270000   \n",
       "4              2.0           2       2                0       3      0.285714   \n",
       "\n",
       "   correct  wrong  correct_ratio  action_passed  is_submit  is_correct_submit  \n",
       "0      2.0    0.0       1.000000              1          1                  1  \n",
       "1      4.0    2.0       0.666667              1          1                  1  \n",
       "2      5.0   16.0       0.238095              1          1                  1  \n",
       "3      8.0   15.0       0.347826              1          1                  1  \n",
       "4      2.0    0.0       1.000000              1          1                  1  "
      ]
     },
     "execution_count": 92,
     "metadata": {},
     "output_type": "execute_result"
    }
   ],
   "source": [
    "X_train.head()"
   ]
  },
  {
   "cell_type": "code",
   "execution_count": 93,
   "metadata": {},
   "outputs": [
    {
     "data": {
      "text/plain": [
       "1    9781\n",
       "0    9453\n",
       "Name: is_correct_submit, dtype: int64"
      ]
     },
     "execution_count": 93,
     "metadata": {},
     "output_type": "execute_result"
    }
   ],
   "source": [
    "X_train['is_correct_submit'].value_counts()"
   ]
  },
  {
   "cell_type": "markdown",
   "metadata": {},
   "source": [
    "### Добавимо ознаки по даті"
   ]
  },
  {
   "cell_type": "markdown",
   "metadata": {},
   "source": [
    "Виділимо тільки стартовий день для кожного користувача"
   ]
  },
  {
   "cell_type": "code",
   "execution_count": 94,
   "metadata": {},
   "outputs": [
    {
     "data": {
      "text/html": [
       "<div>\n",
       "<style scoped>\n",
       "    .dataframe tbody tr th:only-of-type {\n",
       "        vertical-align: middle;\n",
       "    }\n",
       "\n",
       "    .dataframe tbody tr th {\n",
       "        vertical-align: top;\n",
       "    }\n",
       "\n",
       "    .dataframe thead th {\n",
       "        text-align: right;\n",
       "    }\n",
       "</style>\n",
       "<table border=\"1\" class=\"dataframe\">\n",
       "  <thead>\n",
       "    <tr style=\"text-align: right;\">\n",
       "      <th></th>\n",
       "      <th>step_id</th>\n",
       "      <th>timestamp</th>\n",
       "      <th>action</th>\n",
       "      <th>user_id</th>\n",
       "      <th>first_timestamp</th>\n",
       "      <th>1_day_timestamp</th>\n",
       "      <th>2_day_timestamp</th>\n",
       "      <th>date</th>\n",
       "      <th>date_short</th>\n",
       "    </tr>\n",
       "  </thead>\n",
       "  <tbody>\n",
       "    <tr>\n",
       "      <th>0</th>\n",
       "      <td>32815</td>\n",
       "      <td>1434340848</td>\n",
       "      <td>viewed</td>\n",
       "      <td>17632</td>\n",
       "      <td>1434340848</td>\n",
       "      <td>1.434427e+09</td>\n",
       "      <td>1434513648</td>\n",
       "      <td>2015-06-15 04:00:48</td>\n",
       "      <td>2015-06-15</td>\n",
       "    </tr>\n",
       "    <tr>\n",
       "      <th>1</th>\n",
       "      <td>32815</td>\n",
       "      <td>1434340848</td>\n",
       "      <td>passed</td>\n",
       "      <td>17632</td>\n",
       "      <td>1434340848</td>\n",
       "      <td>1.434427e+09</td>\n",
       "      <td>1434513648</td>\n",
       "      <td>2015-06-15 04:00:48</td>\n",
       "      <td>2015-06-15</td>\n",
       "    </tr>\n",
       "    <tr>\n",
       "      <th>2</th>\n",
       "      <td>32815</td>\n",
       "      <td>1434340848</td>\n",
       "      <td>discovered</td>\n",
       "      <td>17632</td>\n",
       "      <td>1434340848</td>\n",
       "      <td>1.434427e+09</td>\n",
       "      <td>1434513648</td>\n",
       "      <td>2015-06-15 04:00:48</td>\n",
       "      <td>2015-06-15</td>\n",
       "    </tr>\n",
       "    <tr>\n",
       "      <th>3</th>\n",
       "      <td>32811</td>\n",
       "      <td>1434340895</td>\n",
       "      <td>discovered</td>\n",
       "      <td>17632</td>\n",
       "      <td>1434340848</td>\n",
       "      <td>1.434427e+09</td>\n",
       "      <td>1434513648</td>\n",
       "      <td>2015-06-15 04:01:35</td>\n",
       "      <td>2015-06-15</td>\n",
       "    </tr>\n",
       "    <tr>\n",
       "      <th>4</th>\n",
       "      <td>32811</td>\n",
       "      <td>1434340895</td>\n",
       "      <td>viewed</td>\n",
       "      <td>17632</td>\n",
       "      <td>1434340848</td>\n",
       "      <td>1.434427e+09</td>\n",
       "      <td>1434513648</td>\n",
       "      <td>2015-06-15 04:01:35</td>\n",
       "      <td>2015-06-15</td>\n",
       "    </tr>\n",
       "  </tbody>\n",
       "</table>\n",
       "</div>"
      ],
      "text/plain": [
       "   step_id   timestamp      action  user_id  first_timestamp  1_day_timestamp  \\\n",
       "0    32815  1434340848      viewed    17632       1434340848     1.434427e+09   \n",
       "1    32815  1434340848      passed    17632       1434340848     1.434427e+09   \n",
       "2    32815  1434340848  discovered    17632       1434340848     1.434427e+09   \n",
       "3    32811  1434340895  discovered    17632       1434340848     1.434427e+09   \n",
       "4    32811  1434340895      viewed    17632       1434340848     1.434427e+09   \n",
       "\n",
       "   2_day_timestamp                date  date_short  \n",
       "0       1434513648 2015-06-15 04:00:48  2015-06-15  \n",
       "1       1434513648 2015-06-15 04:00:48  2015-06-15  \n",
       "2       1434513648 2015-06-15 04:00:48  2015-06-15  \n",
       "3       1434513648 2015-06-15 04:01:35  2015-06-15  \n",
       "4       1434513648 2015-06-15 04:01:35  2015-06-15  "
      ]
     },
     "execution_count": 94,
     "metadata": {},
     "output_type": "execute_result"
    }
   ],
   "source": [
    "event_data_train_first_2_days.head()"
   ]
  },
  {
   "cell_type": "code",
   "execution_count": 95,
   "metadata": {},
   "outputs": [
    {
     "name": "stdout",
     "output_type": "stream",
     "text": [
      "<class 'pandas.core.frame.DataFrame'>\n",
      "Int64Index: 906194 entries, 0 to 3480702\n",
      "Data columns (total 9 columns):\n",
      "step_id            906194 non-null int64\n",
      "timestamp          906194 non-null int64\n",
      "action             906194 non-null object\n",
      "user_id            906194 non-null int64\n",
      "first_timestamp    906194 non-null int64\n",
      "1_day_timestamp    906194 non-null float64\n",
      "2_day_timestamp    906194 non-null int64\n",
      "date               906194 non-null datetime64[ns]\n",
      "date_short         906194 non-null object\n",
      "dtypes: datetime64[ns](1), float64(1), int64(5), object(2)\n",
      "memory usage: 69.1+ MB\n"
     ]
    }
   ],
   "source": [
    "event_data_train_first_2_days.info()"
   ]
  },
  {
   "cell_type": "code",
   "execution_count": 96,
   "metadata": {},
   "outputs": [],
   "source": [
    "# event_data_train_first_timestamp = event_data_train_first_2_days[event_data_train_first_2_days['timestamp'] \\\n",
    "#                                                                  == event_data_train_first_2_days['first_timestamp']]"
   ]
  },
  {
   "cell_type": "code",
   "execution_count": 97,
   "metadata": {},
   "outputs": [],
   "source": [
    "# event_data_train_first_timestamp.head()"
   ]
  },
  {
   "cell_type": "code",
   "execution_count": 98,
   "metadata": {},
   "outputs": [],
   "source": [
    "# event_data_train_first_timestamp = event_data_train_first_timestamp.drop_duplicates(subset=['user_id'])"
   ]
  },
  {
   "cell_type": "code",
   "execution_count": 99,
   "metadata": {},
   "outputs": [],
   "source": [
    "# event_data_train_first_timestamp.head()"
   ]
  },
  {
   "cell_type": "code",
   "execution_count": 100,
   "metadata": {},
   "outputs": [],
   "source": [
    "# event_data_train_first_timestamp.shape"
   ]
  },
  {
   "cell_type": "markdown",
   "metadata": {},
   "source": [
    "Добавимо колонку - стартовий день тижня (рахуємо по таблиці івентів)"
   ]
  },
  {
   "cell_type": "code",
   "execution_count": 101,
   "metadata": {},
   "outputs": [],
   "source": [
    "# event_data_train_first_timestamp['day_of_week'] = event_data_train_first_timestamp['date'].dt.weekday"
   ]
  },
  {
   "cell_type": "code",
   "execution_count": 102,
   "metadata": {},
   "outputs": [],
   "source": [
    "# event_data_train_first_timestamp['day_of_week'].value_counts()"
   ]
  },
  {
   "cell_type": "markdown",
   "metadata": {},
   "source": [
    "Добавимо колонку - чи вихідний"
   ]
  },
  {
   "cell_type": "code",
   "execution_count": 103,
   "metadata": {},
   "outputs": [],
   "source": [
    "# event_data_train_first_timestamp['is_weekend'] = np.where(event_data_train_first_timestamp['day_of_week'] > 4, 1, 0)"
   ]
  },
  {
   "cell_type": "code",
   "execution_count": 104,
   "metadata": {},
   "outputs": [],
   "source": [
    "# event_data_train_first_timestamp['is_weekend'].value_counts()"
   ]
  },
  {
   "cell_type": "code",
   "execution_count": 105,
   "metadata": {},
   "outputs": [],
   "source": [
    "# event_data_train_first_timestamp.head()"
   ]
  },
  {
   "cell_type": "markdown",
   "metadata": {},
   "source": [
    "Добавимо колонку - стартовий рік"
   ]
  },
  {
   "cell_type": "code",
   "execution_count": 106,
   "metadata": {},
   "outputs": [],
   "source": [
    "# event_data_train_first_timestamp['year'] = event_data_train_first_timestamp['date'].dt.year"
   ]
  },
  {
   "cell_type": "code",
   "execution_count": 107,
   "metadata": {},
   "outputs": [],
   "source": [
    "# event_data_train_first_timestamp['year'].value_counts()"
   ]
  },
  {
   "cell_type": "code",
   "execution_count": 108,
   "metadata": {},
   "outputs": [],
   "source": [
    "# event_data_train_first_timestamp.head()"
   ]
  },
  {
   "cell_type": "markdown",
   "metadata": {},
   "source": [
    "Добавимо колонку - стартовий місяць"
   ]
  },
  {
   "cell_type": "code",
   "execution_count": 109,
   "metadata": {},
   "outputs": [],
   "source": [
    "# event_data_train_first_timestamp['month'] = event_data_train_first_timestamp['date'].dt.month"
   ]
  },
  {
   "cell_type": "code",
   "execution_count": 110,
   "metadata": {},
   "outputs": [],
   "source": [
    "# event_data_train_first_timestamp['month'].value_counts()"
   ]
  },
  {
   "cell_type": "code",
   "execution_count": 111,
   "metadata": {},
   "outputs": [],
   "source": [
    "# event_data_train_first_timestamp.head()"
   ]
  },
  {
   "cell_type": "markdown",
   "metadata": {},
   "source": [
    "Добавимо колонку - стартовий день місяця"
   ]
  },
  {
   "cell_type": "code",
   "execution_count": 112,
   "metadata": {},
   "outputs": [],
   "source": [
    "# event_data_train_first_timestamp['day_of_month'] = event_data_train_first_timestamp['date'].dt.day"
   ]
  },
  {
   "cell_type": "code",
   "execution_count": 113,
   "metadata": {},
   "outputs": [],
   "source": [
    "# event_data_train_first_timestamp['day_of_month'].value_counts().head()"
   ]
  },
  {
   "cell_type": "code",
   "execution_count": 114,
   "metadata": {},
   "outputs": [],
   "source": [
    "# event_data_train_first_timestamp.head()"
   ]
  },
  {
   "cell_type": "markdown",
   "metadata": {},
   "source": [
    "Обєднаємо колонки **day_of_week, is_weekend, year, month, day_of_month** з основною базою X_train"
   ]
  },
  {
   "cell_type": "code",
   "execution_count": 115,
   "metadata": {},
   "outputs": [],
   "source": [
    "# X_train = X_train.merge(event_data_train_first_timestamp[['user_id', 'day_of_week', 'is_weekend', \n",
    "#                                                           'year', 'month', 'day_of_month']], on='user_id', how='outer')"
   ]
  },
  {
   "cell_type": "code",
   "execution_count": 116,
   "metadata": {},
   "outputs": [
    {
     "data": {
      "text/html": [
       "<div>\n",
       "<style scoped>\n",
       "    .dataframe tbody tr th:only-of-type {\n",
       "        vertical-align: middle;\n",
       "    }\n",
       "\n",
       "    .dataframe tbody tr th {\n",
       "        vertical-align: top;\n",
       "    }\n",
       "\n",
       "    .dataframe thead th {\n",
       "        text-align: right;\n",
       "    }\n",
       "</style>\n",
       "<table border=\"1\" class=\"dataframe\">\n",
       "  <thead>\n",
       "    <tr style=\"text-align: right;\">\n",
       "      <th></th>\n",
       "      <th>user_id</th>\n",
       "      <th>event_unique_days</th>\n",
       "      <th>subm_unique_days</th>\n",
       "      <th>event_steps_tried</th>\n",
       "      <th>subm_step_tried</th>\n",
       "      <th>discovered</th>\n",
       "      <th>passed</th>\n",
       "      <th>started_attempt</th>\n",
       "      <th>viewed</th>\n",
       "      <th>passed_ratio</th>\n",
       "      <th>correct</th>\n",
       "      <th>wrong</th>\n",
       "      <th>correct_ratio</th>\n",
       "      <th>action_passed</th>\n",
       "      <th>is_submit</th>\n",
       "      <th>is_correct_submit</th>\n",
       "    </tr>\n",
       "  </thead>\n",
       "  <tbody>\n",
       "    <tr>\n",
       "      <th>0</th>\n",
       "      <td>17632</td>\n",
       "      <td>2</td>\n",
       "      <td>1.0</td>\n",
       "      <td>17</td>\n",
       "      <td>2.0</td>\n",
       "      <td>17</td>\n",
       "      <td>14</td>\n",
       "      <td>2</td>\n",
       "      <td>29</td>\n",
       "      <td>0.225806</td>\n",
       "      <td>2.0</td>\n",
       "      <td>0.0</td>\n",
       "      <td>1.000000</td>\n",
       "      <td>1</td>\n",
       "      <td>1</td>\n",
       "      <td>1</td>\n",
       "    </tr>\n",
       "    <tr>\n",
       "      <th>1</th>\n",
       "      <td>12494</td>\n",
       "      <td>2</td>\n",
       "      <td>1.0</td>\n",
       "      <td>17</td>\n",
       "      <td>4.0</td>\n",
       "      <td>17</td>\n",
       "      <td>14</td>\n",
       "      <td>1</td>\n",
       "      <td>24</td>\n",
       "      <td>0.250000</td>\n",
       "      <td>4.0</td>\n",
       "      <td>2.0</td>\n",
       "      <td>0.666667</td>\n",
       "      <td>1</td>\n",
       "      <td>1</td>\n",
       "      <td>1</td>\n",
       "    </tr>\n",
       "    <tr>\n",
       "      <th>2</th>\n",
       "      <td>442</td>\n",
       "      <td>1</td>\n",
       "      <td>1.0</td>\n",
       "      <td>19</td>\n",
       "      <td>6.0</td>\n",
       "      <td>19</td>\n",
       "      <td>18</td>\n",
       "      <td>7</td>\n",
       "      <td>31</td>\n",
       "      <td>0.240000</td>\n",
       "      <td>5.0</td>\n",
       "      <td>16.0</td>\n",
       "      <td>0.238095</td>\n",
       "      <td>1</td>\n",
       "      <td>1</td>\n",
       "      <td>1</td>\n",
       "    </tr>\n",
       "    <tr>\n",
       "      <th>3</th>\n",
       "      <td>22254</td>\n",
       "      <td>2</td>\n",
       "      <td>1.0</td>\n",
       "      <td>27</td>\n",
       "      <td>8.0</td>\n",
       "      <td>27</td>\n",
       "      <td>27</td>\n",
       "      <td>10</td>\n",
       "      <td>36</td>\n",
       "      <td>0.270000</td>\n",
       "      <td>8.0</td>\n",
       "      <td>15.0</td>\n",
       "      <td>0.347826</td>\n",
       "      <td>1</td>\n",
       "      <td>1</td>\n",
       "      <td>1</td>\n",
       "    </tr>\n",
       "    <tr>\n",
       "      <th>4</th>\n",
       "      <td>6646</td>\n",
       "      <td>1</td>\n",
       "      <td>1.0</td>\n",
       "      <td>2</td>\n",
       "      <td>2.0</td>\n",
       "      <td>2</td>\n",
       "      <td>2</td>\n",
       "      <td>0</td>\n",
       "      <td>3</td>\n",
       "      <td>0.285714</td>\n",
       "      <td>2.0</td>\n",
       "      <td>0.0</td>\n",
       "      <td>1.000000</td>\n",
       "      <td>1</td>\n",
       "      <td>1</td>\n",
       "      <td>1</td>\n",
       "    </tr>\n",
       "  </tbody>\n",
       "</table>\n",
       "</div>"
      ],
      "text/plain": [
       "   user_id  event_unique_days  subm_unique_days  event_steps_tried  \\\n",
       "0    17632                  2               1.0                 17   \n",
       "1    12494                  2               1.0                 17   \n",
       "2      442                  1               1.0                 19   \n",
       "3    22254                  2               1.0                 27   \n",
       "4     6646                  1               1.0                  2   \n",
       "\n",
       "   subm_step_tried  discovered  passed  started_attempt  viewed  passed_ratio  \\\n",
       "0              2.0          17      14                2      29      0.225806   \n",
       "1              4.0          17      14                1      24      0.250000   \n",
       "2              6.0          19      18                7      31      0.240000   \n",
       "3              8.0          27      27               10      36      0.270000   \n",
       "4              2.0           2       2                0       3      0.285714   \n",
       "\n",
       "   correct  wrong  correct_ratio  action_passed  is_submit  is_correct_submit  \n",
       "0      2.0    0.0       1.000000              1          1                  1  \n",
       "1      4.0    2.0       0.666667              1          1                  1  \n",
       "2      5.0   16.0       0.238095              1          1                  1  \n",
       "3      8.0   15.0       0.347826              1          1                  1  \n",
       "4      2.0    0.0       1.000000              1          1                  1  "
      ]
     },
     "execution_count": 116,
     "metadata": {},
     "output_type": "execute_result"
    }
   ],
   "source": [
    "X_train.head()"
   ]
  },
  {
   "cell_type": "code",
   "execution_count": 117,
   "metadata": {},
   "outputs": [
    {
     "data": {
      "text/plain": [
       "user_id                 0\n",
       "event_unique_days       0\n",
       "subm_unique_days     9294\n",
       "event_steps_tried       0\n",
       "subm_step_tried      9294\n",
       "discovered              0\n",
       "passed                  0\n",
       "started_attempt         0\n",
       "viewed                  0\n",
       "passed_ratio            0\n",
       "correct              9294\n",
       "wrong                9294\n",
       "correct_ratio        9294\n",
       "action_passed           0\n",
       "is_submit               0\n",
       "is_correct_submit       0\n",
       "dtype: int64"
      ]
     },
     "execution_count": 117,
     "metadata": {},
     "output_type": "execute_result"
    }
   ],
   "source": [
    "X_train.isnull().sum()"
   ]
  },
  {
   "cell_type": "code",
   "execution_count": 118,
   "metadata": {},
   "outputs": [],
   "source": [
    "################################################################################################################################"
   ]
  },
  {
   "cell_type": "code",
   "execution_count": 119,
   "metadata": {},
   "outputs": [],
   "source": [
    "X_train['correct_wrong_ratio'] = X_train['correct'] / (X_train['wrong'] + 0.001)"
   ]
  },
  {
   "cell_type": "code",
   "execution_count": 120,
   "metadata": {},
   "outputs": [],
   "source": [
    "X_train['passed_discovered_ratio'] = X_train['passed'] / (X_train['discovered'] + 0.001)\n",
    "X_train['passed_started_attempt_ratio'] = X_train['passed'] / (X_train['started_attempt'] + 0.001)\n",
    "X_train['passed_viewed_ratio'] = X_train['passed'] / (X_train['viewed'] + 0.001)"
   ]
  },
  {
   "cell_type": "code",
   "execution_count": 121,
   "metadata": {},
   "outputs": [],
   "source": [
    "X_train['correct_passed_ratio'] = X_train['correct'] / (X_train['passed'] + 0.001)"
   ]
  },
  {
   "cell_type": "code",
   "execution_count": 122,
   "metadata": {},
   "outputs": [],
   "source": [
    "# X_train = X_train.replace([np.inf, -np.inf], np.nan)"
   ]
  },
  {
   "cell_type": "code",
   "execution_count": 123,
   "metadata": {},
   "outputs": [],
   "source": [
    "# X_train.head()"
   ]
  },
  {
   "cell_type": "code",
   "execution_count": 124,
   "metadata": {},
   "outputs": [],
   "source": [
    "################################################################################################################################"
   ]
  },
  {
   "cell_type": "code",
   "execution_count": 125,
   "metadata": {},
   "outputs": [],
   "source": [
    "X_train['total_subm'] = X_train['correct'] + X_train['wrong']\n",
    "X_train['total_events'] = X_train['discovered'] + X_train['started_attempt'] + X_train['viewed'] + X_train['passed']"
   ]
  },
  {
   "cell_type": "code",
   "execution_count": 126,
   "metadata": {},
   "outputs": [],
   "source": [
    "################################################################################################################################"
   ]
  },
  {
   "cell_type": "code",
   "execution_count": 127,
   "metadata": {},
   "outputs": [
    {
     "data": {
      "text/plain": [
       "(19234, 23)"
      ]
     },
     "execution_count": 127,
     "metadata": {},
     "output_type": "execute_result"
    }
   ],
   "source": [
    "X_train.shape"
   ]
  },
  {
   "cell_type": "code",
   "execution_count": 128,
   "metadata": {},
   "outputs": [
    {
     "data": {
      "text/plain": [
       "Index(['user_id', 'event_unique_days', 'subm_unique_days', 'event_steps_tried',\n",
       "       'subm_step_tried', 'discovered', 'passed', 'started_attempt', 'viewed',\n",
       "       'passed_ratio', 'correct', 'wrong', 'correct_ratio', 'action_passed',\n",
       "       'is_submit', 'is_correct_submit', 'correct_wrong_ratio',\n",
       "       'passed_discovered_ratio', 'passed_started_attempt_ratio',\n",
       "       'passed_viewed_ratio', 'correct_passed_ratio', 'total_subm',\n",
       "       'total_events'],\n",
       "      dtype='object')"
      ]
     },
     "execution_count": 128,
     "metadata": {},
     "output_type": "execute_result"
    }
   ],
   "source": [
    "X_train.columns"
   ]
  },
  {
   "cell_type": "code",
   "execution_count": 129,
   "metadata": {},
   "outputs": [
    {
     "data": {
      "text/html": [
       "<div>\n",
       "<style scoped>\n",
       "    .dataframe tbody tr th:only-of-type {\n",
       "        vertical-align: middle;\n",
       "    }\n",
       "\n",
       "    .dataframe tbody tr th {\n",
       "        vertical-align: top;\n",
       "    }\n",
       "\n",
       "    .dataframe thead th {\n",
       "        text-align: right;\n",
       "    }\n",
       "</style>\n",
       "<table border=\"1\" class=\"dataframe\">\n",
       "  <thead>\n",
       "    <tr style=\"text-align: right;\">\n",
       "      <th></th>\n",
       "      <th>user_id</th>\n",
       "      <th>event_unique_days</th>\n",
       "      <th>subm_unique_days</th>\n",
       "      <th>event_steps_tried</th>\n",
       "      <th>subm_step_tried</th>\n",
       "      <th>discovered</th>\n",
       "      <th>passed</th>\n",
       "      <th>started_attempt</th>\n",
       "      <th>viewed</th>\n",
       "      <th>passed_ratio</th>\n",
       "      <th>...</th>\n",
       "      <th>action_passed</th>\n",
       "      <th>is_submit</th>\n",
       "      <th>is_correct_submit</th>\n",
       "      <th>correct_wrong_ratio</th>\n",
       "      <th>passed_discovered_ratio</th>\n",
       "      <th>passed_started_attempt_ratio</th>\n",
       "      <th>passed_viewed_ratio</th>\n",
       "      <th>correct_passed_ratio</th>\n",
       "      <th>total_subm</th>\n",
       "      <th>total_events</th>\n",
       "    </tr>\n",
       "  </thead>\n",
       "  <tbody>\n",
       "    <tr>\n",
       "      <th>0</th>\n",
       "      <td>17632</td>\n",
       "      <td>2</td>\n",
       "      <td>1.0</td>\n",
       "      <td>17</td>\n",
       "      <td>2.0</td>\n",
       "      <td>17</td>\n",
       "      <td>14</td>\n",
       "      <td>2</td>\n",
       "      <td>29</td>\n",
       "      <td>0.225806</td>\n",
       "      <td>...</td>\n",
       "      <td>1</td>\n",
       "      <td>1</td>\n",
       "      <td>1</td>\n",
       "      <td>2000.000000</td>\n",
       "      <td>0.823481</td>\n",
       "      <td>6.996502</td>\n",
       "      <td>0.482742</td>\n",
       "      <td>0.142847</td>\n",
       "      <td>2.0</td>\n",
       "      <td>62</td>\n",
       "    </tr>\n",
       "    <tr>\n",
       "      <th>1</th>\n",
       "      <td>12494</td>\n",
       "      <td>2</td>\n",
       "      <td>1.0</td>\n",
       "      <td>17</td>\n",
       "      <td>4.0</td>\n",
       "      <td>17</td>\n",
       "      <td>14</td>\n",
       "      <td>1</td>\n",
       "      <td>24</td>\n",
       "      <td>0.250000</td>\n",
       "      <td>...</td>\n",
       "      <td>1</td>\n",
       "      <td>1</td>\n",
       "      <td>1</td>\n",
       "      <td>1.999000</td>\n",
       "      <td>0.823481</td>\n",
       "      <td>13.986014</td>\n",
       "      <td>0.583309</td>\n",
       "      <td>0.285694</td>\n",
       "      <td>6.0</td>\n",
       "      <td>56</td>\n",
       "    </tr>\n",
       "    <tr>\n",
       "      <th>2</th>\n",
       "      <td>442</td>\n",
       "      <td>1</td>\n",
       "      <td>1.0</td>\n",
       "      <td>19</td>\n",
       "      <td>6.0</td>\n",
       "      <td>19</td>\n",
       "      <td>18</td>\n",
       "      <td>7</td>\n",
       "      <td>31</td>\n",
       "      <td>0.240000</td>\n",
       "      <td>...</td>\n",
       "      <td>1</td>\n",
       "      <td>1</td>\n",
       "      <td>1</td>\n",
       "      <td>0.312480</td>\n",
       "      <td>0.947319</td>\n",
       "      <td>2.571061</td>\n",
       "      <td>0.580626</td>\n",
       "      <td>0.277762</td>\n",
       "      <td>21.0</td>\n",
       "      <td>75</td>\n",
       "    </tr>\n",
       "    <tr>\n",
       "      <th>3</th>\n",
       "      <td>22254</td>\n",
       "      <td>2</td>\n",
       "      <td>1.0</td>\n",
       "      <td>27</td>\n",
       "      <td>8.0</td>\n",
       "      <td>27</td>\n",
       "      <td>27</td>\n",
       "      <td>10</td>\n",
       "      <td>36</td>\n",
       "      <td>0.270000</td>\n",
       "      <td>...</td>\n",
       "      <td>1</td>\n",
       "      <td>1</td>\n",
       "      <td>1</td>\n",
       "      <td>0.533298</td>\n",
       "      <td>0.999963</td>\n",
       "      <td>2.699730</td>\n",
       "      <td>0.749979</td>\n",
       "      <td>0.296285</td>\n",
       "      <td>23.0</td>\n",
       "      <td>100</td>\n",
       "    </tr>\n",
       "    <tr>\n",
       "      <th>4</th>\n",
       "      <td>6646</td>\n",
       "      <td>1</td>\n",
       "      <td>1.0</td>\n",
       "      <td>2</td>\n",
       "      <td>2.0</td>\n",
       "      <td>2</td>\n",
       "      <td>2</td>\n",
       "      <td>0</td>\n",
       "      <td>3</td>\n",
       "      <td>0.285714</td>\n",
       "      <td>...</td>\n",
       "      <td>1</td>\n",
       "      <td>1</td>\n",
       "      <td>1</td>\n",
       "      <td>2000.000000</td>\n",
       "      <td>0.999500</td>\n",
       "      <td>2000.000000</td>\n",
       "      <td>0.666445</td>\n",
       "      <td>0.999500</td>\n",
       "      <td>2.0</td>\n",
       "      <td>7</td>\n",
       "    </tr>\n",
       "  </tbody>\n",
       "</table>\n",
       "<p>5 rows × 23 columns</p>\n",
       "</div>"
      ],
      "text/plain": [
       "   user_id  event_unique_days  subm_unique_days  event_steps_tried  \\\n",
       "0    17632                  2               1.0                 17   \n",
       "1    12494                  2               1.0                 17   \n",
       "2      442                  1               1.0                 19   \n",
       "3    22254                  2               1.0                 27   \n",
       "4     6646                  1               1.0                  2   \n",
       "\n",
       "   subm_step_tried  discovered  passed  started_attempt  viewed  passed_ratio  \\\n",
       "0              2.0          17      14                2      29      0.225806   \n",
       "1              4.0          17      14                1      24      0.250000   \n",
       "2              6.0          19      18                7      31      0.240000   \n",
       "3              8.0          27      27               10      36      0.270000   \n",
       "4              2.0           2       2                0       3      0.285714   \n",
       "\n",
       "       ...       action_passed  is_submit  is_correct_submit  \\\n",
       "0      ...                   1          1                  1   \n",
       "1      ...                   1          1                  1   \n",
       "2      ...                   1          1                  1   \n",
       "3      ...                   1          1                  1   \n",
       "4      ...                   1          1                  1   \n",
       "\n",
       "   correct_wrong_ratio  passed_discovered_ratio  passed_started_attempt_ratio  \\\n",
       "0          2000.000000                 0.823481                      6.996502   \n",
       "1             1.999000                 0.823481                     13.986014   \n",
       "2             0.312480                 0.947319                      2.571061   \n",
       "3             0.533298                 0.999963                      2.699730   \n",
       "4          2000.000000                 0.999500                   2000.000000   \n",
       "\n",
       "   passed_viewed_ratio  correct_passed_ratio  total_subm  total_events  \n",
       "0             0.482742              0.142847         2.0            62  \n",
       "1             0.583309              0.285694         6.0            56  \n",
       "2             0.580626              0.277762        21.0            75  \n",
       "3             0.749979              0.296285        23.0           100  \n",
       "4             0.666445              0.999500         2.0             7  \n",
       "\n",
       "[5 rows x 23 columns]"
      ]
     },
     "execution_count": 129,
     "metadata": {},
     "output_type": "execute_result"
    }
   ],
   "source": [
    "X_train.head()"
   ]
  },
  {
   "cell_type": "markdown",
   "metadata": {},
   "source": [
    "### Заповнимо пропуски нулями"
   ]
  },
  {
   "cell_type": "code",
   "execution_count": 130,
   "metadata": {},
   "outputs": [],
   "source": [
    "X_train = X_train.fillna(0)"
   ]
  },
  {
   "cell_type": "code",
   "execution_count": 131,
   "metadata": {},
   "outputs": [
    {
     "data": {
      "text/plain": [
       "0"
      ]
     },
     "execution_count": 131,
     "metadata": {},
     "output_type": "execute_result"
    }
   ],
   "source": [
    "X_train.isnull().sum().sum()"
   ]
  },
  {
   "cell_type": "code",
   "execution_count": 132,
   "metadata": {},
   "outputs": [],
   "source": [
    "################################################################################################################################"
   ]
  },
  {
   "cell_type": "code",
   "execution_count": 133,
   "metadata": {},
   "outputs": [
    {
     "data": {
      "image/png": "[encoded data removed]",
      "text/plain": [
       "<Figure size 1008x1008 with 2 Axes>"
      ]
     },
     "metadata": {},
     "output_type": "display_data"
    }
   ],
   "source": [
    "plt.figure(figsize=(14, 14))\n",
    "sns.heatmap(X_train.corr().round(2), cmap=\"YlGnBu\", annot=True);"
   ]
  },
  {
   "cell_type": "code",
   "execution_count": 134,
   "metadata": {},
   "outputs": [],
   "source": [
    "################################################################################################################################"
   ]
  },
  {
   "cell_type": "code",
   "execution_count": 135,
   "metadata": {},
   "outputs": [],
   "source": [
    "# X_train.columns"
   ]
  },
  {
   "cell_type": "code",
   "execution_count": 136,
   "metadata": {},
   "outputs": [],
   "source": [
    "# X_train = X_train[['user_id', \n",
    "#                    'passed_ratio', 'wrong', \n",
    "#                    'correct_ratio', 'correct', \n",
    "#                    'year',\n",
    "#                    'month', 'day_of_month']].copy()"
   ]
  },
  {
   "cell_type": "code",
   "execution_count": 137,
   "metadata": {},
   "outputs": [],
   "source": [
    "# plt.figure(figsize=(14, 14))\n",
    "# sns.heatmap(X_train.corr().round(2), cmap=\"YlGnBu\", annot=True);"
   ]
  },
  {
   "cell_type": "code",
   "execution_count": null,
   "metadata": {},
   "outputs": [],
   "source": []
  },
  {
   "cell_type": "code",
   "execution_count": null,
   "metadata": {},
   "outputs": [],
   "source": []
  },
  {
   "cell_type": "code",
   "execution_count": null,
   "metadata": {},
   "outputs": [],
   "source": []
  },
  {
   "cell_type": "code",
   "execution_count": 138,
   "metadata": {},
   "outputs": [],
   "source": [
    "################################################################################################################################"
   ]
  },
  {
   "cell_type": "markdown",
   "metadata": {},
   "source": [
    "### Зазначимо 'user_id' як індекс"
   ]
  },
  {
   "cell_type": "code",
   "execution_count": 139,
   "metadata": {},
   "outputs": [],
   "source": [
    "# X_train = X_train.set_index(['user_id'])"
   ]
  },
  {
   "cell_type": "code",
   "execution_count": 140,
   "metadata": {},
   "outputs": [
    {
     "data": {
      "text/html": [
       "<div>\n",
       "<style scoped>\n",
       "    .dataframe tbody tr th:only-of-type {\n",
       "        vertical-align: middle;\n",
       "    }\n",
       "\n",
       "    .dataframe tbody tr th {\n",
       "        vertical-align: top;\n",
       "    }\n",
       "\n",
       "    .dataframe thead th {\n",
       "        text-align: right;\n",
       "    }\n",
       "</style>\n",
       "<table border=\"1\" class=\"dataframe\">\n",
       "  <thead>\n",
       "    <tr style=\"text-align: right;\">\n",
       "      <th></th>\n",
       "      <th>user_id</th>\n",
       "      <th>event_unique_days</th>\n",
       "      <th>subm_unique_days</th>\n",
       "      <th>event_steps_tried</th>\n",
       "      <th>subm_step_tried</th>\n",
       "      <th>discovered</th>\n",
       "      <th>passed</th>\n",
       "      <th>started_attempt</th>\n",
       "      <th>viewed</th>\n",
       "      <th>passed_ratio</th>\n",
       "      <th>...</th>\n",
       "      <th>action_passed</th>\n",
       "      <th>is_submit</th>\n",
       "      <th>is_correct_submit</th>\n",
       "      <th>correct_wrong_ratio</th>\n",
       "      <th>passed_discovered_ratio</th>\n",
       "      <th>passed_started_attempt_ratio</th>\n",
       "      <th>passed_viewed_ratio</th>\n",
       "      <th>correct_passed_ratio</th>\n",
       "      <th>total_subm</th>\n",
       "      <th>total_events</th>\n",
       "    </tr>\n",
       "  </thead>\n",
       "  <tbody>\n",
       "    <tr>\n",
       "      <th>0</th>\n",
       "      <td>17632</td>\n",
       "      <td>2</td>\n",
       "      <td>1.0</td>\n",
       "      <td>17</td>\n",
       "      <td>2.0</td>\n",
       "      <td>17</td>\n",
       "      <td>14</td>\n",
       "      <td>2</td>\n",
       "      <td>29</td>\n",
       "      <td>0.225806</td>\n",
       "      <td>...</td>\n",
       "      <td>1</td>\n",
       "      <td>1</td>\n",
       "      <td>1</td>\n",
       "      <td>2000.000000</td>\n",
       "      <td>0.823481</td>\n",
       "      <td>6.996502</td>\n",
       "      <td>0.482742</td>\n",
       "      <td>0.142847</td>\n",
       "      <td>2.0</td>\n",
       "      <td>62</td>\n",
       "    </tr>\n",
       "    <tr>\n",
       "      <th>1</th>\n",
       "      <td>12494</td>\n",
       "      <td>2</td>\n",
       "      <td>1.0</td>\n",
       "      <td>17</td>\n",
       "      <td>4.0</td>\n",
       "      <td>17</td>\n",
       "      <td>14</td>\n",
       "      <td>1</td>\n",
       "      <td>24</td>\n",
       "      <td>0.250000</td>\n",
       "      <td>...</td>\n",
       "      <td>1</td>\n",
       "      <td>1</td>\n",
       "      <td>1</td>\n",
       "      <td>1.999000</td>\n",
       "      <td>0.823481</td>\n",
       "      <td>13.986014</td>\n",
       "      <td>0.583309</td>\n",
       "      <td>0.285694</td>\n",
       "      <td>6.0</td>\n",
       "      <td>56</td>\n",
       "    </tr>\n",
       "    <tr>\n",
       "      <th>2</th>\n",
       "      <td>442</td>\n",
       "      <td>1</td>\n",
       "      <td>1.0</td>\n",
       "      <td>19</td>\n",
       "      <td>6.0</td>\n",
       "      <td>19</td>\n",
       "      <td>18</td>\n",
       "      <td>7</td>\n",
       "      <td>31</td>\n",
       "      <td>0.240000</td>\n",
       "      <td>...</td>\n",
       "      <td>1</td>\n",
       "      <td>1</td>\n",
       "      <td>1</td>\n",
       "      <td>0.312480</td>\n",
       "      <td>0.947319</td>\n",
       "      <td>2.571061</td>\n",
       "      <td>0.580626</td>\n",
       "      <td>0.277762</td>\n",
       "      <td>21.0</td>\n",
       "      <td>75</td>\n",
       "    </tr>\n",
       "    <tr>\n",
       "      <th>3</th>\n",
       "      <td>22254</td>\n",
       "      <td>2</td>\n",
       "      <td>1.0</td>\n",
       "      <td>27</td>\n",
       "      <td>8.0</td>\n",
       "      <td>27</td>\n",
       "      <td>27</td>\n",
       "      <td>10</td>\n",
       "      <td>36</td>\n",
       "      <td>0.270000</td>\n",
       "      <td>...</td>\n",
       "      <td>1</td>\n",
       "      <td>1</td>\n",
       "      <td>1</td>\n",
       "      <td>0.533298</td>\n",
       "      <td>0.999963</td>\n",
       "      <td>2.699730</td>\n",
       "      <td>0.749979</td>\n",
       "      <td>0.296285</td>\n",
       "      <td>23.0</td>\n",
       "      <td>100</td>\n",
       "    </tr>\n",
       "    <tr>\n",
       "      <th>4</th>\n",
       "      <td>6646</td>\n",
       "      <td>1</td>\n",
       "      <td>1.0</td>\n",
       "      <td>2</td>\n",
       "      <td>2.0</td>\n",
       "      <td>2</td>\n",
       "      <td>2</td>\n",
       "      <td>0</td>\n",
       "      <td>3</td>\n",
       "      <td>0.285714</td>\n",
       "      <td>...</td>\n",
       "      <td>1</td>\n",
       "      <td>1</td>\n",
       "      <td>1</td>\n",
       "      <td>2000.000000</td>\n",
       "      <td>0.999500</td>\n",
       "      <td>2000.000000</td>\n",
       "      <td>0.666445</td>\n",
       "      <td>0.999500</td>\n",
       "      <td>2.0</td>\n",
       "      <td>7</td>\n",
       "    </tr>\n",
       "  </tbody>\n",
       "</table>\n",
       "<p>5 rows × 23 columns</p>\n",
       "</div>"
      ],
      "text/plain": [
       "   user_id  event_unique_days  subm_unique_days  event_steps_tried  \\\n",
       "0    17632                  2               1.0                 17   \n",
       "1    12494                  2               1.0                 17   \n",
       "2      442                  1               1.0                 19   \n",
       "3    22254                  2               1.0                 27   \n",
       "4     6646                  1               1.0                  2   \n",
       "\n",
       "   subm_step_tried  discovered  passed  started_attempt  viewed  passed_ratio  \\\n",
       "0              2.0          17      14                2      29      0.225806   \n",
       "1              4.0          17      14                1      24      0.250000   \n",
       "2              6.0          19      18                7      31      0.240000   \n",
       "3              8.0          27      27               10      36      0.270000   \n",
       "4              2.0           2       2                0       3      0.285714   \n",
       "\n",
       "       ...       action_passed  is_submit  is_correct_submit  \\\n",
       "0      ...                   1          1                  1   \n",
       "1      ...                   1          1                  1   \n",
       "2      ...                   1          1                  1   \n",
       "3      ...                   1          1                  1   \n",
       "4      ...                   1          1                  1   \n",
       "\n",
       "   correct_wrong_ratio  passed_discovered_ratio  passed_started_attempt_ratio  \\\n",
       "0          2000.000000                 0.823481                      6.996502   \n",
       "1             1.999000                 0.823481                     13.986014   \n",
       "2             0.312480                 0.947319                      2.571061   \n",
       "3             0.533298                 0.999963                      2.699730   \n",
       "4          2000.000000                 0.999500                   2000.000000   \n",
       "\n",
       "   passed_viewed_ratio  correct_passed_ratio  total_subm  total_events  \n",
       "0             0.482742              0.142847         2.0            62  \n",
       "1             0.583309              0.285694         6.0            56  \n",
       "2             0.580626              0.277762        21.0            75  \n",
       "3             0.749979              0.296285        23.0           100  \n",
       "4             0.666445              0.999500         2.0             7  \n",
       "\n",
       "[5 rows x 23 columns]"
      ]
     },
     "execution_count": 140,
     "metadata": {},
     "output_type": "execute_result"
    }
   ],
   "source": [
    "X_train.head()"
   ]
  },
  {
   "cell_type": "code",
   "execution_count": 141,
   "metadata": {},
   "outputs": [
    {
     "data": {
      "text/html": [
       "<div>\n",
       "<style scoped>\n",
       "    .dataframe tbody tr th:only-of-type {\n",
       "        vertical-align: middle;\n",
       "    }\n",
       "\n",
       "    .dataframe tbody tr th {\n",
       "        vertical-align: top;\n",
       "    }\n",
       "\n",
       "    .dataframe thead th {\n",
       "        text-align: right;\n",
       "    }\n",
       "</style>\n",
       "<table border=\"1\" class=\"dataframe\">\n",
       "  <thead>\n",
       "    <tr style=\"text-align: right;\">\n",
       "      <th></th>\n",
       "      <th>user_id</th>\n",
       "      <th>event_unique_days</th>\n",
       "      <th>subm_unique_days</th>\n",
       "      <th>event_steps_tried</th>\n",
       "      <th>subm_step_tried</th>\n",
       "      <th>discovered</th>\n",
       "      <th>passed</th>\n",
       "      <th>started_attempt</th>\n",
       "      <th>viewed</th>\n",
       "      <th>passed_ratio</th>\n",
       "      <th>...</th>\n",
       "      <th>action_passed</th>\n",
       "      <th>is_submit</th>\n",
       "      <th>is_correct_submit</th>\n",
       "      <th>correct_wrong_ratio</th>\n",
       "      <th>passed_discovered_ratio</th>\n",
       "      <th>passed_started_attempt_ratio</th>\n",
       "      <th>passed_viewed_ratio</th>\n",
       "      <th>correct_passed_ratio</th>\n",
       "      <th>total_subm</th>\n",
       "      <th>total_events</th>\n",
       "    </tr>\n",
       "  </thead>\n",
       "  <tbody>\n",
       "    <tr>\n",
       "      <th>count</th>\n",
       "      <td>19234.000000</td>\n",
       "      <td>19234.000000</td>\n",
       "      <td>19234.000000</td>\n",
       "      <td>19234.000000</td>\n",
       "      <td>19234.000000</td>\n",
       "      <td>19234.000000</td>\n",
       "      <td>19234.000000</td>\n",
       "      <td>19234.000000</td>\n",
       "      <td>19234.000000</td>\n",
       "      <td>19234.000000</td>\n",
       "      <td>...</td>\n",
       "      <td>19234.000000</td>\n",
       "      <td>19234.000000</td>\n",
       "      <td>19234.000000</td>\n",
       "      <td>19234.000000</td>\n",
       "      <td>19234.000000</td>\n",
       "      <td>19234.000000</td>\n",
       "      <td>19234.000000</td>\n",
       "      <td>19234.000000</td>\n",
       "      <td>19234.000000</td>\n",
       "      <td>19234.000000</td>\n",
       "    </tr>\n",
       "    <tr>\n",
       "      <th>mean</th>\n",
       "      <td>13363.573672</td>\n",
       "      <td>1.343038</td>\n",
       "      <td>0.714464</td>\n",
       "      <td>12.399969</td>\n",
       "      <td>3.689560</td>\n",
       "      <td>12.364719</td>\n",
       "      <td>11.406936</td>\n",
       "      <td>4.109754</td>\n",
       "      <td>19.232765</td>\n",
       "      <td>0.246954</td>\n",
       "      <td>...</td>\n",
       "      <td>0.895654</td>\n",
       "      <td>0.516793</td>\n",
       "      <td>0.508527</td>\n",
       "      <td>484.755974</td>\n",
       "      <td>0.893316</td>\n",
       "      <td>1030.782011</td>\n",
       "      <td>0.739557</td>\n",
       "      <td>2.488830</td>\n",
       "      <td>6.998648</td>\n",
       "      <td>47.114173</td>\n",
       "    </tr>\n",
       "    <tr>\n",
       "      <th>std</th>\n",
       "      <td>7750.057260</td>\n",
       "      <td>0.624989</td>\n",
       "      <td>0.823593</td>\n",
       "      <td>18.065414</td>\n",
       "      <td>6.763051</td>\n",
       "      <td>18.037576</td>\n",
       "      <td>16.813943</td>\n",
       "      <td>8.034247</td>\n",
       "      <td>32.074984</td>\n",
       "      <td>0.098464</td>\n",
       "      <td>...</td>\n",
       "      <td>0.305717</td>\n",
       "      <td>0.499731</td>\n",
       "      <td>0.499940</td>\n",
       "      <td>1400.976724</td>\n",
       "      <td>7.211159</td>\n",
       "      <td>3933.789019</td>\n",
       "      <td>7.212776</td>\n",
       "      <td>108.390880</td>\n",
       "      <td>15.001312</td>\n",
       "      <td>72.263644</td>\n",
       "    </tr>\n",
       "    <tr>\n",
       "      <th>min</th>\n",
       "      <td>1.000000</td>\n",
       "      <td>1.000000</td>\n",
       "      <td>0.000000</td>\n",
       "      <td>1.000000</td>\n",
       "      <td>0.000000</td>\n",
       "      <td>0.000000</td>\n",
       "      <td>0.000000</td>\n",
       "      <td>0.000000</td>\n",
       "      <td>0.000000</td>\n",
       "      <td>0.000000</td>\n",
       "      <td>...</td>\n",
       "      <td>0.000000</td>\n",
       "      <td>0.000000</td>\n",
       "      <td>0.000000</td>\n",
       "      <td>0.000000</td>\n",
       "      <td>0.000000</td>\n",
       "      <td>0.000000</td>\n",
       "      <td>0.000000</td>\n",
       "      <td>0.000000</td>\n",
       "      <td>0.000000</td>\n",
       "      <td>1.000000</td>\n",
       "    </tr>\n",
       "    <tr>\n",
       "      <th>25%</th>\n",
       "      <td>6636.500000</td>\n",
       "      <td>1.000000</td>\n",
       "      <td>0.000000</td>\n",
       "      <td>1.000000</td>\n",
       "      <td>0.000000</td>\n",
       "      <td>1.000000</td>\n",
       "      <td>1.000000</td>\n",
       "      <td>0.000000</td>\n",
       "      <td>1.000000</td>\n",
       "      <td>0.222222</td>\n",
       "      <td>...</td>\n",
       "      <td>1.000000</td>\n",
       "      <td>0.000000</td>\n",
       "      <td>0.000000</td>\n",
       "      <td>0.000000</td>\n",
       "      <td>0.857082</td>\n",
       "      <td>2.428456</td>\n",
       "      <td>0.499750</td>\n",
       "      <td>0.000000</td>\n",
       "      <td>0.000000</td>\n",
       "      <td>3.000000</td>\n",
       "    </tr>\n",
       "    <tr>\n",
       "      <th>50%</th>\n",
       "      <td>13358.000000</td>\n",
       "      <td>1.000000</td>\n",
       "      <td>1.000000</td>\n",
       "      <td>6.000000</td>\n",
       "      <td>1.000000</td>\n",
       "      <td>6.000000</td>\n",
       "      <td>5.000000</td>\n",
       "      <td>1.000000</td>\n",
       "      <td>7.000000</td>\n",
       "      <td>0.272727</td>\n",
       "      <td>...</td>\n",
       "      <td>1.000000</td>\n",
       "      <td>1.000000</td>\n",
       "      <td>1.000000</td>\n",
       "      <td>0.187292</td>\n",
       "      <td>0.999001</td>\n",
       "      <td>4.497751</td>\n",
       "      <td>0.749938</td>\n",
       "      <td>0.080538</td>\n",
       "      <td>1.000000</td>\n",
       "      <td>19.000000</td>\n",
       "    </tr>\n",
       "    <tr>\n",
       "      <th>75%</th>\n",
       "      <td>20073.750000</td>\n",
       "      <td>2.000000</td>\n",
       "      <td>1.000000</td>\n",
       "      <td>16.000000</td>\n",
       "      <td>4.000000</td>\n",
       "      <td>16.000000</td>\n",
       "      <td>14.000000</td>\n",
       "      <td>5.000000</td>\n",
       "      <td>23.000000</td>\n",
       "      <td>0.333333</td>\n",
       "      <td>...</td>\n",
       "      <td>1.000000</td>\n",
       "      <td>1.000000</td>\n",
       "      <td>1.000000</td>\n",
       "      <td>3.320478</td>\n",
       "      <td>0.999833</td>\n",
       "      <td>1000.000000</td>\n",
       "      <td>0.999001</td>\n",
       "      <td>0.312480</td>\n",
       "      <td>7.000000</td>\n",
       "      <td>58.000000</td>\n",
       "    </tr>\n",
       "    <tr>\n",
       "      <th>max</th>\n",
       "      <td>26798.000000</td>\n",
       "      <td>3.000000</td>\n",
       "      <td>3.000000</td>\n",
       "      <td>198.000000</td>\n",
       "      <td>76.000000</td>\n",
       "      <td>198.000000</td>\n",
       "      <td>198.000000</td>\n",
       "      <td>135.000000</td>\n",
       "      <td>568.000000</td>\n",
       "      <td>0.500000</td>\n",
       "      <td>...</td>\n",
       "      <td>1.000000</td>\n",
       "      <td>1.000000</td>\n",
       "      <td>1.000000</td>\n",
       "      <td>65000.000000</td>\n",
       "      <td>1000.000000</td>\n",
       "      <td>112000.000000</td>\n",
       "      <td>1000.000000</td>\n",
       "      <td>9000.000000</td>\n",
       "      <td>219.000000</td>\n",
       "      <td>884.000000</td>\n",
       "    </tr>\n",
       "  </tbody>\n",
       "</table>\n",
       "<p>8 rows × 23 columns</p>\n",
       "</div>"
      ],
      "text/plain": [
       "            user_id  event_unique_days  subm_unique_days  event_steps_tried  \\\n",
       "count  19234.000000       19234.000000      19234.000000       19234.000000   \n",
       "mean   13363.573672           1.343038          0.714464          12.399969   \n",
       "std     7750.057260           0.624989          0.823593          18.065414   \n",
       "min        1.000000           1.000000          0.000000           1.000000   \n",
       "25%     6636.500000           1.000000          0.000000           1.000000   \n",
       "50%    13358.000000           1.000000          1.000000           6.000000   \n",
       "75%    20073.750000           2.000000          1.000000          16.000000   \n",
       "max    26798.000000           3.000000          3.000000         198.000000   \n",
       "\n",
       "       subm_step_tried    discovered        passed  started_attempt  \\\n",
       "count     19234.000000  19234.000000  19234.000000     19234.000000   \n",
       "mean          3.689560     12.364719     11.406936         4.109754   \n",
       "std           6.763051     18.037576     16.813943         8.034247   \n",
       "min           0.000000      0.000000      0.000000         0.000000   \n",
       "25%           0.000000      1.000000      1.000000         0.000000   \n",
       "50%           1.000000      6.000000      5.000000         1.000000   \n",
       "75%           4.000000     16.000000     14.000000         5.000000   \n",
       "max          76.000000    198.000000    198.000000       135.000000   \n",
       "\n",
       "             viewed  passed_ratio      ...       action_passed     is_submit  \\\n",
       "count  19234.000000  19234.000000      ...        19234.000000  19234.000000   \n",
       "mean      19.232765      0.246954      ...            0.895654      0.516793   \n",
       "std       32.074984      0.098464      ...            0.305717      0.499731   \n",
       "min        0.000000      0.000000      ...            0.000000      0.000000   \n",
       "25%        1.000000      0.222222      ...            1.000000      0.000000   \n",
       "50%        7.000000      0.272727      ...            1.000000      1.000000   \n",
       "75%       23.000000      0.333333      ...            1.000000      1.000000   \n",
       "max      568.000000      0.500000      ...            1.000000      1.000000   \n",
       "\n",
       "       is_correct_submit  correct_wrong_ratio  passed_discovered_ratio  \\\n",
       "count       19234.000000         19234.000000             19234.000000   \n",
       "mean            0.508527           484.755974                 0.893316   \n",
       "std             0.499940          1400.976724                 7.211159   \n",
       "min             0.000000             0.000000                 0.000000   \n",
       "25%             0.000000             0.000000                 0.857082   \n",
       "50%             1.000000             0.187292                 0.999001   \n",
       "75%             1.000000             3.320478                 0.999833   \n",
       "max             1.000000         65000.000000              1000.000000   \n",
       "\n",
       "       passed_started_attempt_ratio  passed_viewed_ratio  \\\n",
       "count                  19234.000000         19234.000000   \n",
       "mean                    1030.782011             0.739557   \n",
       "std                     3933.789019             7.212776   \n",
       "min                        0.000000             0.000000   \n",
       "25%                        2.428456             0.499750   \n",
       "50%                        4.497751             0.749938   \n",
       "75%                     1000.000000             0.999001   \n",
       "max                   112000.000000          1000.000000   \n",
       "\n",
       "       correct_passed_ratio    total_subm  total_events  \n",
       "count          19234.000000  19234.000000  19234.000000  \n",
       "mean               2.488830      6.998648     47.114173  \n",
       "std              108.390880     15.001312     72.263644  \n",
       "min                0.000000      0.000000      1.000000  \n",
       "25%                0.000000      0.000000      3.000000  \n",
       "50%                0.080538      1.000000     19.000000  \n",
       "75%                0.312480      7.000000     58.000000  \n",
       "max             9000.000000    219.000000    884.000000  \n",
       "\n",
       "[8 rows x 23 columns]"
      ]
     },
     "execution_count": 141,
     "metadata": {},
     "output_type": "execute_result"
    }
   ],
   "source": [
    "X_train.describe()"
   ]
  },
  {
   "cell_type": "markdown",
   "metadata": {},
   "source": [
    "### Створимо метод, який виконує всі попередні дії"
   ]
  },
  {
   "cell_type": "code",
   "execution_count": 142,
   "metadata": {},
   "outputs": [],
   "source": [
    "def data_preprocessing(events_data, submission_data):\n",
    "    events_data_test = events_data\n",
    "    submission_data_test = submission_data\n",
    "    \n",
    "    X = events_data_test[['user_id']] \\\n",
    "        .drop_duplicates(subset=['user_id']) \\\n",
    "        .reset_index().drop('index', axis=1)\n",
    "\n",
    "    first_timestamp_events_data_test = events_data_test.groupby('user_id', as_index=False) \\\n",
    "        .agg({'timestamp': 'min'}) \\\n",
    "        .rename(columns={'timestamp': 'first_timestamp'})\n",
    "\n",
    "    events_data_test = events_data_test.merge(first_timestamp_events_data_test, on='user_id', how='outer')\n",
    "\n",
    "    events_data_test['date'] = pd.to_datetime(events_data_test['timestamp'], unit='s')\n",
    "    events_data_test['date_short'] = events_data_test['date'].dt.date\n",
    "\n",
    "    event_unique_day = events_data_test.groupby('user_id')['date_short'].nunique().to_frame().reset_index()\n",
    "\n",
    "    X = X.merge(event_unique_day, on='user_id', how='outer')\n",
    "\n",
    "    submission_data_test['date'] = pd.to_datetime(submission_data_test['timestamp'], unit='s')\n",
    "    submission_data_test['date_short'] = submission_data_test['date'].dt.date\n",
    "\n",
    "    submissions_unique_day = submission_data_test.groupby('user_id')['date_short'].nunique().to_frame().reset_index()\n",
    "\n",
    "    X = X.merge(submissions_unique_day, on='user_id', how='outer')\n",
    "\n",
    "    X = X.rename(columns={'date_short_x': 'event_unique_days', 'date_short_y': 'subm_unique_days'})\n",
    "\n",
    "    event_step_tried = events_data_test.groupby('user_id')['step_id'].nunique().to_frame().reset_index() \\\n",
    "        .rename(columns={'step_id': 'event_steps_tried'})\n",
    "\n",
    "    X = X.merge(event_step_tried, on='user_id', how='outer')\n",
    "\n",
    "    subm_step_tried = submission_data_test.groupby('user_id')['step_id'].nunique().to_frame().reset_index() \\\n",
    "        .rename(columns={'step_id': 'subm_step_tried'})\n",
    "\n",
    "    X = X.merge(subm_step_tried, on='user_id', how='outer')\n",
    "\n",
    "    event_action = pd.crosstab(events_data_test['user_id'], events_data_test['action']).reset_index()\n",
    "\n",
    "    event_action['passed_ratio'] = event_action['passed'] / (event_action['passed'] + event_action['discovered'] \\\n",
    "                                                             + event_action['started_attempt'] \\\n",
    "                                                             + event_action['viewed'])\n",
    "\n",
    "    X = X.merge(event_action, on='user_id', how='outer')\n",
    "\n",
    "    submission_status = pd.crosstab(submission_data_test['user_id'], \n",
    "                                    submission_data_test['submission_status']).reset_index()\n",
    "\n",
    "    submission_status['correct_ratio'] = submission_status['correct'] / (submission_status['correct'] + submission_status['wrong'])\n",
    "\n",
    "    X = X.merge(submission_status, on='user_id', how='outer')\n",
    "\n",
    "    X['action_passed'] = np.where(X['passed'] > 0, 1, 0)\n",
    "\n",
    "    X['is_submit'] = np.where(((X['correct'] > 0) | (X['wrong'] > 0)), 1, 0)\n",
    "\n",
    "    X['is_correct_submit'] = np.where(X['correct'] > 0, 1, 0)\n",
    "\n",
    "#     events_data_test_first_timestamp = events_data_test[events_data_test['timestamp'] \\\n",
    "#                                                        == events_data_test['first_timestamp']]\n",
    "\n",
    "#     events_data_test_first_timestamp = events_data_test_first_timestamp.drop_duplicates(subset=['user_id'])\n",
    "\n",
    "#     events_data_test_first_timestamp['day_of_week'] = events_data_test_first_timestamp['date'].dt.weekday\n",
    "#     events_data_test_first_timestamp['is_weekend'] = np.where(events_data_test_first_timestamp['day_of_week'] > 4, 1, 0)\n",
    "#     events_data_test_first_timestamp['year'] = events_data_test_first_timestamp['date'].dt.year\n",
    "#     events_data_test_first_timestamp['month'] = events_data_test_first_timestamp['date'].dt.month\n",
    "#     events_data_test_first_timestamp['day_of_month'] = events_data_test_first_timestamp['date'].dt.day\n",
    "\n",
    "#     X = X.merge(events_data_test_first_timestamp[['user_id', 'day_of_week', 'is_weekend', \n",
    "#                                                            'year', 'month', 'day_of_month']], on='user_id', how='outer')\n",
    "    \n",
    "    X['correct_wrong_ratio'] = X['correct'] / (X['wrong'] + 0.001)\n",
    "\n",
    "    X['passed_discovered_ratio'] = X['passed'] / (X['discovered'] + 0.001)\n",
    "    X['passed_started_attempt_ratio'] = X['passed'] / (X['started_attempt'] + 0.001)\n",
    "    X['passed_viewed_ratio'] = X['passed'] / (X['viewed'] + 0.001)\n",
    "\n",
    "    X['correct_passed_ratio'] = X['correct'] / (X['passed'] + 0.001)\n",
    "    \n",
    "    # #     X = X.replace([np.inf, -np.inf], np.nan)\n",
    "    \n",
    "    X['total_subm'] = X['correct'] + X['wrong']\n",
    "    X['total_events'] = X['discovered'] + X['started_attempt'] + X['viewed'] + X['passed']\n",
    "\n",
    "#     X = X[['user_id', \n",
    "#            'passed_ratio', 'wrong', \n",
    "#            'correct_ratio', 'correct', \n",
    "#            'year',\n",
    "#            'month', 'day_of_month']].copy()\n",
    "\n",
    "    X = X.fillna(0)\n",
    "\n",
    "#     X = X.set_index(['user_id'])\n",
    "\n",
    "    return X"
   ]
  },
  {
   "cell_type": "markdown",
   "metadata": {},
   "source": [
    "### Поділимо з датафреймів з івентами і сабмітами окремі для першого і другого дня"
   ]
  },
  {
   "cell_type": "code",
   "execution_count": 143,
   "metadata": {},
   "outputs": [
    {
     "name": "stdout",
     "output_type": "stream",
     "text": [
      "(906194, 9)\n",
      "19234\n"
     ]
    }
   ],
   "source": [
    "print(event_data_train_first_2_days.shape)\n",
    "print(event_data_train_first_2_days['user_id'].nunique())"
   ]
  },
  {
   "cell_type": "code",
   "execution_count": 144,
   "metadata": {},
   "outputs": [],
   "source": [
    "event_data_train_day_1 = event_data_train_first_2_days[event_data_train_first_2_days['timestamp'] < \\\n",
    "                                                       event_data_train_first_2_days['1_day_timestamp']]"
   ]
  },
  {
   "cell_type": "code",
   "execution_count": 145,
   "metadata": {},
   "outputs": [
    {
     "name": "stdout",
     "output_type": "stream",
     "text": [
      "(751327, 9)\n",
      "19234\n"
     ]
    }
   ],
   "source": [
    "print(event_data_train_day_1.shape)\n",
    "print(event_data_train_day_1['user_id'].nunique())"
   ]
  },
  {
   "cell_type": "code",
   "execution_count": 146,
   "metadata": {},
   "outputs": [],
   "source": [
    "event_data_train_day_2 = event_data_train_first_2_days[event_data_train_first_2_days['timestamp'] >= \\\n",
    "                                                       event_data_train_first_2_days['1_day_timestamp']]"
   ]
  },
  {
   "cell_type": "code",
   "execution_count": 147,
   "metadata": {},
   "outputs": [
    {
     "name": "stdout",
     "output_type": "stream",
     "text": [
      "(154867, 9)\n",
      "3709\n"
     ]
    }
   ],
   "source": [
    "print(event_data_train_day_2.shape)\n",
    "print(event_data_train_day_2['user_id'].nunique())"
   ]
  },
  {
   "cell_type": "markdown",
   "metadata": {},
   "source": [
    "Аналогічно для сабмітів"
   ]
  },
  {
   "cell_type": "code",
   "execution_count": 148,
   "metadata": {},
   "outputs": [
    {
     "name": "stdout",
     "output_type": "stream",
     "text": [
      "(134612, 9)\n",
      "9940\n"
     ]
    }
   ],
   "source": [
    "print(submissions_data_train_first_2_days.shape)\n",
    "print(submissions_data_train_first_2_days['user_id'].nunique())"
   ]
  },
  {
   "cell_type": "code",
   "execution_count": 149,
   "metadata": {},
   "outputs": [],
   "source": [
    "submissions_data_train_day_1 = submissions_data_train_first_2_days[submissions_data_train_first_2_days['timestamp'] < \\\n",
    "                                                                   submissions_data_train_first_2_days['1_day_timestamp']]"
   ]
  },
  {
   "cell_type": "code",
   "execution_count": 150,
   "metadata": {},
   "outputs": [
    {
     "name": "stdout",
     "output_type": "stream",
     "text": [
      "(104821, 9)\n",
      "9940\n"
     ]
    }
   ],
   "source": [
    "print(submissions_data_train_day_1.shape)\n",
    "print(submissions_data_train_day_1['user_id'].nunique())"
   ]
  },
  {
   "cell_type": "code",
   "execution_count": 151,
   "metadata": {},
   "outputs": [],
   "source": [
    "submissions_data_train_day_2 = submissions_data_train_first_2_days[submissions_data_train_first_2_days['timestamp'] >= \\\n",
    "                                                                   submissions_data_train_first_2_days['1_day_timestamp']]"
   ]
  },
  {
   "cell_type": "code",
   "execution_count": 152,
   "metadata": {},
   "outputs": [
    {
     "name": "stdout",
     "output_type": "stream",
     "text": [
      "(29791, 9)\n",
      "2273\n"
     ]
    }
   ],
   "source": [
    "print(submissions_data_train_day_2.shape)\n",
    "print(submissions_data_train_day_2['user_id'].nunique())"
   ]
  },
  {
   "cell_type": "code",
   "execution_count": 153,
   "metadata": {},
   "outputs": [
    {
     "name": "stderr",
     "output_type": "stream",
     "text": [
      "C:\\ProgramData\\Anaconda3\\lib\\site-packages\\ipykernel_launcher.py:18: SettingWithCopyWarning: \n",
      "A value is trying to be set on a copy of a slice from a DataFrame.\n",
      "Try using .loc[row_indexer,col_indexer] = value instead\n",
      "\n",
      "See the caveats in the documentation: http://pandas.pydata.org/pandas-docs/stable/indexing.html#indexing-view-versus-copy\n",
      "C:\\ProgramData\\Anaconda3\\lib\\site-packages\\ipykernel_launcher.py:19: SettingWithCopyWarning: \n",
      "A value is trying to be set on a copy of a slice from a DataFrame.\n",
      "Try using .loc[row_indexer,col_indexer] = value instead\n",
      "\n",
      "See the caveats in the documentation: http://pandas.pydata.org/pandas-docs/stable/indexing.html#indexing-view-versus-copy\n"
     ]
    },
    {
     "data": {
      "text/html": [
       "<div>\n",
       "<style scoped>\n",
       "    .dataframe tbody tr th:only-of-type {\n",
       "        vertical-align: middle;\n",
       "    }\n",
       "\n",
       "    .dataframe tbody tr th {\n",
       "        vertical-align: top;\n",
       "    }\n",
       "\n",
       "    .dataframe thead th {\n",
       "        text-align: right;\n",
       "    }\n",
       "</style>\n",
       "<table border=\"1\" class=\"dataframe\">\n",
       "  <thead>\n",
       "    <tr style=\"text-align: right;\">\n",
       "      <th></th>\n",
       "      <th>user_id</th>\n",
       "      <th>event_unique_days</th>\n",
       "      <th>subm_unique_days</th>\n",
       "      <th>event_steps_tried</th>\n",
       "      <th>subm_step_tried</th>\n",
       "      <th>discovered</th>\n",
       "      <th>passed</th>\n",
       "      <th>started_attempt</th>\n",
       "      <th>viewed</th>\n",
       "      <th>passed_ratio</th>\n",
       "      <th>...</th>\n",
       "      <th>action_passed</th>\n",
       "      <th>is_submit</th>\n",
       "      <th>is_correct_submit</th>\n",
       "      <th>correct_wrong_ratio</th>\n",
       "      <th>passed_discovered_ratio</th>\n",
       "      <th>passed_started_attempt_ratio</th>\n",
       "      <th>passed_viewed_ratio</th>\n",
       "      <th>correct_passed_ratio</th>\n",
       "      <th>total_subm</th>\n",
       "      <th>total_events</th>\n",
       "    </tr>\n",
       "  </thead>\n",
       "  <tbody>\n",
       "    <tr>\n",
       "      <th>0</th>\n",
       "      <td>17632</td>\n",
       "      <td>1</td>\n",
       "      <td>1.0</td>\n",
       "      <td>15</td>\n",
       "      <td>2.0</td>\n",
       "      <td>15</td>\n",
       "      <td>13</td>\n",
       "      <td>2</td>\n",
       "      <td>23</td>\n",
       "      <td>0.245283</td>\n",
       "      <td>...</td>\n",
       "      <td>1</td>\n",
       "      <td>1</td>\n",
       "      <td>1</td>\n",
       "      <td>2000.000000</td>\n",
       "      <td>0.866609</td>\n",
       "      <td>6.496752</td>\n",
       "      <td>0.565193</td>\n",
       "      <td>0.153834</td>\n",
       "      <td>2.0</td>\n",
       "      <td>53</td>\n",
       "    </tr>\n",
       "    <tr>\n",
       "      <th>1</th>\n",
       "      <td>12494</td>\n",
       "      <td>1</td>\n",
       "      <td>1.0</td>\n",
       "      <td>14</td>\n",
       "      <td>4.0</td>\n",
       "      <td>14</td>\n",
       "      <td>12</td>\n",
       "      <td>0</td>\n",
       "      <td>20</td>\n",
       "      <td>0.260870</td>\n",
       "      <td>...</td>\n",
       "      <td>1</td>\n",
       "      <td>1</td>\n",
       "      <td>1</td>\n",
       "      <td>1.999000</td>\n",
       "      <td>0.857082</td>\n",
       "      <td>12000.000000</td>\n",
       "      <td>0.599970</td>\n",
       "      <td>0.333306</td>\n",
       "      <td>6.0</td>\n",
       "      <td>46</td>\n",
       "    </tr>\n",
       "    <tr>\n",
       "      <th>2</th>\n",
       "      <td>442</td>\n",
       "      <td>1</td>\n",
       "      <td>1.0</td>\n",
       "      <td>19</td>\n",
       "      <td>6.0</td>\n",
       "      <td>19</td>\n",
       "      <td>18</td>\n",
       "      <td>7</td>\n",
       "      <td>31</td>\n",
       "      <td>0.240000</td>\n",
       "      <td>...</td>\n",
       "      <td>1</td>\n",
       "      <td>1</td>\n",
       "      <td>1</td>\n",
       "      <td>0.312480</td>\n",
       "      <td>0.947319</td>\n",
       "      <td>2.571061</td>\n",
       "      <td>0.580626</td>\n",
       "      <td>0.277762</td>\n",
       "      <td>21.0</td>\n",
       "      <td>75</td>\n",
       "    </tr>\n",
       "    <tr>\n",
       "      <th>3</th>\n",
       "      <td>22254</td>\n",
       "      <td>1</td>\n",
       "      <td>1.0</td>\n",
       "      <td>24</td>\n",
       "      <td>8.0</td>\n",
       "      <td>24</td>\n",
       "      <td>24</td>\n",
       "      <td>10</td>\n",
       "      <td>32</td>\n",
       "      <td>0.266667</td>\n",
       "      <td>...</td>\n",
       "      <td>1</td>\n",
       "      <td>1</td>\n",
       "      <td>1</td>\n",
       "      <td>0.533298</td>\n",
       "      <td>0.999958</td>\n",
       "      <td>2.399760</td>\n",
       "      <td>0.749977</td>\n",
       "      <td>0.333319</td>\n",
       "      <td>23.0</td>\n",
       "      <td>90</td>\n",
       "    </tr>\n",
       "    <tr>\n",
       "      <th>4</th>\n",
       "      <td>6646</td>\n",
       "      <td>1</td>\n",
       "      <td>1.0</td>\n",
       "      <td>2</td>\n",
       "      <td>2.0</td>\n",
       "      <td>2</td>\n",
       "      <td>2</td>\n",
       "      <td>0</td>\n",
       "      <td>3</td>\n",
       "      <td>0.285714</td>\n",
       "      <td>...</td>\n",
       "      <td>1</td>\n",
       "      <td>1</td>\n",
       "      <td>1</td>\n",
       "      <td>2000.000000</td>\n",
       "      <td>0.999500</td>\n",
       "      <td>2000.000000</td>\n",
       "      <td>0.666445</td>\n",
       "      <td>0.999500</td>\n",
       "      <td>2.0</td>\n",
       "      <td>7</td>\n",
       "    </tr>\n",
       "  </tbody>\n",
       "</table>\n",
       "<p>5 rows × 23 columns</p>\n",
       "</div>"
      ],
      "text/plain": [
       "   user_id  event_unique_days  subm_unique_days  event_steps_tried  \\\n",
       "0    17632                  1               1.0                 15   \n",
       "1    12494                  1               1.0                 14   \n",
       "2      442                  1               1.0                 19   \n",
       "3    22254                  1               1.0                 24   \n",
       "4     6646                  1               1.0                  2   \n",
       "\n",
       "   subm_step_tried  discovered  passed  started_attempt  viewed  passed_ratio  \\\n",
       "0              2.0          15      13                2      23      0.245283   \n",
       "1              4.0          14      12                0      20      0.260870   \n",
       "2              6.0          19      18                7      31      0.240000   \n",
       "3              8.0          24      24               10      32      0.266667   \n",
       "4              2.0           2       2                0       3      0.285714   \n",
       "\n",
       "       ...       action_passed  is_submit  is_correct_submit  \\\n",
       "0      ...                   1          1                  1   \n",
       "1      ...                   1          1                  1   \n",
       "2      ...                   1          1                  1   \n",
       "3      ...                   1          1                  1   \n",
       "4      ...                   1          1                  1   \n",
       "\n",
       "   correct_wrong_ratio  passed_discovered_ratio  passed_started_attempt_ratio  \\\n",
       "0          2000.000000                 0.866609                      6.496752   \n",
       "1             1.999000                 0.857082                  12000.000000   \n",
       "2             0.312480                 0.947319                      2.571061   \n",
       "3             0.533298                 0.999958                      2.399760   \n",
       "4          2000.000000                 0.999500                   2000.000000   \n",
       "\n",
       "   passed_viewed_ratio  correct_passed_ratio  total_subm  total_events  \n",
       "0             0.565193              0.153834         2.0            53  \n",
       "1             0.599970              0.333306         6.0            46  \n",
       "2             0.580626              0.277762        21.0            75  \n",
       "3             0.749977              0.333319        23.0            90  \n",
       "4             0.666445              0.999500         2.0             7  \n",
       "\n",
       "[5 rows x 23 columns]"
      ]
     },
     "execution_count": 153,
     "metadata": {},
     "output_type": "execute_result"
    }
   ],
   "source": [
    "X_train_1_day = data_preprocessing(event_data_train_day_1, submissions_data_train_day_1)\n",
    "X_train_1_day.head()"
   ]
  },
  {
   "cell_type": "code",
   "execution_count": 154,
   "metadata": {},
   "outputs": [
    {
     "name": "stdout",
     "output_type": "stream",
     "text": [
      "(19234, 23)\n",
      "19234\n"
     ]
    }
   ],
   "source": [
    "print(X_train_1_day.shape)\n",
    "print(X_train_1_day.index.nunique())"
   ]
  },
  {
   "cell_type": "code",
   "execution_count": 155,
   "metadata": {},
   "outputs": [
    {
     "name": "stderr",
     "output_type": "stream",
     "text": [
      "C:\\ProgramData\\Anaconda3\\lib\\site-packages\\ipykernel_launcher.py:18: SettingWithCopyWarning: \n",
      "A value is trying to be set on a copy of a slice from a DataFrame.\n",
      "Try using .loc[row_indexer,col_indexer] = value instead\n",
      "\n",
      "See the caveats in the documentation: http://pandas.pydata.org/pandas-docs/stable/indexing.html#indexing-view-versus-copy\n",
      "C:\\ProgramData\\Anaconda3\\lib\\site-packages\\ipykernel_launcher.py:19: SettingWithCopyWarning: \n",
      "A value is trying to be set on a copy of a slice from a DataFrame.\n",
      "Try using .loc[row_indexer,col_indexer] = value instead\n",
      "\n",
      "See the caveats in the documentation: http://pandas.pydata.org/pandas-docs/stable/indexing.html#indexing-view-versus-copy\n"
     ]
    },
    {
     "data": {
      "text/html": [
       "<div>\n",
       "<style scoped>\n",
       "    .dataframe tbody tr th:only-of-type {\n",
       "        vertical-align: middle;\n",
       "    }\n",
       "\n",
       "    .dataframe tbody tr th {\n",
       "        vertical-align: top;\n",
       "    }\n",
       "\n",
       "    .dataframe thead th {\n",
       "        text-align: right;\n",
       "    }\n",
       "</style>\n",
       "<table border=\"1\" class=\"dataframe\">\n",
       "  <thead>\n",
       "    <tr style=\"text-align: right;\">\n",
       "      <th></th>\n",
       "      <th>user_id</th>\n",
       "      <th>event_unique_days</th>\n",
       "      <th>subm_unique_days</th>\n",
       "      <th>event_steps_tried</th>\n",
       "      <th>subm_step_tried</th>\n",
       "      <th>discovered</th>\n",
       "      <th>passed</th>\n",
       "      <th>started_attempt</th>\n",
       "      <th>viewed</th>\n",
       "      <th>passed_ratio</th>\n",
       "      <th>...</th>\n",
       "      <th>action_passed</th>\n",
       "      <th>is_submit</th>\n",
       "      <th>is_correct_submit</th>\n",
       "      <th>correct_wrong_ratio</th>\n",
       "      <th>passed_discovered_ratio</th>\n",
       "      <th>passed_started_attempt_ratio</th>\n",
       "      <th>passed_viewed_ratio</th>\n",
       "      <th>correct_passed_ratio</th>\n",
       "      <th>total_subm</th>\n",
       "      <th>total_events</th>\n",
       "    </tr>\n",
       "  </thead>\n",
       "  <tbody>\n",
       "    <tr>\n",
       "      <th>0</th>\n",
       "      <td>17632</td>\n",
       "      <td>1.0</td>\n",
       "      <td>0.0</td>\n",
       "      <td>5.0</td>\n",
       "      <td>0.0</td>\n",
       "      <td>2.0</td>\n",
       "      <td>1.0</td>\n",
       "      <td>0.0</td>\n",
       "      <td>6.0</td>\n",
       "      <td>0.111111</td>\n",
       "      <td>...</td>\n",
       "      <td>1</td>\n",
       "      <td>0</td>\n",
       "      <td>0</td>\n",
       "      <td>0.000000</td>\n",
       "      <td>0.499750</td>\n",
       "      <td>1000.000000</td>\n",
       "      <td>0.166639</td>\n",
       "      <td>0.000000</td>\n",
       "      <td>0.0</td>\n",
       "      <td>9.0</td>\n",
       "    </tr>\n",
       "    <tr>\n",
       "      <th>1</th>\n",
       "      <td>12494</td>\n",
       "      <td>1.0</td>\n",
       "      <td>0.0</td>\n",
       "      <td>3.0</td>\n",
       "      <td>0.0</td>\n",
       "      <td>3.0</td>\n",
       "      <td>2.0</td>\n",
       "      <td>1.0</td>\n",
       "      <td>4.0</td>\n",
       "      <td>0.200000</td>\n",
       "      <td>...</td>\n",
       "      <td>1</td>\n",
       "      <td>0</td>\n",
       "      <td>0</td>\n",
       "      <td>0.000000</td>\n",
       "      <td>0.666445</td>\n",
       "      <td>1.998002</td>\n",
       "      <td>0.499875</td>\n",
       "      <td>0.000000</td>\n",
       "      <td>0.0</td>\n",
       "      <td>10.0</td>\n",
       "    </tr>\n",
       "    <tr>\n",
       "      <th>2</th>\n",
       "      <td>22254</td>\n",
       "      <td>1.0</td>\n",
       "      <td>0.0</td>\n",
       "      <td>4.0</td>\n",
       "      <td>0.0</td>\n",
       "      <td>3.0</td>\n",
       "      <td>3.0</td>\n",
       "      <td>0.0</td>\n",
       "      <td>4.0</td>\n",
       "      <td>0.300000</td>\n",
       "      <td>...</td>\n",
       "      <td>1</td>\n",
       "      <td>0</td>\n",
       "      <td>0</td>\n",
       "      <td>0.000000</td>\n",
       "      <td>0.999667</td>\n",
       "      <td>3000.000000</td>\n",
       "      <td>0.749813</td>\n",
       "      <td>0.000000</td>\n",
       "      <td>0.0</td>\n",
       "      <td>10.0</td>\n",
       "    </tr>\n",
       "    <tr>\n",
       "      <th>3</th>\n",
       "      <td>19739</td>\n",
       "      <td>2.0</td>\n",
       "      <td>2.0</td>\n",
       "      <td>32.0</td>\n",
       "      <td>14.0</td>\n",
       "      <td>22.0</td>\n",
       "      <td>21.0</td>\n",
       "      <td>10.0</td>\n",
       "      <td>56.0</td>\n",
       "      <td>0.192661</td>\n",
       "      <td>...</td>\n",
       "      <td>1</td>\n",
       "      <td>1</td>\n",
       "      <td>1</td>\n",
       "      <td>0.777735</td>\n",
       "      <td>0.954502</td>\n",
       "      <td>2.099790</td>\n",
       "      <td>0.374993</td>\n",
       "      <td>0.666635</td>\n",
       "      <td>32.0</td>\n",
       "      <td>109.0</td>\n",
       "    </tr>\n",
       "    <tr>\n",
       "      <th>4</th>\n",
       "      <td>9244</td>\n",
       "      <td>1.0</td>\n",
       "      <td>1.0</td>\n",
       "      <td>9.0</td>\n",
       "      <td>1.0</td>\n",
       "      <td>0.0</td>\n",
       "      <td>0.0</td>\n",
       "      <td>0.0</td>\n",
       "      <td>9.0</td>\n",
       "      <td>0.000000</td>\n",
       "      <td>...</td>\n",
       "      <td>0</td>\n",
       "      <td>1</td>\n",
       "      <td>0</td>\n",
       "      <td>0.000000</td>\n",
       "      <td>0.000000</td>\n",
       "      <td>0.000000</td>\n",
       "      <td>0.000000</td>\n",
       "      <td>0.000000</td>\n",
       "      <td>1.0</td>\n",
       "      <td>9.0</td>\n",
       "    </tr>\n",
       "  </tbody>\n",
       "</table>\n",
       "<p>5 rows × 23 columns</p>\n",
       "</div>"
      ],
      "text/plain": [
       "   user_id  event_unique_days  subm_unique_days  event_steps_tried  \\\n",
       "0    17632                1.0               0.0                5.0   \n",
       "1    12494                1.0               0.0                3.0   \n",
       "2    22254                1.0               0.0                4.0   \n",
       "3    19739                2.0               2.0               32.0   \n",
       "4     9244                1.0               1.0                9.0   \n",
       "\n",
       "   subm_step_tried  discovered  passed  started_attempt  viewed  passed_ratio  \\\n",
       "0              0.0         2.0     1.0              0.0     6.0      0.111111   \n",
       "1              0.0         3.0     2.0              1.0     4.0      0.200000   \n",
       "2              0.0         3.0     3.0              0.0     4.0      0.300000   \n",
       "3             14.0        22.0    21.0             10.0    56.0      0.192661   \n",
       "4              1.0         0.0     0.0              0.0     9.0      0.000000   \n",
       "\n",
       "       ...       action_passed  is_submit  is_correct_submit  \\\n",
       "0      ...                   1          0                  0   \n",
       "1      ...                   1          0                  0   \n",
       "2      ...                   1          0                  0   \n",
       "3      ...                   1          1                  1   \n",
       "4      ...                   0          1                  0   \n",
       "\n",
       "   correct_wrong_ratio  passed_discovered_ratio  passed_started_attempt_ratio  \\\n",
       "0             0.000000                 0.499750                   1000.000000   \n",
       "1             0.000000                 0.666445                      1.998002   \n",
       "2             0.000000                 0.999667                   3000.000000   \n",
       "3             0.777735                 0.954502                      2.099790   \n",
       "4             0.000000                 0.000000                      0.000000   \n",
       "\n",
       "   passed_viewed_ratio  correct_passed_ratio  total_subm  total_events  \n",
       "0             0.166639              0.000000         0.0           9.0  \n",
       "1             0.499875              0.000000         0.0          10.0  \n",
       "2             0.749813              0.000000         0.0          10.0  \n",
       "3             0.374993              0.666635        32.0         109.0  \n",
       "4             0.000000              0.000000         1.0           9.0  \n",
       "\n",
       "[5 rows x 23 columns]"
      ]
     },
     "execution_count": 155,
     "metadata": {},
     "output_type": "execute_result"
    }
   ],
   "source": [
    "X_train_2_day = data_preprocessing(event_data_train_day_2, submissions_data_train_day_2)\n",
    "X_train_2_day.head()"
   ]
  },
  {
   "cell_type": "code",
   "execution_count": 156,
   "metadata": {},
   "outputs": [
    {
     "name": "stdout",
     "output_type": "stream",
     "text": [
      "(3991, 23)\n",
      "3991\n"
     ]
    }
   ],
   "source": [
    "print(X_train_2_day.shape)\n",
    "print(X_train_2_day.index.nunique())"
   ]
  },
  {
   "cell_type": "code",
   "execution_count": 157,
   "metadata": {},
   "outputs": [],
   "source": [
    "# X_train.columns\n",
    "# X_train_2_day.columns"
   ]
  },
  {
   "cell_type": "code",
   "execution_count": 158,
   "metadata": {},
   "outputs": [],
   "source": [
    "col_1_day = []\n",
    "for col in X_train_1_day.columns:\n",
    "    col = col + '_1_day'\n",
    "    col_1_day.append(col)\n",
    "    \n",
    "col_2_day = []\n",
    "for col in X_train_2_day.columns:\n",
    "    col = col + '_2_day'\n",
    "    col_2_day.append(col)"
   ]
  },
  {
   "cell_type": "code",
   "execution_count": 159,
   "metadata": {},
   "outputs": [],
   "source": [
    "col_1_day = ['user_id',\n",
    " 'event_unique_days_1_day',\n",
    " 'subm_unique_days_1_day',\n",
    " 'event_steps_tried_1_day',\n",
    " 'subm_step_tried_1_day',\n",
    " 'discovered_1_day',\n",
    " 'passed_1_day',\n",
    " 'started_attempt_1_day',\n",
    " 'viewed_1_day',\n",
    " 'passed_ratio_1_day',\n",
    " 'correct_1_day',\n",
    " 'wrong_1_day',\n",
    " 'correct_ratio_1_day',\n",
    " 'action_passed_1_day',\n",
    " 'is_submit_1_day',\n",
    " 'is_correct_submit_1_day',\n",
    " 'correct_wrong_ratio_1_day',\n",
    " 'passed_discovered_ratio_1_day',\n",
    " 'passed_started_attempt_ratio_1_day',\n",
    " 'passed_viewed_ratio_1_day',\n",
    " 'correct_passed_ratio_1_day',\n",
    " 'total_subm_1_day',\n",
    " 'total_events_1_day']"
   ]
  },
  {
   "cell_type": "code",
   "execution_count": 160,
   "metadata": {},
   "outputs": [],
   "source": [
    "col_2_day = ['user_id',\n",
    " 'event_unique_days_2_day',\n",
    " 'subm_unique_days_2_day',\n",
    " 'event_steps_tried_2_day',\n",
    " 'subm_step_tried_2_day',\n",
    " 'discovered_2_day',\n",
    " 'passed_2_day',\n",
    " 'started_attempt_2_day',\n",
    " 'viewed_2_day',\n",
    " 'passed_ratio_2_day',\n",
    " 'correct_2_day',\n",
    " 'wrong_2_day',\n",
    " 'correct_ratio_2_day',\n",
    " 'action_passed_2_day',\n",
    " 'is_submit_2_day',\n",
    " 'is_correct_submit_2_day',\n",
    " 'correct_wrong_ratio_2_day',\n",
    " 'passed_discovered_ratio_2_day',\n",
    " 'passed_started_attempt_ratio_2_day',\n",
    " 'passed_viewed_ratio_2_day',\n",
    " 'correct_passed_ratio_2_day',\n",
    " 'total_subm_2_day',\n",
    " 'total_events_2_day']"
   ]
  },
  {
   "cell_type": "code",
   "execution_count": 161,
   "metadata": {},
   "outputs": [],
   "source": [
    "X_train_1_day.columns = col_1_day\n",
    "X_train_2_day.columns = col_2_day"
   ]
  },
  {
   "cell_type": "code",
   "execution_count": 162,
   "metadata": {},
   "outputs": [],
   "source": [
    "# X_train_1_day.columns\n",
    "# X_train_2_day.columns"
   ]
  },
  {
   "cell_type": "code",
   "execution_count": 163,
   "metadata": {},
   "outputs": [],
   "source": [
    "# X_train_1_day.head()\n",
    "# X_train_2_day.head()"
   ]
  },
  {
   "cell_type": "code",
   "execution_count": 164,
   "metadata": {},
   "outputs": [],
   "source": [
    "X_train = X_train.merge(X_train_1_day, on='user_id', how='outer')"
   ]
  },
  {
   "cell_type": "code",
   "execution_count": 165,
   "metadata": {},
   "outputs": [],
   "source": [
    "X_train = X_train.merge(X_train_2_day, on='user_id', how='outer')"
   ]
  },
  {
   "cell_type": "code",
   "execution_count": 166,
   "metadata": {},
   "outputs": [],
   "source": [
    "X_train = X_train.set_index(['user_id'])"
   ]
  },
  {
   "cell_type": "code",
   "execution_count": 167,
   "metadata": {},
   "outputs": [
    {
     "data": {
      "text/plain": [
       "(19234, 66)"
      ]
     },
     "execution_count": 167,
     "metadata": {},
     "output_type": "execute_result"
    }
   ],
   "source": [
    "X_train.shape"
   ]
  },
  {
   "cell_type": "code",
   "execution_count": 168,
   "metadata": {},
   "outputs": [
    {
     "data": {
      "text/html": [
       "<div>\n",
       "<style scoped>\n",
       "    .dataframe tbody tr th:only-of-type {\n",
       "        vertical-align: middle;\n",
       "    }\n",
       "\n",
       "    .dataframe tbody tr th {\n",
       "        vertical-align: top;\n",
       "    }\n",
       "\n",
       "    .dataframe thead th {\n",
       "        text-align: right;\n",
       "    }\n",
       "</style>\n",
       "<table border=\"1\" class=\"dataframe\">\n",
       "  <thead>\n",
       "    <tr style=\"text-align: right;\">\n",
       "      <th></th>\n",
       "      <th>event_unique_days</th>\n",
       "      <th>subm_unique_days</th>\n",
       "      <th>event_steps_tried</th>\n",
       "      <th>subm_step_tried</th>\n",
       "      <th>discovered</th>\n",
       "      <th>passed</th>\n",
       "      <th>started_attempt</th>\n",
       "      <th>viewed</th>\n",
       "      <th>passed_ratio</th>\n",
       "      <th>correct</th>\n",
       "      <th>...</th>\n",
       "      <th>action_passed_2_day</th>\n",
       "      <th>is_submit_2_day</th>\n",
       "      <th>is_correct_submit_2_day</th>\n",
       "      <th>correct_wrong_ratio_2_day</th>\n",
       "      <th>passed_discovered_ratio_2_day</th>\n",
       "      <th>passed_started_attempt_ratio_2_day</th>\n",
       "      <th>passed_viewed_ratio_2_day</th>\n",
       "      <th>correct_passed_ratio_2_day</th>\n",
       "      <th>total_subm_2_day</th>\n",
       "      <th>total_events_2_day</th>\n",
       "    </tr>\n",
       "    <tr>\n",
       "      <th>user_id</th>\n",
       "      <th></th>\n",
       "      <th></th>\n",
       "      <th></th>\n",
       "      <th></th>\n",
       "      <th></th>\n",
       "      <th></th>\n",
       "      <th></th>\n",
       "      <th></th>\n",
       "      <th></th>\n",
       "      <th></th>\n",
       "      <th></th>\n",
       "      <th></th>\n",
       "      <th></th>\n",
       "      <th></th>\n",
       "      <th></th>\n",
       "      <th></th>\n",
       "      <th></th>\n",
       "      <th></th>\n",
       "      <th></th>\n",
       "      <th></th>\n",
       "      <th></th>\n",
       "    </tr>\n",
       "  </thead>\n",
       "  <tbody>\n",
       "    <tr>\n",
       "      <th>17632</th>\n",
       "      <td>2</td>\n",
       "      <td>1.0</td>\n",
       "      <td>17</td>\n",
       "      <td>2.0</td>\n",
       "      <td>17</td>\n",
       "      <td>14</td>\n",
       "      <td>2</td>\n",
       "      <td>29</td>\n",
       "      <td>0.225806</td>\n",
       "      <td>2.0</td>\n",
       "      <td>...</td>\n",
       "      <td>1.0</td>\n",
       "      <td>0.0</td>\n",
       "      <td>0.0</td>\n",
       "      <td>0.0</td>\n",
       "      <td>0.499750</td>\n",
       "      <td>1000.000000</td>\n",
       "      <td>0.166639</td>\n",
       "      <td>0.0</td>\n",
       "      <td>0.0</td>\n",
       "      <td>9.0</td>\n",
       "    </tr>\n",
       "    <tr>\n",
       "      <th>12494</th>\n",
       "      <td>2</td>\n",
       "      <td>1.0</td>\n",
       "      <td>17</td>\n",
       "      <td>4.0</td>\n",
       "      <td>17</td>\n",
       "      <td>14</td>\n",
       "      <td>1</td>\n",
       "      <td>24</td>\n",
       "      <td>0.250000</td>\n",
       "      <td>4.0</td>\n",
       "      <td>...</td>\n",
       "      <td>1.0</td>\n",
       "      <td>0.0</td>\n",
       "      <td>0.0</td>\n",
       "      <td>0.0</td>\n",
       "      <td>0.666445</td>\n",
       "      <td>1.998002</td>\n",
       "      <td>0.499875</td>\n",
       "      <td>0.0</td>\n",
       "      <td>0.0</td>\n",
       "      <td>10.0</td>\n",
       "    </tr>\n",
       "    <tr>\n",
       "      <th>442</th>\n",
       "      <td>1</td>\n",
       "      <td>1.0</td>\n",
       "      <td>19</td>\n",
       "      <td>6.0</td>\n",
       "      <td>19</td>\n",
       "      <td>18</td>\n",
       "      <td>7</td>\n",
       "      <td>31</td>\n",
       "      <td>0.240000</td>\n",
       "      <td>5.0</td>\n",
       "      <td>...</td>\n",
       "      <td>NaN</td>\n",
       "      <td>NaN</td>\n",
       "      <td>NaN</td>\n",
       "      <td>NaN</td>\n",
       "      <td>NaN</td>\n",
       "      <td>NaN</td>\n",
       "      <td>NaN</td>\n",
       "      <td>NaN</td>\n",
       "      <td>NaN</td>\n",
       "      <td>NaN</td>\n",
       "    </tr>\n",
       "    <tr>\n",
       "      <th>22254</th>\n",
       "      <td>2</td>\n",
       "      <td>1.0</td>\n",
       "      <td>27</td>\n",
       "      <td>8.0</td>\n",
       "      <td>27</td>\n",
       "      <td>27</td>\n",
       "      <td>10</td>\n",
       "      <td>36</td>\n",
       "      <td>0.270000</td>\n",
       "      <td>8.0</td>\n",
       "      <td>...</td>\n",
       "      <td>1.0</td>\n",
       "      <td>0.0</td>\n",
       "      <td>0.0</td>\n",
       "      <td>0.0</td>\n",
       "      <td>0.999667</td>\n",
       "      <td>3000.000000</td>\n",
       "      <td>0.749813</td>\n",
       "      <td>0.0</td>\n",
       "      <td>0.0</td>\n",
       "      <td>10.0</td>\n",
       "    </tr>\n",
       "    <tr>\n",
       "      <th>6646</th>\n",
       "      <td>1</td>\n",
       "      <td>1.0</td>\n",
       "      <td>2</td>\n",
       "      <td>2.0</td>\n",
       "      <td>2</td>\n",
       "      <td>2</td>\n",
       "      <td>0</td>\n",
       "      <td>3</td>\n",
       "      <td>0.285714</td>\n",
       "      <td>2.0</td>\n",
       "      <td>...</td>\n",
       "      <td>NaN</td>\n",
       "      <td>NaN</td>\n",
       "      <td>NaN</td>\n",
       "      <td>NaN</td>\n",
       "      <td>NaN</td>\n",
       "      <td>NaN</td>\n",
       "      <td>NaN</td>\n",
       "      <td>NaN</td>\n",
       "      <td>NaN</td>\n",
       "      <td>NaN</td>\n",
       "    </tr>\n",
       "  </tbody>\n",
       "</table>\n",
       "<p>5 rows × 66 columns</p>\n",
       "</div>"
      ],
      "text/plain": [
       "         event_unique_days  subm_unique_days  event_steps_tried  \\\n",
       "user_id                                                           \n",
       "17632                    2               1.0                 17   \n",
       "12494                    2               1.0                 17   \n",
       "442                      1               1.0                 19   \n",
       "22254                    2               1.0                 27   \n",
       "6646                     1               1.0                  2   \n",
       "\n",
       "         subm_step_tried  discovered  passed  started_attempt  viewed  \\\n",
       "user_id                                                                 \n",
       "17632                2.0          17      14                2      29   \n",
       "12494                4.0          17      14                1      24   \n",
       "442                  6.0          19      18                7      31   \n",
       "22254                8.0          27      27               10      36   \n",
       "6646                 2.0           2       2                0       3   \n",
       "\n",
       "         passed_ratio  correct         ...          action_passed_2_day  \\\n",
       "user_id                                ...                                \n",
       "17632        0.225806      2.0         ...                          1.0   \n",
       "12494        0.250000      4.0         ...                          1.0   \n",
       "442          0.240000      5.0         ...                          NaN   \n",
       "22254        0.270000      8.0         ...                          1.0   \n",
       "6646         0.285714      2.0         ...                          NaN   \n",
       "\n",
       "         is_submit_2_day  is_correct_submit_2_day  correct_wrong_ratio_2_day  \\\n",
       "user_id                                                                        \n",
       "17632                0.0                      0.0                        0.0   \n",
       "12494                0.0                      0.0                        0.0   \n",
       "442                  NaN                      NaN                        NaN   \n",
       "22254                0.0                      0.0                        0.0   \n",
       "6646                 NaN                      NaN                        NaN   \n",
       "\n",
       "         passed_discovered_ratio_2_day  passed_started_attempt_ratio_2_day  \\\n",
       "user_id                                                                      \n",
       "17632                         0.499750                         1000.000000   \n",
       "12494                         0.666445                            1.998002   \n",
       "442                                NaN                                 NaN   \n",
       "22254                         0.999667                         3000.000000   \n",
       "6646                               NaN                                 NaN   \n",
       "\n",
       "         passed_viewed_ratio_2_day  correct_passed_ratio_2_day  \\\n",
       "user_id                                                          \n",
       "17632                     0.166639                         0.0   \n",
       "12494                     0.499875                         0.0   \n",
       "442                            NaN                         NaN   \n",
       "22254                     0.749813                         0.0   \n",
       "6646                           NaN                         NaN   \n",
       "\n",
       "         total_subm_2_day  total_events_2_day  \n",
       "user_id                                        \n",
       "17632                 0.0                 9.0  \n",
       "12494                 0.0                10.0  \n",
       "442                   NaN                 NaN  \n",
       "22254                 0.0                10.0  \n",
       "6646                  NaN                 NaN  \n",
       "\n",
       "[5 rows x 66 columns]"
      ]
     },
     "execution_count": 168,
     "metadata": {},
     "output_type": "execute_result"
    }
   ],
   "source": [
    "X_train.head()"
   ]
  },
  {
   "cell_type": "code",
   "execution_count": 169,
   "metadata": {},
   "outputs": [],
   "source": [
    "X_train = X_train.fillna(0)"
   ]
  },
  {
   "cell_type": "code",
   "execution_count": 170,
   "metadata": {},
   "outputs": [
    {
     "data": {
      "text/plain": [
       "0"
      ]
     },
     "execution_count": 170,
     "metadata": {},
     "output_type": "execute_result"
    }
   ],
   "source": [
    "X_train.isna().sum().sum()"
   ]
  },
  {
   "cell_type": "code",
   "execution_count": 171,
   "metadata": {},
   "outputs": [
    {
     "data": {
      "text/plain": [
       "Index(['event_unique_days', 'subm_unique_days', 'event_steps_tried',\n",
       "       'subm_step_tried', 'discovered', 'passed', 'started_attempt', 'viewed',\n",
       "       'passed_ratio', 'correct', 'wrong', 'correct_ratio', 'action_passed',\n",
       "       'is_submit', 'is_correct_submit', 'correct_wrong_ratio',\n",
       "       'passed_discovered_ratio', 'passed_started_attempt_ratio',\n",
       "       'passed_viewed_ratio', 'correct_passed_ratio', 'total_subm',\n",
       "       'total_events', 'event_unique_days_1_day', 'subm_unique_days_1_day',\n",
       "       'event_steps_tried_1_day', 'subm_step_tried_1_day', 'discovered_1_day',\n",
       "       'passed_1_day', 'started_attempt_1_day', 'viewed_1_day',\n",
       "       'passed_ratio_1_day', 'correct_1_day', 'wrong_1_day',\n",
       "       'correct_ratio_1_day', 'action_passed_1_day', 'is_submit_1_day',\n",
       "       'is_correct_submit_1_day', 'correct_wrong_ratio_1_day',\n",
       "       'passed_discovered_ratio_1_day', 'passed_started_attempt_ratio_1_day',\n",
       "       'passed_viewed_ratio_1_day', 'correct_passed_ratio_1_day',\n",
       "       'total_subm_1_day', 'total_events_1_day', 'event_unique_days_2_day',\n",
       "       'subm_unique_days_2_day', 'event_steps_tried_2_day',\n",
       "       'subm_step_tried_2_day', 'discovered_2_day', 'passed_2_day',\n",
       "       'started_attempt_2_day', 'viewed_2_day', 'passed_ratio_2_day',\n",
       "       'correct_2_day', 'wrong_2_day', 'correct_ratio_2_day',\n",
       "       'action_passed_2_day', 'is_submit_2_day', 'is_correct_submit_2_day',\n",
       "       'correct_wrong_ratio_2_day', 'passed_discovered_ratio_2_day',\n",
       "       'passed_started_attempt_ratio_2_day', 'passed_viewed_ratio_2_day',\n",
       "       'correct_passed_ratio_2_day', 'total_subm_2_day', 'total_events_2_day'],\n",
       "      dtype='object')"
      ]
     },
     "execution_count": 171,
     "metadata": {},
     "output_type": "execute_result"
    }
   ],
   "source": [
    "X_train.columns"
   ]
  },
  {
   "cell_type": "code",
   "execution_count": 172,
   "metadata": {},
   "outputs": [],
   "source": [
    "X_train['event_unique_days_daysratio'] = X_train['event_unique_days_1_day'] / (X_train['event_unique_days_2_day'] + 0.001)\n",
    "X_train['subm_unique_days_daysratio'] = X_train['subm_unique_days_1_day'] / (X_train['subm_unique_days_2_day'] + 0.001)\n",
    "X_train['event_steps_tried_daysratio'] = X_train['event_steps_tried_1_day'] / (X_train['event_steps_tried_2_day'] + 0.001)\n",
    "X_train['subm_step_tried_daysratio'] = X_train['subm_step_tried_1_day'] / (X_train['subm_step_tried_2_day'] + 0.001)\n",
    "X_train['passed_daysratio'] = X_train['passed_1_day'] / (X_train['passed_2_day'] + 0.001)\n",
    "X_train['correct_daysratio'] = X_train['correct_1_day'] / (X_train['correct_2_day'] + 0.001)\n",
    "X_train['correct_ratio_daysratio'] = X_train['correct_ratio_1_day'] / (X_train['correct_ratio_2_day'] + 0.001)\n",
    "X_train['is_submit_daysratio'] = X_train['is_submit_1_day'] / (X_train['is_submit_2_day'] + 0.001)\n",
    "X_train['is_correct_submit_daysratio'] = X_train['is_correct_submit_1_day'] / (X_train['is_correct_submit_2_day'] + 0.001)\n",
    "X_train['correct_wrong_ratio_daysratio'] = X_train['correct_wrong_ratio_1_day'] / (X_train['correct_wrong_ratio_2_day'] + 0.001)\n",
    "X_train['total_subm_daysratio'] = X_train['total_subm_1_day'] / (X_train['total_subm_2_day'] + 0.001)\n",
    "X_train['total_events_daysratio'] = X_train['total_events_1_day'] / (X_train['total_events_2_day'] + 0.001)\n",
    "\n",
    "X_train['event_unique_days_daysdiff'] = X_train['event_unique_days_1_day'] - X_train['event_unique_days_2_day']\n",
    "X_train['subm_unique_days_daysdiff'] = X_train['subm_unique_days_1_day'] - X_train['subm_unique_days_2_day']\n",
    "X_train['event_steps_tried_daysdiff'] = X_train['event_steps_tried_1_day'] - X_train['event_steps_tried_2_day']\n",
    "X_train['subm_step_tried_daysdiff'] = X_train['subm_step_tried_1_day'] - X_train['subm_step_tried_2_day']\n",
    "X_train['passed_daysdiff'] = X_train['passed_1_day'] - X_train['passed_2_day']\n",
    "X_train['correct_daysdiff'] = X_train['correct_1_day'] - X_train['correct_2_day']\n",
    "X_train['correct_ratio_daysdiff'] = X_train['correct_ratio_1_day'] - X_train['correct_ratio_2_day']\n",
    "X_train['is_submit_daysdiff'] = X_train['is_submit_1_day'] - X_train['is_submit_2_day']\n",
    "X_train['is_correct_submit_daysdiff'] = X_train['is_correct_submit_1_day'] - X_train['is_correct_submit_2_day']\n",
    "X_train['correct_wrong_ratio_daysdiff'] = X_train['correct_wrong_ratio_1_day'] - X_train['correct_wrong_ratio_2_day']\n",
    "X_train['total_subm_daysdiff'] = X_train['total_subm_1_day'] - X_train['total_subm_2_day']\n",
    "X_train['total_events_daysdiff'] = X_train['total_events_1_day'] - X_train['total_events_2_day']"
   ]
  },
  {
   "cell_type": "code",
   "execution_count": 173,
   "metadata": {},
   "outputs": [
    {
     "data": {
      "text/plain": [
       "(19234, 90)"
      ]
     },
     "execution_count": 173,
     "metadata": {},
     "output_type": "execute_result"
    }
   ],
   "source": [
    "X_train.shape"
   ]
  },
  {
   "cell_type": "code",
   "execution_count": 174,
   "metadata": {},
   "outputs": [
    {
     "data": {
      "text/plain": [
       "0"
      ]
     },
     "execution_count": 174,
     "metadata": {},
     "output_type": "execute_result"
    }
   ],
   "source": [
    "X_train.isna().sum().sum()"
   ]
  },
  {
   "cell_type": "code",
   "execution_count": 175,
   "metadata": {},
   "outputs": [
    {
     "data": {
      "text/plain": [
       "Index(['event_unique_days', 'subm_unique_days', 'event_steps_tried',\n",
       "       'subm_step_tried', 'discovered', 'passed', 'started_attempt', 'viewed',\n",
       "       'passed_ratio', 'correct', 'wrong', 'correct_ratio', 'action_passed',\n",
       "       'is_submit', 'is_correct_submit', 'correct_wrong_ratio',\n",
       "       'passed_discovered_ratio', 'passed_started_attempt_ratio',\n",
       "       'passed_viewed_ratio', 'correct_passed_ratio', 'total_subm',\n",
       "       'total_events', 'event_unique_days_1_day', 'subm_unique_days_1_day',\n",
       "       'event_steps_tried_1_day', 'subm_step_tried_1_day', 'discovered_1_day',\n",
       "       'passed_1_day', 'started_attempt_1_day', 'viewed_1_day',\n",
       "       'passed_ratio_1_day', 'correct_1_day', 'wrong_1_day',\n",
       "       'correct_ratio_1_day', 'action_passed_1_day', 'is_submit_1_day',\n",
       "       'is_correct_submit_1_day', 'correct_wrong_ratio_1_day',\n",
       "       'passed_discovered_ratio_1_day', 'passed_started_attempt_ratio_1_day',\n",
       "       'passed_viewed_ratio_1_day', 'correct_passed_ratio_1_day',\n",
       "       'total_subm_1_day', 'total_events_1_day', 'event_unique_days_2_day',\n",
       "       'subm_unique_days_2_day', 'event_steps_tried_2_day',\n",
       "       'subm_step_tried_2_day', 'discovered_2_day', 'passed_2_day',\n",
       "       'started_attempt_2_day', 'viewed_2_day', 'passed_ratio_2_day',\n",
       "       'correct_2_day', 'wrong_2_day', 'correct_ratio_2_day',\n",
       "       'action_passed_2_day', 'is_submit_2_day', 'is_correct_submit_2_day',\n",
       "       'correct_wrong_ratio_2_day', 'passed_discovered_ratio_2_day',\n",
       "       'passed_started_attempt_ratio_2_day', 'passed_viewed_ratio_2_day',\n",
       "       'correct_passed_ratio_2_day', 'total_subm_2_day', 'total_events_2_day',\n",
       "       'event_unique_days_daysratio', 'subm_unique_days_daysratio',\n",
       "       'event_steps_tried_daysratio', 'subm_step_tried_daysratio',\n",
       "       'passed_daysratio', 'correct_daysratio', 'correct_ratio_daysratio',\n",
       "       'is_submit_daysratio', 'is_correct_submit_daysratio',\n",
       "       'correct_wrong_ratio_daysratio', 'total_subm_daysratio',\n",
       "       'total_events_daysratio', 'event_unique_days_daysdiff',\n",
       "       'subm_unique_days_daysdiff', 'event_steps_tried_daysdiff',\n",
       "       'subm_step_tried_daysdiff', 'passed_daysdiff', 'correct_daysdiff',\n",
       "       'correct_ratio_daysdiff', 'is_submit_daysdiff',\n",
       "       'is_correct_submit_daysdiff', 'correct_wrong_ratio_daysdiff',\n",
       "       'total_subm_daysdiff', 'total_events_daysdiff'],\n",
       "      dtype='object')"
      ]
     },
     "execution_count": 175,
     "metadata": {},
     "output_type": "execute_result"
    }
   ],
   "source": [
    "X_train.columns"
   ]
  },
  {
   "cell_type": "code",
   "execution_count": 176,
   "metadata": {},
   "outputs": [
    {
     "data": {
      "text/plain": [
       "array([[1.        , 0.30630619],\n",
       "       [0.30630619, 1.        ]])"
      ]
     },
     "execution_count": 176,
     "metadata": {},
     "output_type": "execute_result"
    }
   ],
   "source": [
    "# X_train.corr()\n",
    "np.corrcoef(X_train['event_unique_days'], y_train['correct_course'])"
   ]
  },
  {
   "cell_type": "code",
   "execution_count": 177,
   "metadata": {},
   "outputs": [
    {
     "data": {
      "text/plain": [
       "0.30630619200037446"
      ]
     },
     "execution_count": 177,
     "metadata": {},
     "output_type": "execute_result"
    }
   ],
   "source": [
    "X_train['event_unique_days'].corr(y_train['correct_course'])"
   ]
  },
  {
   "cell_type": "code",
   "execution_count": 178,
   "metadata": {},
   "outputs": [],
   "source": [
    "# y_train.head()\n",
    "# X_train.head()"
   ]
  },
  {
   "cell_type": "code",
   "execution_count": 179,
   "metadata": {},
   "outputs": [],
   "source": [
    "X_corr = pd.concat([X_train, y_train], axis=1)"
   ]
  },
  {
   "cell_type": "code",
   "execution_count": 180,
   "metadata": {},
   "outputs": [
    {
     "data": {
      "text/html": [
       "<div>\n",
       "<style scoped>\n",
       "    .dataframe tbody tr th:only-of-type {\n",
       "        vertical-align: middle;\n",
       "    }\n",
       "\n",
       "    .dataframe tbody tr th {\n",
       "        vertical-align: top;\n",
       "    }\n",
       "\n",
       "    .dataframe thead th {\n",
       "        text-align: right;\n",
       "    }\n",
       "</style>\n",
       "<table border=\"1\" class=\"dataframe\">\n",
       "  <thead>\n",
       "    <tr style=\"text-align: right;\">\n",
       "      <th></th>\n",
       "      <th>event_unique_days</th>\n",
       "      <th>subm_unique_days</th>\n",
       "      <th>event_steps_tried</th>\n",
       "      <th>subm_step_tried</th>\n",
       "      <th>discovered</th>\n",
       "      <th>passed</th>\n",
       "      <th>started_attempt</th>\n",
       "      <th>viewed</th>\n",
       "      <th>passed_ratio</th>\n",
       "      <th>correct</th>\n",
       "      <th>...</th>\n",
       "      <th>subm_step_tried_daysdiff</th>\n",
       "      <th>passed_daysdiff</th>\n",
       "      <th>correct_daysdiff</th>\n",
       "      <th>correct_ratio_daysdiff</th>\n",
       "      <th>is_submit_daysdiff</th>\n",
       "      <th>is_correct_submit_daysdiff</th>\n",
       "      <th>correct_wrong_ratio_daysdiff</th>\n",
       "      <th>total_subm_daysdiff</th>\n",
       "      <th>total_events_daysdiff</th>\n",
       "      <th>correct_course</th>\n",
       "    </tr>\n",
       "    <tr>\n",
       "      <th>user_id</th>\n",
       "      <th></th>\n",
       "      <th></th>\n",
       "      <th></th>\n",
       "      <th></th>\n",
       "      <th></th>\n",
       "      <th></th>\n",
       "      <th></th>\n",
       "      <th></th>\n",
       "      <th></th>\n",
       "      <th></th>\n",
       "      <th></th>\n",
       "      <th></th>\n",
       "      <th></th>\n",
       "      <th></th>\n",
       "      <th></th>\n",
       "      <th></th>\n",
       "      <th></th>\n",
       "      <th></th>\n",
       "      <th></th>\n",
       "      <th></th>\n",
       "      <th></th>\n",
       "    </tr>\n",
       "  </thead>\n",
       "  <tbody>\n",
       "    <tr>\n",
       "      <th>17632</th>\n",
       "      <td>2</td>\n",
       "      <td>1.0</td>\n",
       "      <td>17</td>\n",
       "      <td>2.0</td>\n",
       "      <td>17</td>\n",
       "      <td>14</td>\n",
       "      <td>2</td>\n",
       "      <td>29</td>\n",
       "      <td>0.225806</td>\n",
       "      <td>2.0</td>\n",
       "      <td>...</td>\n",
       "      <td>2.0</td>\n",
       "      <td>12.0</td>\n",
       "      <td>2.0</td>\n",
       "      <td>1.000000</td>\n",
       "      <td>1.0</td>\n",
       "      <td>1.0</td>\n",
       "      <td>2000.000000</td>\n",
       "      <td>2.0</td>\n",
       "      <td>44.0</td>\n",
       "      <td>0</td>\n",
       "    </tr>\n",
       "    <tr>\n",
       "      <th>12494</th>\n",
       "      <td>2</td>\n",
       "      <td>1.0</td>\n",
       "      <td>17</td>\n",
       "      <td>4.0</td>\n",
       "      <td>17</td>\n",
       "      <td>14</td>\n",
       "      <td>1</td>\n",
       "      <td>24</td>\n",
       "      <td>0.250000</td>\n",
       "      <td>4.0</td>\n",
       "      <td>...</td>\n",
       "      <td>4.0</td>\n",
       "      <td>10.0</td>\n",
       "      <td>4.0</td>\n",
       "      <td>0.666667</td>\n",
       "      <td>1.0</td>\n",
       "      <td>1.0</td>\n",
       "      <td>1.999000</td>\n",
       "      <td>6.0</td>\n",
       "      <td>36.0</td>\n",
       "      <td>0</td>\n",
       "    </tr>\n",
       "    <tr>\n",
       "      <th>442</th>\n",
       "      <td>1</td>\n",
       "      <td>1.0</td>\n",
       "      <td>19</td>\n",
       "      <td>6.0</td>\n",
       "      <td>19</td>\n",
       "      <td>18</td>\n",
       "      <td>7</td>\n",
       "      <td>31</td>\n",
       "      <td>0.240000</td>\n",
       "      <td>5.0</td>\n",
       "      <td>...</td>\n",
       "      <td>6.0</td>\n",
       "      <td>18.0</td>\n",
       "      <td>5.0</td>\n",
       "      <td>0.238095</td>\n",
       "      <td>1.0</td>\n",
       "      <td>1.0</td>\n",
       "      <td>0.312480</td>\n",
       "      <td>21.0</td>\n",
       "      <td>75.0</td>\n",
       "      <td>0</td>\n",
       "    </tr>\n",
       "    <tr>\n",
       "      <th>22254</th>\n",
       "      <td>2</td>\n",
       "      <td>1.0</td>\n",
       "      <td>27</td>\n",
       "      <td>8.0</td>\n",
       "      <td>27</td>\n",
       "      <td>27</td>\n",
       "      <td>10</td>\n",
       "      <td>36</td>\n",
       "      <td>0.270000</td>\n",
       "      <td>8.0</td>\n",
       "      <td>...</td>\n",
       "      <td>8.0</td>\n",
       "      <td>21.0</td>\n",
       "      <td>8.0</td>\n",
       "      <td>0.347826</td>\n",
       "      <td>1.0</td>\n",
       "      <td>1.0</td>\n",
       "      <td>0.533298</td>\n",
       "      <td>23.0</td>\n",
       "      <td>80.0</td>\n",
       "      <td>0</td>\n",
       "    </tr>\n",
       "    <tr>\n",
       "      <th>6646</th>\n",
       "      <td>1</td>\n",
       "      <td>1.0</td>\n",
       "      <td>2</td>\n",
       "      <td>2.0</td>\n",
       "      <td>2</td>\n",
       "      <td>2</td>\n",
       "      <td>0</td>\n",
       "      <td>3</td>\n",
       "      <td>0.285714</td>\n",
       "      <td>2.0</td>\n",
       "      <td>...</td>\n",
       "      <td>2.0</td>\n",
       "      <td>2.0</td>\n",
       "      <td>2.0</td>\n",
       "      <td>1.000000</td>\n",
       "      <td>1.0</td>\n",
       "      <td>1.0</td>\n",
       "      <td>2000.000000</td>\n",
       "      <td>2.0</td>\n",
       "      <td>7.0</td>\n",
       "      <td>1</td>\n",
       "    </tr>\n",
       "  </tbody>\n",
       "</table>\n",
       "<p>5 rows × 91 columns</p>\n",
       "</div>"
      ],
      "text/plain": [
       "         event_unique_days  subm_unique_days  event_steps_tried  \\\n",
       "user_id                                                           \n",
       "17632                    2               1.0                 17   \n",
       "12494                    2               1.0                 17   \n",
       "442                      1               1.0                 19   \n",
       "22254                    2               1.0                 27   \n",
       "6646                     1               1.0                  2   \n",
       "\n",
       "         subm_step_tried  discovered  passed  started_attempt  viewed  \\\n",
       "user_id                                                                 \n",
       "17632                2.0          17      14                2      29   \n",
       "12494                4.0          17      14                1      24   \n",
       "442                  6.0          19      18                7      31   \n",
       "22254                8.0          27      27               10      36   \n",
       "6646                 2.0           2       2                0       3   \n",
       "\n",
       "         passed_ratio  correct       ...        subm_step_tried_daysdiff  \\\n",
       "user_id                              ...                                   \n",
       "17632        0.225806      2.0       ...                             2.0   \n",
       "12494        0.250000      4.0       ...                             4.0   \n",
       "442          0.240000      5.0       ...                             6.0   \n",
       "22254        0.270000      8.0       ...                             8.0   \n",
       "6646         0.285714      2.0       ...                             2.0   \n",
       "\n",
       "         passed_daysdiff  correct_daysdiff  correct_ratio_daysdiff  \\\n",
       "user_id                                                              \n",
       "17632               12.0               2.0                1.000000   \n",
       "12494               10.0               4.0                0.666667   \n",
       "442                 18.0               5.0                0.238095   \n",
       "22254               21.0               8.0                0.347826   \n",
       "6646                 2.0               2.0                1.000000   \n",
       "\n",
       "         is_submit_daysdiff  is_correct_submit_daysdiff  \\\n",
       "user_id                                                   \n",
       "17632                   1.0                         1.0   \n",
       "12494                   1.0                         1.0   \n",
       "442                     1.0                         1.0   \n",
       "22254                   1.0                         1.0   \n",
       "6646                    1.0                         1.0   \n",
       "\n",
       "         correct_wrong_ratio_daysdiff  total_subm_daysdiff  \\\n",
       "user_id                                                      \n",
       "17632                     2000.000000                  2.0   \n",
       "12494                        1.999000                  6.0   \n",
       "442                          0.312480                 21.0   \n",
       "22254                        0.533298                 23.0   \n",
       "6646                      2000.000000                  2.0   \n",
       "\n",
       "         total_events_daysdiff  correct_course  \n",
       "user_id                                         \n",
       "17632                     44.0               0  \n",
       "12494                     36.0               0  \n",
       "442                       75.0               0  \n",
       "22254                     80.0               0  \n",
       "6646                       7.0               1  \n",
       "\n",
       "[5 rows x 91 columns]"
      ]
     },
     "execution_count": 180,
     "metadata": {},
     "output_type": "execute_result"
    }
   ],
   "source": [
    "X_corr.head()"
   ]
  },
  {
   "cell_type": "code",
   "execution_count": 181,
   "metadata": {},
   "outputs": [],
   "source": [
    "X_corr = X_corr.corr()"
   ]
  },
  {
   "cell_type": "code",
   "execution_count": 182,
   "metadata": {},
   "outputs": [
    {
     "data": {
      "text/plain": [
       "Index(['correct_course', 'correct', 'subm_step_tried', 'correct_1_day',\n",
       "       'subm_step_tried_1_day', 'subm_unique_days', 'passed', 'total_subm',\n",
       "       'started_attempt', 'total_events', 'subm_step_tried_2_day',\n",
       "       'correct_2_day', 'subm_unique_days_2_day', 'event_steps_tried',\n",
       "       'is_correct_submit_2_day', 'discovered', 'is_submit_2_day',\n",
       "       'subm_unique_days_1_day', 'passed_1_day', 'viewed',\n",
       "       'correct_ratio_2_day'],\n",
       "      dtype='object')"
      ]
     },
     "execution_count": 182,
     "metadata": {},
     "output_type": "execute_result"
    }
   ],
   "source": [
    "X_corr['correct_course'].sort_values(ascending=False)[:21].index"
   ]
  },
  {
   "cell_type": "code",
   "execution_count": 183,
   "metadata": {},
   "outputs": [],
   "source": [
    "# X_train = X_train[['correct', 'subm_step_tried', 'correct_1_day',\n",
    "#        'subm_step_tried_1_day', 'subm_unique_days', 'passed', 'total_subm',\n",
    "#        'started_attempt', 'total_events', 'subm_step_tried_2_day',\n",
    "#        'correct_2_day', 'subm_unique_days_2_day', 'event_steps_tried',\n",
    "#        'is_correct_submit_2_day', 'discovered', 'is_submit_2_day',\n",
    "#        'subm_unique_days_1_day', 'passed_1_day', 'viewed',\n",
    "#        'correct_ratio_2_day']].copy()"
   ]
  },
  {
   "cell_type": "code",
   "execution_count": 184,
   "metadata": {},
   "outputs": [],
   "source": [
    "# X_train = X_train[['subm_unique_days', 'subm_step_tried', 'passed', 'correct',\n",
    "#        'correct_ratio', 'correct_wrong_ratio', 'correct_passed_ratio',\n",
    "#        'total_subm', 'subm_step_tried_1_day', 'correct_1_day',\n",
    "#        'correct_ratio_1_day', 'correct_wrong_ratio_1_day',\n",
    "#        'correct_passed_ratio_1_day', 'correct_2_day',\n",
    "#        'correct_wrong_ratio_2_day', 'subm_step_tried_daysratio',\n",
    "#        'correct_daysratio', 'correct_ratio_daysratio', 'total_subm_daysratio']].copy()"
   ]
  },
  {
   "cell_type": "code",
   "execution_count": 185,
   "metadata": {},
   "outputs": [],
   "source": [
    "X_train = X_train[['subm_step_tried', 'correct', 'correct_ratio', 'correct_wrong_ratio',\n",
    "       'correct_passed_ratio', 'subm_step_tried_1_day', 'correct_1_day',\n",
    "       'correct_ratio_1_day', 'correct_passed_ratio_1_day',\n",
    "       'correct_ratio_daysratio']].copy()"
   ]
  },
  {
   "cell_type": "code",
   "execution_count": 186,
   "metadata": {},
   "outputs": [
    {
     "data": {
      "text/plain": [
       "(19234, 10)"
      ]
     },
     "execution_count": 186,
     "metadata": {},
     "output_type": "execute_result"
    }
   ],
   "source": [
    "X_train.shape"
   ]
  },
  {
   "cell_type": "code",
   "execution_count": 187,
   "metadata": {},
   "outputs": [],
   "source": [
    "# X_train.head()"
   ]
  },
  {
   "cell_type": "code",
   "execution_count": 188,
   "metadata": {},
   "outputs": [],
   "source": [
    "# plt.figure(figsize=(14, 14))\n",
    "# sns.heatmap(X_train.corr().round(2), cmap=\"YlGnBu\", annot=True);\n",
    "# sns.heatmap(X_train.corr().round(2), cmap=\"YlGnBu\");"
   ]
  },
  {
   "cell_type": "code",
   "execution_count": 189,
   "metadata": {},
   "outputs": [],
   "source": [
    "from sklearn.feature_selection import SelectKBest\n",
    "from sklearn.feature_selection import chi2"
   ]
  },
  {
   "cell_type": "code",
   "execution_count": 190,
   "metadata": {},
   "outputs": [],
   "source": [
    "# %%time\n",
    "# X_new = SelectKBest(chi2, k=70).fit_transform(X_train, y_train)"
   ]
  },
  {
   "cell_type": "code",
   "execution_count": 191,
   "metadata": {},
   "outputs": [],
   "source": [
    "# X_new.columns"
   ]
  },
  {
   "cell_type": "code",
   "execution_count": 192,
   "metadata": {},
   "outputs": [],
   "source": [
    "# X_new.shape"
   ]
  },
  {
   "cell_type": "code",
   "execution_count": 193,
   "metadata": {},
   "outputs": [],
   "source": [
    "# X_new[0]"
   ]
  },
  {
   "cell_type": "markdown",
   "metadata": {},
   "source": [
    "## Обучимо Random Forest модель"
   ]
  },
  {
   "cell_type": "code",
   "execution_count": 194,
   "metadata": {},
   "outputs": [
    {
     "name": "stderr",
     "output_type": "stream",
     "text": [
      "C:\\ProgramData\\Anaconda3\\lib\\site-packages\\sklearn\\ensemble\\weight_boosting.py:29: DeprecationWarning: numpy.core.umath_tests is an internal NumPy module and should not be imported. It will be removed in a future NumPy release.\n",
      "  from numpy.core.umath_tests import inner1d\n"
     ]
    }
   ],
   "source": [
    "from sklearn.model_selection import train_test_split, GridSearchCV\n",
    "from sklearn.ensemble import RandomForestClassifier\n",
    "from sklearn.metrics import precision_score, recall_score, accuracy_score, roc_auc_score\n",
    "from sklearn.model_selection import cross_val_score"
   ]
  },
  {
   "cell_type": "markdown",
   "metadata": {},
   "source": [
    "Зазначимо **X_train** і **y_train** як **X** і **y**, щоб у подальшому обучити модель"
   ]
  },
  {
   "cell_type": "code",
   "execution_count": 195,
   "metadata": {},
   "outputs": [],
   "source": [
    "X = X_train\n",
    "y = y_train"
   ]
  },
  {
   "cell_type": "markdown",
   "metadata": {},
   "source": [
    "Виділимо **X_train, X_valid, y_train, y_valid** для валідації"
   ]
  },
  {
   "cell_type": "code",
   "execution_count": 196,
   "metadata": {},
   "outputs": [],
   "source": [
    "X_train, X_valid, y_train, y_valid = train_test_split(X, y, test_size=0.3, random_state=42)"
   ]
  },
  {
   "cell_type": "code",
   "execution_count": 197,
   "metadata": {},
   "outputs": [],
   "source": [
    "# clf_rf = RandomForestClassifier(random_state=42, class_weight='balanced')\n",
    "# params = {'n_estimators': [50, 100, 150], \n",
    "#           'max_depth': [3, 7, 10, 13],\n",
    "#           'min_samples_leaf': range(2, 11, 2), \n",
    "#           'min_samples_split': range(2, 11, 2)}\n",
    "\n",
    "clf_rf = RandomForestClassifier(random_state=42, class_weight='balanced', min_samples_leaf=10, min_samples_split=10)\n",
    "# clf_rf = RandomForestClassifier(random_state=42, class_weight='balanced')\n",
    "\n",
    "# params = {'n_estimators': [50, 100, 150, 200], \n",
    "#           'max_depth': [3, 7, 10, 13, 16]}\n",
    "\n",
    "# params = {'n_estimators': [100, 150, 200], \n",
    "#           'max_depth': [3, 7, 10, 13, 16]}\n",
    "\n",
    "# params = {'n_estimators': [50, 100, 150, 200], \n",
    "#           'max_depth': [6, 7, 8]}\n",
    "\n",
    "# params = {'n_estimators': [100, 150, 200], \n",
    "#           'max_depth': [3, 5, 7, 9]}\n",
    "\n",
    "# params = {'n_estimators': [100, 150, 200], \n",
    "#           'max_depth': [5]}\n",
    "params = {'n_estimators': [100, 150, 200], \n",
    "          'max_depth': [5]}"
   ]
  },
  {
   "cell_type": "code",
   "execution_count": 198,
   "metadata": {},
   "outputs": [],
   "source": [
    "grid_clf_rf = GridSearchCV(clf_rf, params, cv=5, scoring='roc_auc')"
   ]
  },
  {
   "cell_type": "code",
   "execution_count": 199,
   "metadata": {},
   "outputs": [
    {
     "name": "stdout",
     "output_type": "stream",
     "text": [
      "Wall time: 30.4 s\n"
     ]
    },
    {
     "data": {
      "text/plain": [
       "GridSearchCV(cv=5, error_score='raise',\n",
       "       estimator=RandomForestClassifier(bootstrap=True, class_weight='balanced',\n",
       "            criterion='gini', max_depth=None, max_features='auto',\n",
       "            max_leaf_nodes=None, min_impurity_decrease=0.0,\n",
       "            min_impurity_split=None, min_samples_leaf=10,\n",
       "            min_samples_split=10, min_weight_fraction_leaf=0.0,\n",
       "            n_estimators=10, n_jobs=1, oob_score=False, random_state=42,\n",
       "            verbose=0, warm_start=False),\n",
       "       fit_params=None, iid=True, n_jobs=1,\n",
       "       param_grid={'n_estimators': [100, 150, 200], 'max_depth': [5]},\n",
       "       pre_dispatch='2*n_jobs', refit=True, return_train_score='warn',\n",
       "       scoring='roc_auc', verbose=0)"
      ]
     },
     "execution_count": 199,
     "metadata": {},
     "output_type": "execute_result"
    }
   ],
   "source": [
    "%%time\n",
    "grid_clf_rf.fit(X_train, y_train.values.ravel())"
   ]
  },
  {
   "cell_type": "code",
   "execution_count": 200,
   "metadata": {},
   "outputs": [
    {
     "data": {
      "text/plain": [
       "{'max_depth': 5, 'n_estimators': 200}"
      ]
     },
     "execution_count": 200,
     "metadata": {},
     "output_type": "execute_result"
    }
   ],
   "source": [
    "grid_clf_rf.best_params_"
   ]
  },
  {
   "cell_type": "code",
   "execution_count": 201,
   "metadata": {},
   "outputs": [
    {
     "data": {
      "text/plain": [
       "0.8944599705730792"
      ]
     },
     "execution_count": 201,
     "metadata": {},
     "output_type": "execute_result"
    }
   ],
   "source": [
    "grid_clf_rf.best_score_"
   ]
  },
  {
   "cell_type": "code",
   "execution_count": 202,
   "metadata": {},
   "outputs": [],
   "source": [
    "# 0.8955275853971874"
   ]
  },
  {
   "cell_type": "code",
   "execution_count": 203,
   "metadata": {},
   "outputs": [],
   "source": [
    "# grid_clf_rf.grid_scores_"
   ]
  },
  {
   "cell_type": "code",
   "execution_count": 204,
   "metadata": {},
   "outputs": [],
   "source": [
    "best_clf = grid_clf_rf.best_estimator_"
   ]
  },
  {
   "cell_type": "code",
   "execution_count": 205,
   "metadata": {},
   "outputs": [],
   "source": [
    "# best_clf.score(X_train, y_train)"
   ]
  },
  {
   "cell_type": "code",
   "execution_count": 206,
   "metadata": {},
   "outputs": [
    {
     "data": {
      "text/plain": [
       "array([0.55135392, 0.        , 0.        , ..., 0.        , 0.52885168,\n",
       "       0.55135392])"
      ]
     },
     "execution_count": 206,
     "metadata": {},
     "output_type": "execute_result"
    }
   ],
   "source": [
    "y_pred = best_clf.predict_proba(X_valid)[:,1]\n",
    "y_pred"
   ]
  },
  {
   "cell_type": "code",
   "execution_count": 207,
   "metadata": {},
   "outputs": [
    {
     "data": {
      "text/plain": [
       "0.7962070384575166"
      ]
     },
     "execution_count": 207,
     "metadata": {},
     "output_type": "execute_result"
    }
   ],
   "source": [
    "y_pred = best_clf.predict(X_valid)\n",
    "roc_auc_score(y_valid, y_pred)"
   ]
  },
  {
   "cell_type": "code",
   "execution_count": 208,
   "metadata": {},
   "outputs": [
    {
     "data": {
      "text/plain": [
       "0.8854754652445379"
      ]
     },
     "execution_count": 208,
     "metadata": {},
     "output_type": "execute_result"
    }
   ],
   "source": [
    "y_pred_prob = best_clf.predict_proba(X_valid)\n",
    "roc_score = roc_auc_score(y_valid, y_pred_prob[:, 1])\n",
    "roc_score"
   ]
  },
  {
   "cell_type": "code",
   "execution_count": 209,
   "metadata": {},
   "outputs": [],
   "source": [
    "# 0.7961594767537956\n",
    "# 0.8816057640737105"
   ]
  },
  {
   "cell_type": "code",
   "execution_count": 210,
   "metadata": {},
   "outputs": [
    {
     "data": {
      "text/html": [
       "<div>\n",
       "<style scoped>\n",
       "    .dataframe tbody tr th:only-of-type {\n",
       "        vertical-align: middle;\n",
       "    }\n",
       "\n",
       "    .dataframe tbody tr th {\n",
       "        vertical-align: top;\n",
       "    }\n",
       "\n",
       "    .dataframe thead th {\n",
       "        text-align: right;\n",
       "    }\n",
       "</style>\n",
       "<table border=\"1\" class=\"dataframe\">\n",
       "  <thead>\n",
       "    <tr style=\"text-align: right;\">\n",
       "      <th></th>\n",
       "      <th>feature_importances</th>\n",
       "      <th>features</th>\n",
       "    </tr>\n",
       "  </thead>\n",
       "  <tbody>\n",
       "    <tr>\n",
       "      <th>1</th>\n",
       "      <td>0.221026</td>\n",
       "      <td>correct</td>\n",
       "    </tr>\n",
       "    <tr>\n",
       "      <th>6</th>\n",
       "      <td>0.156562</td>\n",
       "      <td>correct_1_day</td>\n",
       "    </tr>\n",
       "    <tr>\n",
       "      <th>4</th>\n",
       "      <td>0.152109</td>\n",
       "      <td>correct_passed_ratio</td>\n",
       "    </tr>\n",
       "    <tr>\n",
       "      <th>0</th>\n",
       "      <td>0.136610</td>\n",
       "      <td>subm_step_tried</td>\n",
       "    </tr>\n",
       "    <tr>\n",
       "      <th>8</th>\n",
       "      <td>0.131348</td>\n",
       "      <td>correct_passed_ratio_1_day</td>\n",
       "    </tr>\n",
       "    <tr>\n",
       "      <th>5</th>\n",
       "      <td>0.057177</td>\n",
       "      <td>subm_step_tried_1_day</td>\n",
       "    </tr>\n",
       "    <tr>\n",
       "      <th>7</th>\n",
       "      <td>0.045898</td>\n",
       "      <td>correct_ratio_1_day</td>\n",
       "    </tr>\n",
       "    <tr>\n",
       "      <th>3</th>\n",
       "      <td>0.038714</td>\n",
       "      <td>correct_wrong_ratio</td>\n",
       "    </tr>\n",
       "    <tr>\n",
       "      <th>9</th>\n",
       "      <td>0.036832</td>\n",
       "      <td>correct_ratio_daysratio</td>\n",
       "    </tr>\n",
       "    <tr>\n",
       "      <th>2</th>\n",
       "      <td>0.023725</td>\n",
       "      <td>correct_ratio</td>\n",
       "    </tr>\n",
       "  </tbody>\n",
       "</table>\n",
       "</div>"
      ],
      "text/plain": [
       "   feature_importances                    features\n",
       "1             0.221026                     correct\n",
       "6             0.156562               correct_1_day\n",
       "4             0.152109        correct_passed_ratio\n",
       "0             0.136610             subm_step_tried\n",
       "8             0.131348  correct_passed_ratio_1_day\n",
       "5             0.057177       subm_step_tried_1_day\n",
       "7             0.045898         correct_ratio_1_day\n",
       "3             0.038714         correct_wrong_ratio\n",
       "9             0.036832     correct_ratio_daysratio\n",
       "2             0.023725               correct_ratio"
      ]
     },
     "execution_count": 210,
     "metadata": {},
     "output_type": "execute_result"
    }
   ],
   "source": [
    "feature_importances = best_clf.feature_importances_\n",
    "\n",
    "feature_importances_df = pd.DataFrame({'features': list(X_valid), \n",
    "                                       'feature_importances': feature_importances})\n",
    "\n",
    "feature_importances_df.sort_values(by='feature_importances', ascending=False)"
   ]
  },
  {
   "cell_type": "code",
   "execution_count": 211,
   "metadata": {},
   "outputs": [],
   "source": [
    "feature_importances_df_sorted = feature_importances_df.sort_values(by='feature_importances', ascending=False)"
   ]
  },
  {
   "cell_type": "code",
   "execution_count": 212,
   "metadata": {},
   "outputs": [],
   "source": [
    "# feature_importances_df_sorted.features.values[:30]"
   ]
  },
  {
   "cell_type": "code",
   "execution_count": 213,
   "metadata": {},
   "outputs": [],
   "source": [
    "# X = X[feature_importances_df_sorted.features.values[:20]].copy()"
   ]
  },
  {
   "cell_type": "code",
   "execution_count": 214,
   "metadata": {},
   "outputs": [],
   "source": [
    "# X.shape"
   ]
  },
  {
   "cell_type": "code",
   "execution_count": 215,
   "metadata": {},
   "outputs": [],
   "source": [
    "# X.head()"
   ]
  },
  {
   "cell_type": "code",
   "execution_count": 216,
   "metadata": {},
   "outputs": [],
   "source": [
    "# rf = RandomForestClassifier(n_estimators=150, n_jobs=-1, max_depth=8, \n",
    "#                             min_samples_leaf=10, min_samples_split=10, \n",
    "#                             class_weight='balanced', random_state=42)\n",
    "\n",
    "# rf.fit(X_train, y_train)\n",
    "# pred_proba = rf.predict_proba(X_valid)\n",
    "# roc_score = roc_auc_score(y_valid, pred_proba[:, 1])\n",
    "# print('roc на test', roc_score)"
   ]
  },
  {
   "cell_type": "code",
   "execution_count": 217,
   "metadata": {
    "scrolled": true
   },
   "outputs": [],
   "source": [
    "# pred = rf.predict(X_valid)\n",
    "# roc_auc_score(y_valid, pred)"
   ]
  },
  {
   "cell_type": "code",
   "execution_count": 218,
   "metadata": {},
   "outputs": [],
   "source": [
    "# feature_importances = rf.feature_importances_\n",
    "\n",
    "# feature_importances_df = pd.DataFrame({'features': list(X_valid), \n",
    "#                                        'feature_importances': feature_importances})\n",
    "\n",
    "# feature_importances_df.sort_values(by='feature_importances', ascending=False)"
   ]
  },
  {
   "cell_type": "code",
   "execution_count": 219,
   "metadata": {},
   "outputs": [
    {
     "name": "stdout",
     "output_type": "stream",
     "text": [
      "mean score 0.8944752110649423\n",
      "std score 0.0067990397969417615\n"
     ]
    }
   ],
   "source": [
    "# значение к метрике на кроссвалидации коррелирует к метрике на степике\n",
    "\n",
    "rfcv = RandomForestClassifier(**best_clf.get_params())\n",
    "\n",
    "cv_scores = cross_val_score(rfcv, X_train, y_train, scoring='roc_auc', cv=10, n_jobs=-1)\n",
    "mean_cv_scores = np.mean(cv_scores)\n",
    "print ('mean score', mean_cv_scores)\n",
    "\n",
    "std_cv_scores = np.std(cv_scores)\n",
    "print ('std score', std_cv_scores)"
   ]
  },
  {
   "cell_type": "code",
   "execution_count": 220,
   "metadata": {},
   "outputs": [],
   "source": [
    "################################################################################################################################"
   ]
  },
  {
   "cell_type": "code",
   "execution_count": 221,
   "metadata": {},
   "outputs": [
    {
     "data": {
      "text/plain": [
       "(13463, 10)"
      ]
     },
     "execution_count": 221,
     "metadata": {},
     "output_type": "execute_result"
    }
   ],
   "source": [
    "X_train.shape"
   ]
  },
  {
   "cell_type": "code",
   "execution_count": 222,
   "metadata": {},
   "outputs": [],
   "source": [
    "from sklearn.feature_selection import RFE\n",
    "from sklearn.feature_selection import RFECV"
   ]
  },
  {
   "cell_type": "code",
   "execution_count": 223,
   "metadata": {},
   "outputs": [],
   "source": [
    "# %%time\n",
    "# rfe = RFE(rfcv, n_features_to_select=10)\n",
    "# rfe = rfe.fit(X_train, y_train.values.ravel())\n",
    "# print(rfe.support_)\n",
    "# print(rfe.ranking_)\n",
    "\n",
    "# X_train_RFE = X_train[X_train.columns[rfe.support_]]\n",
    "# X_valid_RFE = X_valid[X_valid.columns[rfe.support_]]\n",
    "\n",
    "# rf_rfe = RandomForestClassifier(n_estimators=200, n_jobs=-1, max_depth=5, \n",
    "#                             min_samples_leaf=10, min_samples_split=10, \n",
    "#                             class_weight='balanced', random_state=42)\n",
    "\n",
    "# rf_rfe.fit(X_train_RFE, y_train.values.ravel())\n",
    "# pred_proba = rf_rfe.predict_proba(X_valid_RFE)\n",
    "# roc_score = roc_auc_score(y_valid, pred_proba[:, 1])\n",
    "# print('roc на test', roc_score)"
   ]
  },
  {
   "cell_type": "markdown",
   "metadata": {},
   "source": [
    "n_estimators=200\n",
    "0.8843825580100994 - 19\n",
    "0.8841182701032527 - 18\n",
    "0.8841830349764046 - 17\n",
    "0.8840742502285324 - 15\n",
    "0.8846277875037526 - 11\n",
    "0.8854754652445379 - 10\n",
    "0.8847741831024398 - 9\n",
    "0.8763586287387377 - 5"
   ]
  },
  {
   "cell_type": "markdown",
   "metadata": {},
   "source": [
    "n_estimators = 100\n",
    "0.9042833534906999 - 90\n",
    "0.9037503127867212 - 35\n",
    "0.9033938662523981 - 30\n",
    "0.9031266942614062 - 25\n",
    "0.9020071784552508 - 20\n",
    "0.9024600675619319 - 40\n",
    "0.904068964258904 - 45\n",
    "0.9045726812077739 - 50 +\n",
    "0.9038050504629244 - 55\n",
    "0.9022274324380684 - 60\n",
    "0.9044091198181667 - 65\n",
    "0.9035020383267995 - 70\n",
    "0.9036310628492784 - 75\n",
    "0.9043315747768789 - 80\n",
    "0.903815476686963 - 85"
   ]
  },
  {
   "cell_type": "code",
   "execution_count": 224,
   "metadata": {},
   "outputs": [],
   "source": [
    "# X_train.columns[~rfe.support_]\n",
    "# X_train.columns[rfe.support_]"
   ]
  },
  {
   "cell_type": "markdown",
   "metadata": {},
   "source": [
    "n_estimators = 200\n",
    "i = 90, score = 0.9041712715822837\n",
    "i = 89, score = 0.9035281038868963\n",
    "i = 88, score = 0.9038988864792726\n",
    "i = 87, score = 0.9041758330553007\n",
    "i = 86, score = 0.9048633122028527\n",
    "i = 85, score = 0.9047108286762865\n",
    "i = 84, score = 0.9039014930352824\n",
    "i = 83, score = 0.9038408906080573\n",
    "i = 82, score = 0.9042025502544\n",
    "i = 81, score = 0.9043824026190674\n",
    "i = 80, score = 0.9041113207940612\n",
    "i = 79, score = 0.9046052631578947\n",
    "i = 78, score = 0.9049147916840438\n",
    "i = 77, score = 0.9049753941112687\n",
    "i = 76, score = 0.9041862592793394\n",
    "i = 75, score = 0.9040963330970057\n",
    "i = 74, score = 0.9042364354825256\n",
    "i = 73, score = 0.9044977427224956\n",
    "i = 72, score = 0.9052849226374178 +\n",
    "i = 71, score = 0.9039269069563767\n",
    "i = 70, score = 0.9035456981399616\n",
    "i = 69, score = 0.9046424065810327\n",
    "i = 68, score = 0.9047688245475018\n",
    "i = 67, score = 0.9045531320377013\n",
    "i = 66, score = 0.9036551734923679\n",
    "i = 65, score = 0.9034446940945867\n",
    "i = 64, score = 0.9037535709817333\n",
    "i = 63, score = 0.9034055957544417\n",
    "i = 62, score = 0.9050965989657187 +\n",
    "i = 61, score = 0.9041145789890733\n",
    "i = 60, score = 0.903120177871382"
   ]
  },
  {
   "cell_type": "code",
   "execution_count": 225,
   "metadata": {},
   "outputs": [],
   "source": [
    "# for i in range(90, 80, -1):\n",
    "#     rfe = RFE(rfcv, n_features_to_select=i)\n",
    "#     rfe = rfe.fit(X_train, y_train.values.ravel())\n",
    "\n",
    "#     X_train_RFE = X_train[X_train.columns[rfe.support_]]\n",
    "#     X_valid_RFE = X_valid[X_valid.columns[rfe.support_]]\n",
    "\n",
    "#     rf_rfe = RandomForestClassifier(n_estimators=200, n_jobs=-1, max_depth=5, \n",
    "#                                 min_samples_leaf=10, min_samples_split=10, \n",
    "#                                 class_weight='balanced', random_state=42)\n",
    "\n",
    "#     rf_rfe.fit(X_train_RFE, y_train.values.ravel())\n",
    "#     pred_proba = rf_rfe.predict_proba(X_valid_RFE)\n",
    "#     roc_score = roc_auc_score(y_valid, pred_proba[:, 1])\n",
    "    \n",
    "#     print('i = {0}, score = {1}'.format(i, roc_score))"
   ]
  },
  {
   "cell_type": "code",
   "execution_count": 226,
   "metadata": {},
   "outputs": [],
   "source": [
    "# X_train.columns[~rfe.support_]"
   ]
  },
  {
   "cell_type": "code",
   "execution_count": 227,
   "metadata": {},
   "outputs": [],
   "source": [
    "# %%time\n",
    "# selector = RFECV(rfcv, step=1, cv=5, scoring='roc_auc', n_jobs=-1)\n",
    "# selector = selector.fit(X_train, y_train.values.ravel())\n",
    "# print(rfe.support_)\n",
    "# print(rfe.ranking_)"
   ]
  },
  {
   "cell_type": "code",
   "execution_count": 228,
   "metadata": {},
   "outputs": [],
   "source": [
    "################################################################################################################################"
   ]
  },
  {
   "cell_type": "code",
   "execution_count": 229,
   "metadata": {},
   "outputs": [],
   "source": [
    "# from sklearn.decomposition import PCA\n",
    "# from sklearn.pipeline import make_pipeline\n",
    "\n",
    "# def plotPCA(pca):\n",
    "#     \"\"\"\n",
    "#     Plots accumulated percentage of explained variance by component\n",
    "    \n",
    "#     pca: fitted PCA object\n",
    "#     \"\"\"\n",
    "#     components = range(1, pca.n_components_ + 1)\n",
    "#     variance = np.cumsum(np.round(pca.explained_variance_ratio_, decimals=4)*100)\n",
    "#     plt.figure(figsize=(20, 10))\n",
    "#     plt.bar(components, variance)\n",
    "    \n",
    "#     # additionally mark the level of 95% of explained variance \n",
    "#     plt.hlines(y = 95, xmin=0, xmax=len(components), linestyles='dashed', colors='red')\n",
    "    \n",
    "#     plt.xlabel('PCA components')\n",
    "#     plt.ylabel('variance')\n",
    "#     plt.xticks(components)\n",
    "#     plt.show()"
   ]
  },
  {
   "cell_type": "code",
   "execution_count": 230,
   "metadata": {},
   "outputs": [],
   "source": [
    "# # Create PCA object: pca\n",
    "# pca = PCA()\n",
    "# # Train PCA on scaled data\n",
    "# pca.fit(X_train)\n",
    "# # plot explained variance\n",
    "# plotPCA(pca)"
   ]
  },
  {
   "cell_type": "code",
   "execution_count": 231,
   "metadata": {},
   "outputs": [],
   "source": [
    "################################################################################################################################"
   ]
  },
  {
   "cell_type": "markdown",
   "metadata": {},
   "source": [
    "## Test data preprocessing"
   ]
  },
  {
   "cell_type": "code",
   "execution_count": 232,
   "metadata": {},
   "outputs": [],
   "source": [
    "# events_data_test = pd.read_csv(os.path.join(PATH_TO_DATA, 'events_data_test.csv'))\n",
    "# events_data_test.head()"
   ]
  },
  {
   "cell_type": "code",
   "execution_count": 233,
   "metadata": {},
   "outputs": [],
   "source": [
    "# print(events_data_test.shape)\n",
    "# print(events_data_test['user_id'].nunique())"
   ]
  },
  {
   "cell_type": "code",
   "execution_count": 234,
   "metadata": {},
   "outputs": [],
   "source": [
    "# submission_data_test = pd.read_csv(os.path.join(PATH_TO_DATA, 'submission_data_test.csv'))\n",
    "# submission_data_test.head()"
   ]
  },
  {
   "cell_type": "code",
   "execution_count": 235,
   "metadata": {},
   "outputs": [],
   "source": [
    "# print(submission_data_test.shape)\n",
    "# print(submission_data_test['user_id'].nunique())"
   ]
  },
  {
   "cell_type": "markdown",
   "metadata": {},
   "source": [
    "## Predict on real data"
   ]
  },
  {
   "cell_type": "code",
   "execution_count": 236,
   "metadata": {},
   "outputs": [
    {
     "data": {
      "text/html": [
       "<div>\n",
       "<style scoped>\n",
       "    .dataframe tbody tr th:only-of-type {\n",
       "        vertical-align: middle;\n",
       "    }\n",
       "\n",
       "    .dataframe tbody tr th {\n",
       "        vertical-align: top;\n",
       "    }\n",
       "\n",
       "    .dataframe thead th {\n",
       "        text-align: right;\n",
       "    }\n",
       "</style>\n",
       "<table border=\"1\" class=\"dataframe\">\n",
       "  <thead>\n",
       "    <tr style=\"text-align: right;\">\n",
       "      <th></th>\n",
       "      <th>step_id</th>\n",
       "      <th>timestamp</th>\n",
       "      <th>action</th>\n",
       "      <th>user_id</th>\n",
       "    </tr>\n",
       "  </thead>\n",
       "  <tbody>\n",
       "    <tr>\n",
       "      <th>0</th>\n",
       "      <td>30456</td>\n",
       "      <td>1526893787</td>\n",
       "      <td>viewed</td>\n",
       "      <td>24417</td>\n",
       "    </tr>\n",
       "    <tr>\n",
       "      <th>1</th>\n",
       "      <td>30456</td>\n",
       "      <td>1526893797</td>\n",
       "      <td>viewed</td>\n",
       "      <td>24417</td>\n",
       "    </tr>\n",
       "    <tr>\n",
       "      <th>2</th>\n",
       "      <td>30456</td>\n",
       "      <td>1526893954</td>\n",
       "      <td>viewed</td>\n",
       "      <td>24417</td>\n",
       "    </tr>\n",
       "    <tr>\n",
       "      <th>3</th>\n",
       "      <td>30456</td>\n",
       "      <td>1526895780</td>\n",
       "      <td>viewed</td>\n",
       "      <td>24417</td>\n",
       "    </tr>\n",
       "    <tr>\n",
       "      <th>4</th>\n",
       "      <td>30456</td>\n",
       "      <td>1526893787</td>\n",
       "      <td>discovered</td>\n",
       "      <td>24417</td>\n",
       "    </tr>\n",
       "  </tbody>\n",
       "</table>\n",
       "</div>"
      ],
      "text/plain": [
       "   step_id   timestamp      action  user_id\n",
       "0    30456  1526893787      viewed    24417\n",
       "1    30456  1526893797      viewed    24417\n",
       "2    30456  1526893954      viewed    24417\n",
       "3    30456  1526895780      viewed    24417\n",
       "4    30456  1526893787  discovered    24417"
      ]
     },
     "execution_count": 236,
     "metadata": {},
     "output_type": "execute_result"
    }
   ],
   "source": [
    "events_data_pred = pd.read_csv(os.path.join(PATH_TO_DATA, 'events_data_pred.csv'))\n",
    "events_data_pred.head()"
   ]
  },
  {
   "cell_type": "code",
   "execution_count": 237,
   "metadata": {},
   "outputs": [
    {
     "name": "stdout",
     "output_type": "stream",
     "text": [
      "(274768, 4)\n",
      "6184\n"
     ]
    }
   ],
   "source": [
    "print(events_data_pred.shape)\n",
    "print(events_data_pred['user_id'].nunique())"
   ]
  },
  {
   "cell_type": "code",
   "execution_count": 238,
   "metadata": {},
   "outputs": [
    {
     "data": {
      "text/html": [
       "<div>\n",
       "<style scoped>\n",
       "    .dataframe tbody tr th:only-of-type {\n",
       "        vertical-align: middle;\n",
       "    }\n",
       "\n",
       "    .dataframe tbody tr th {\n",
       "        vertical-align: top;\n",
       "    }\n",
       "\n",
       "    .dataframe thead th {\n",
       "        text-align: right;\n",
       "    }\n",
       "</style>\n",
       "<table border=\"1\" class=\"dataframe\">\n",
       "  <thead>\n",
       "    <tr style=\"text-align: right;\">\n",
       "      <th></th>\n",
       "      <th>step_id</th>\n",
       "      <th>timestamp</th>\n",
       "      <th>submission_status</th>\n",
       "      <th>user_id</th>\n",
       "    </tr>\n",
       "  </thead>\n",
       "  <tbody>\n",
       "    <tr>\n",
       "      <th>0</th>\n",
       "      <td>31971</td>\n",
       "      <td>1526800961</td>\n",
       "      <td>wrong</td>\n",
       "      <td>24370</td>\n",
       "    </tr>\n",
       "    <tr>\n",
       "      <th>1</th>\n",
       "      <td>31971</td>\n",
       "      <td>1526800976</td>\n",
       "      <td>wrong</td>\n",
       "      <td>24370</td>\n",
       "    </tr>\n",
       "    <tr>\n",
       "      <th>2</th>\n",
       "      <td>31971</td>\n",
       "      <td>1526800993</td>\n",
       "      <td>wrong</td>\n",
       "      <td>24370</td>\n",
       "    </tr>\n",
       "    <tr>\n",
       "      <th>3</th>\n",
       "      <td>31971</td>\n",
       "      <td>1526801054</td>\n",
       "      <td>correct</td>\n",
       "      <td>24370</td>\n",
       "    </tr>\n",
       "    <tr>\n",
       "      <th>4</th>\n",
       "      <td>31972</td>\n",
       "      <td>1526800664</td>\n",
       "      <td>wrong</td>\n",
       "      <td>24370</td>\n",
       "    </tr>\n",
       "  </tbody>\n",
       "</table>\n",
       "</div>"
      ],
      "text/plain": [
       "   step_id   timestamp submission_status  user_id\n",
       "0    31971  1526800961             wrong    24370\n",
       "1    31971  1526800976             wrong    24370\n",
       "2    31971  1526800993             wrong    24370\n",
       "3    31971  1526801054           correct    24370\n",
       "4    31972  1526800664             wrong    24370"
      ]
     },
     "execution_count": 238,
     "metadata": {},
     "output_type": "execute_result"
    }
   ],
   "source": [
    "submission_data_pred = pd.read_csv(os.path.join(PATH_TO_DATA, 'submission_data_pred.csv'))\n",
    "submission_data_pred.head()"
   ]
  },
  {
   "cell_type": "code",
   "execution_count": 239,
   "metadata": {},
   "outputs": [
    {
     "name": "stdout",
     "output_type": "stream",
     "text": [
      "(42261, 4)\n",
      "2803\n"
     ]
    }
   ],
   "source": [
    "print(submission_data_pred.shape)\n",
    "print(submission_data_pred['user_id'].nunique())"
   ]
  },
  {
   "cell_type": "code",
   "execution_count": 240,
   "metadata": {},
   "outputs": [
    {
     "data": {
      "text/html": [
       "<div>\n",
       "<style scoped>\n",
       "    .dataframe tbody tr th:only-of-type {\n",
       "        vertical-align: middle;\n",
       "    }\n",
       "\n",
       "    .dataframe tbody tr th {\n",
       "        vertical-align: top;\n",
       "    }\n",
       "\n",
       "    .dataframe thead th {\n",
       "        text-align: right;\n",
       "    }\n",
       "</style>\n",
       "<table border=\"1\" class=\"dataframe\">\n",
       "  <thead>\n",
       "    <tr style=\"text-align: right;\">\n",
       "      <th></th>\n",
       "      <th>user_id</th>\n",
       "      <th>event_unique_days</th>\n",
       "      <th>subm_unique_days</th>\n",
       "      <th>event_steps_tried</th>\n",
       "      <th>subm_step_tried</th>\n",
       "      <th>discovered</th>\n",
       "      <th>passed</th>\n",
       "      <th>started_attempt</th>\n",
       "      <th>viewed</th>\n",
       "      <th>passed_ratio</th>\n",
       "      <th>...</th>\n",
       "      <th>action_passed</th>\n",
       "      <th>is_submit</th>\n",
       "      <th>is_correct_submit</th>\n",
       "      <th>correct_wrong_ratio</th>\n",
       "      <th>passed_discovered_ratio</th>\n",
       "      <th>passed_started_attempt_ratio</th>\n",
       "      <th>passed_viewed_ratio</th>\n",
       "      <th>correct_passed_ratio</th>\n",
       "      <th>total_subm</th>\n",
       "      <th>total_events</th>\n",
       "    </tr>\n",
       "  </thead>\n",
       "  <tbody>\n",
       "    <tr>\n",
       "      <th>0</th>\n",
       "      <td>24417</td>\n",
       "      <td>1</td>\n",
       "      <td>0.0</td>\n",
       "      <td>33</td>\n",
       "      <td>0.0</td>\n",
       "      <td>33</td>\n",
       "      <td>27</td>\n",
       "      <td>6</td>\n",
       "      <td>65</td>\n",
       "      <td>0.206107</td>\n",
       "      <td>...</td>\n",
       "      <td>1</td>\n",
       "      <td>0</td>\n",
       "      <td>0</td>\n",
       "      <td>0.0</td>\n",
       "      <td>0.818157</td>\n",
       "      <td>4.49925</td>\n",
       "      <td>0.415378</td>\n",
       "      <td>0.0</td>\n",
       "      <td>0.0</td>\n",
       "      <td>131</td>\n",
       "    </tr>\n",
       "    <tr>\n",
       "      <th>1</th>\n",
       "      <td>999</td>\n",
       "      <td>1</td>\n",
       "      <td>0.0</td>\n",
       "      <td>6</td>\n",
       "      <td>0.0</td>\n",
       "      <td>6</td>\n",
       "      <td>6</td>\n",
       "      <td>0</td>\n",
       "      <td>8</td>\n",
       "      <td>0.300000</td>\n",
       "      <td>...</td>\n",
       "      <td>1</td>\n",
       "      <td>0</td>\n",
       "      <td>0</td>\n",
       "      <td>0.0</td>\n",
       "      <td>0.999833</td>\n",
       "      <td>6000.00000</td>\n",
       "      <td>0.749906</td>\n",
       "      <td>0.0</td>\n",
       "      <td>0.0</td>\n",
       "      <td>20</td>\n",
       "    </tr>\n",
       "    <tr>\n",
       "      <th>2</th>\n",
       "      <td>26244</td>\n",
       "      <td>1</td>\n",
       "      <td>0.0</td>\n",
       "      <td>1</td>\n",
       "      <td>0.0</td>\n",
       "      <td>1</td>\n",
       "      <td>1</td>\n",
       "      <td>0</td>\n",
       "      <td>1</td>\n",
       "      <td>0.333333</td>\n",
       "      <td>...</td>\n",
       "      <td>1</td>\n",
       "      <td>0</td>\n",
       "      <td>0</td>\n",
       "      <td>0.0</td>\n",
       "      <td>0.999001</td>\n",
       "      <td>1000.00000</td>\n",
       "      <td>0.999001</td>\n",
       "      <td>0.0</td>\n",
       "      <td>0.0</td>\n",
       "      <td>3</td>\n",
       "    </tr>\n",
       "    <tr>\n",
       "      <th>3</th>\n",
       "      <td>14192</td>\n",
       "      <td>1</td>\n",
       "      <td>0.0</td>\n",
       "      <td>13</td>\n",
       "      <td>0.0</td>\n",
       "      <td>13</td>\n",
       "      <td>13</td>\n",
       "      <td>0</td>\n",
       "      <td>22</td>\n",
       "      <td>0.270833</td>\n",
       "      <td>...</td>\n",
       "      <td>1</td>\n",
       "      <td>0</td>\n",
       "      <td>0</td>\n",
       "      <td>0.0</td>\n",
       "      <td>0.999923</td>\n",
       "      <td>13000.00000</td>\n",
       "      <td>0.590882</td>\n",
       "      <td>0.0</td>\n",
       "      <td>0.0</td>\n",
       "      <td>48</td>\n",
       "    </tr>\n",
       "    <tr>\n",
       "      <th>4</th>\n",
       "      <td>12684</td>\n",
       "      <td>2</td>\n",
       "      <td>0.0</td>\n",
       "      <td>103</td>\n",
       "      <td>0.0</td>\n",
       "      <td>103</td>\n",
       "      <td>75</td>\n",
       "      <td>25</td>\n",
       "      <td>336</td>\n",
       "      <td>0.139147</td>\n",
       "      <td>...</td>\n",
       "      <td>1</td>\n",
       "      <td>0</td>\n",
       "      <td>0</td>\n",
       "      <td>0.0</td>\n",
       "      <td>0.728148</td>\n",
       "      <td>2.99988</td>\n",
       "      <td>0.223214</td>\n",
       "      <td>0.0</td>\n",
       "      <td>0.0</td>\n",
       "      <td>539</td>\n",
       "    </tr>\n",
       "  </tbody>\n",
       "</table>\n",
       "<p>5 rows × 23 columns</p>\n",
       "</div>"
      ],
      "text/plain": [
       "   user_id  event_unique_days  subm_unique_days  event_steps_tried  \\\n",
       "0    24417                  1               0.0                 33   \n",
       "1      999                  1               0.0                  6   \n",
       "2    26244                  1               0.0                  1   \n",
       "3    14192                  1               0.0                 13   \n",
       "4    12684                  2               0.0                103   \n",
       "\n",
       "   subm_step_tried  discovered  passed  started_attempt  viewed  passed_ratio  \\\n",
       "0              0.0          33      27                6      65      0.206107   \n",
       "1              0.0           6       6                0       8      0.300000   \n",
       "2              0.0           1       1                0       1      0.333333   \n",
       "3              0.0          13      13                0      22      0.270833   \n",
       "4              0.0         103      75               25     336      0.139147   \n",
       "\n",
       "       ...       action_passed  is_submit  is_correct_submit  \\\n",
       "0      ...                   1          0                  0   \n",
       "1      ...                   1          0                  0   \n",
       "2      ...                   1          0                  0   \n",
       "3      ...                   1          0                  0   \n",
       "4      ...                   1          0                  0   \n",
       "\n",
       "   correct_wrong_ratio  passed_discovered_ratio  passed_started_attempt_ratio  \\\n",
       "0                  0.0                 0.818157                       4.49925   \n",
       "1                  0.0                 0.999833                    6000.00000   \n",
       "2                  0.0                 0.999001                    1000.00000   \n",
       "3                  0.0                 0.999923                   13000.00000   \n",
       "4                  0.0                 0.728148                       2.99988   \n",
       "\n",
       "   passed_viewed_ratio  correct_passed_ratio  total_subm  total_events  \n",
       "0             0.415378                   0.0         0.0           131  \n",
       "1             0.749906                   0.0         0.0            20  \n",
       "2             0.999001                   0.0         0.0             3  \n",
       "3             0.590882                   0.0         0.0            48  \n",
       "4             0.223214                   0.0         0.0           539  \n",
       "\n",
       "[5 rows x 23 columns]"
      ]
     },
     "execution_count": 240,
     "metadata": {},
     "output_type": "execute_result"
    }
   ],
   "source": [
    "X_test = data_preprocessing(events_data_pred, submission_data_pred)\n",
    "X_test.head()"
   ]
  },
  {
   "cell_type": "code",
   "execution_count": 241,
   "metadata": {},
   "outputs": [
    {
     "data": {
      "text/html": [
       "<div>\n",
       "<style scoped>\n",
       "    .dataframe tbody tr th:only-of-type {\n",
       "        vertical-align: middle;\n",
       "    }\n",
       "\n",
       "    .dataframe tbody tr th {\n",
       "        vertical-align: top;\n",
       "    }\n",
       "\n",
       "    .dataframe thead th {\n",
       "        text-align: right;\n",
       "    }\n",
       "</style>\n",
       "<table border=\"1\" class=\"dataframe\">\n",
       "  <thead>\n",
       "    <tr style=\"text-align: right;\">\n",
       "      <th></th>\n",
       "      <th>user_id</th>\n",
       "      <th>event_unique_days</th>\n",
       "      <th>subm_unique_days</th>\n",
       "      <th>event_steps_tried</th>\n",
       "      <th>subm_step_tried</th>\n",
       "      <th>discovered</th>\n",
       "      <th>passed</th>\n",
       "      <th>started_attempt</th>\n",
       "      <th>viewed</th>\n",
       "      <th>passed_ratio</th>\n",
       "      <th>...</th>\n",
       "      <th>action_passed</th>\n",
       "      <th>is_submit</th>\n",
       "      <th>is_correct_submit</th>\n",
       "      <th>correct_wrong_ratio</th>\n",
       "      <th>passed_discovered_ratio</th>\n",
       "      <th>passed_started_attempt_ratio</th>\n",
       "      <th>passed_viewed_ratio</th>\n",
       "      <th>correct_passed_ratio</th>\n",
       "      <th>total_subm</th>\n",
       "      <th>total_events</th>\n",
       "    </tr>\n",
       "  </thead>\n",
       "  <tbody>\n",
       "    <tr>\n",
       "      <th>count</th>\n",
       "      <td>6184.000000</td>\n",
       "      <td>6184.000000</td>\n",
       "      <td>6184.000000</td>\n",
       "      <td>6184.000000</td>\n",
       "      <td>6184.000000</td>\n",
       "      <td>6184.000000</td>\n",
       "      <td>6184.000000</td>\n",
       "      <td>6184.000000</td>\n",
       "      <td>6184.000000</td>\n",
       "      <td>6184.000000</td>\n",
       "      <td>...</td>\n",
       "      <td>6184.000000</td>\n",
       "      <td>6184.000000</td>\n",
       "      <td>6184.000000</td>\n",
       "      <td>6184.000000</td>\n",
       "      <td>6184.000000</td>\n",
       "      <td>6184.000000</td>\n",
       "      <td>6184.000000</td>\n",
       "      <td>6184.000000</td>\n",
       "      <td>6184.000000</td>\n",
       "      <td>6184.000000</td>\n",
       "    </tr>\n",
       "    <tr>\n",
       "      <th>mean</th>\n",
       "      <td>13471.482050</td>\n",
       "      <td>1.303364</td>\n",
       "      <td>0.633247</td>\n",
       "      <td>10.920763</td>\n",
       "      <td>3.439521</td>\n",
       "      <td>10.877749</td>\n",
       "      <td>10.083603</td>\n",
       "      <td>4.344599</td>\n",
       "      <td>19.126132</td>\n",
       "      <td>0.253313</td>\n",
       "      <td>...</td>\n",
       "      <td>0.897639</td>\n",
       "      <td>0.453266</td>\n",
       "      <td>0.446798</td>\n",
       "      <td>434.290373</td>\n",
       "      <td>0.858051</td>\n",
       "      <td>594.190867</td>\n",
       "      <td>0.716561</td>\n",
       "      <td>7.630399</td>\n",
       "      <td>6.833926</td>\n",
       "      <td>44.432083</td>\n",
       "    </tr>\n",
       "    <tr>\n",
       "      <th>std</th>\n",
       "      <td>7698.056738</td>\n",
       "      <td>0.605769</td>\n",
       "      <td>0.818495</td>\n",
       "      <td>17.624441</td>\n",
       "      <td>6.643816</td>\n",
       "      <td>17.601541</td>\n",
       "      <td>16.496344</td>\n",
       "      <td>9.096022</td>\n",
       "      <td>41.319291</td>\n",
       "      <td>0.100997</td>\n",
       "      <td>...</td>\n",
       "      <td>0.303147</td>\n",
       "      <td>0.497851</td>\n",
       "      <td>0.497202</td>\n",
       "      <td>1448.097450</td>\n",
       "      <td>0.306596</td>\n",
       "      <td>1677.388696</td>\n",
       "      <td>0.331465</td>\n",
       "      <td>353.279077</td>\n",
       "      <td>16.917293</td>\n",
       "      <td>81.401342</td>\n",
       "    </tr>\n",
       "    <tr>\n",
       "      <th>min</th>\n",
       "      <td>4.000000</td>\n",
       "      <td>1.000000</td>\n",
       "      <td>0.000000</td>\n",
       "      <td>1.000000</td>\n",
       "      <td>0.000000</td>\n",
       "      <td>0.000000</td>\n",
       "      <td>0.000000</td>\n",
       "      <td>0.000000</td>\n",
       "      <td>0.000000</td>\n",
       "      <td>0.000000</td>\n",
       "      <td>...</td>\n",
       "      <td>0.000000</td>\n",
       "      <td>0.000000</td>\n",
       "      <td>0.000000</td>\n",
       "      <td>0.000000</td>\n",
       "      <td>0.000000</td>\n",
       "      <td>0.000000</td>\n",
       "      <td>0.000000</td>\n",
       "      <td>0.000000</td>\n",
       "      <td>0.000000</td>\n",
       "      <td>1.000000</td>\n",
       "    </tr>\n",
       "    <tr>\n",
       "      <th>25%</th>\n",
       "      <td>6884.500000</td>\n",
       "      <td>1.000000</td>\n",
       "      <td>0.000000</td>\n",
       "      <td>1.000000</td>\n",
       "      <td>0.000000</td>\n",
       "      <td>1.000000</td>\n",
       "      <td>1.000000</td>\n",
       "      <td>0.000000</td>\n",
       "      <td>1.000000</td>\n",
       "      <td>0.222892</td>\n",
       "      <td>...</td>\n",
       "      <td>1.000000</td>\n",
       "      <td>0.000000</td>\n",
       "      <td>0.000000</td>\n",
       "      <td>0.000000</td>\n",
       "      <td>0.916628</td>\n",
       "      <td>2.188705</td>\n",
       "      <td>0.499917</td>\n",
       "      <td>0.000000</td>\n",
       "      <td>0.000000</td>\n",
       "      <td>3.000000</td>\n",
       "    </tr>\n",
       "    <tr>\n",
       "      <th>50%</th>\n",
       "      <td>13516.500000</td>\n",
       "      <td>1.000000</td>\n",
       "      <td>0.000000</td>\n",
       "      <td>2.000000</td>\n",
       "      <td>0.000000</td>\n",
       "      <td>2.000000</td>\n",
       "      <td>2.000000</td>\n",
       "      <td>1.000000</td>\n",
       "      <td>3.000000</td>\n",
       "      <td>0.284021</td>\n",
       "      <td>...</td>\n",
       "      <td>1.000000</td>\n",
       "      <td>0.000000</td>\n",
       "      <td>0.000000</td>\n",
       "      <td>0.000000</td>\n",
       "      <td>0.999001</td>\n",
       "      <td>4.497751</td>\n",
       "      <td>0.833194</td>\n",
       "      <td>0.000000</td>\n",
       "      <td>0.000000</td>\n",
       "      <td>7.000000</td>\n",
       "    </tr>\n",
       "    <tr>\n",
       "      <th>75%</th>\n",
       "      <td>20138.500000</td>\n",
       "      <td>1.000000</td>\n",
       "      <td>1.000000</td>\n",
       "      <td>12.000000</td>\n",
       "      <td>2.000000</td>\n",
       "      <td>12.000000</td>\n",
       "      <td>11.000000</td>\n",
       "      <td>4.000000</td>\n",
       "      <td>17.000000</td>\n",
       "      <td>0.333333</td>\n",
       "      <td>...</td>\n",
       "      <td>1.000000</td>\n",
       "      <td>1.000000</td>\n",
       "      <td>1.000000</td>\n",
       "      <td>1.999828</td>\n",
       "      <td>0.999500</td>\n",
       "      <td>1000.000000</td>\n",
       "      <td>0.999001</td>\n",
       "      <td>0.294100</td>\n",
       "      <td>4.000000</td>\n",
       "      <td>44.000000</td>\n",
       "    </tr>\n",
       "    <tr>\n",
       "      <th>max</th>\n",
       "      <td>26800.000000</td>\n",
       "      <td>3.000000</td>\n",
       "      <td>3.000000</td>\n",
       "      <td>180.000000</td>\n",
       "      <td>43.000000</td>\n",
       "      <td>180.000000</td>\n",
       "      <td>151.000000</td>\n",
       "      <td>113.000000</td>\n",
       "      <td>543.000000</td>\n",
       "      <td>0.400000</td>\n",
       "      <td>...</td>\n",
       "      <td>1.000000</td>\n",
       "      <td>1.000000</td>\n",
       "      <td>1.000000</td>\n",
       "      <td>40000.000000</td>\n",
       "      <td>1.999000</td>\n",
       "      <td>101000.000000</td>\n",
       "      <td>1.999000</td>\n",
       "      <td>24000.000000</td>\n",
       "      <td>206.000000</td>\n",
       "      <td>839.000000</td>\n",
       "    </tr>\n",
       "  </tbody>\n",
       "</table>\n",
       "<p>8 rows × 23 columns</p>\n",
       "</div>"
      ],
      "text/plain": [
       "            user_id  event_unique_days  subm_unique_days  event_steps_tried  \\\n",
       "count   6184.000000        6184.000000       6184.000000        6184.000000   \n",
       "mean   13471.482050           1.303364          0.633247          10.920763   \n",
       "std     7698.056738           0.605769          0.818495          17.624441   \n",
       "min        4.000000           1.000000          0.000000           1.000000   \n",
       "25%     6884.500000           1.000000          0.000000           1.000000   \n",
       "50%    13516.500000           1.000000          0.000000           2.000000   \n",
       "75%    20138.500000           1.000000          1.000000          12.000000   \n",
       "max    26800.000000           3.000000          3.000000         180.000000   \n",
       "\n",
       "       subm_step_tried   discovered       passed  started_attempt  \\\n",
       "count      6184.000000  6184.000000  6184.000000      6184.000000   \n",
       "mean          3.439521    10.877749    10.083603         4.344599   \n",
       "std           6.643816    17.601541    16.496344         9.096022   \n",
       "min           0.000000     0.000000     0.000000         0.000000   \n",
       "25%           0.000000     1.000000     1.000000         0.000000   \n",
       "50%           0.000000     2.000000     2.000000         1.000000   \n",
       "75%           2.000000    12.000000    11.000000         4.000000   \n",
       "max          43.000000   180.000000   151.000000       113.000000   \n",
       "\n",
       "            viewed  passed_ratio      ...       action_passed    is_submit  \\\n",
       "count  6184.000000   6184.000000      ...         6184.000000  6184.000000   \n",
       "mean     19.126132      0.253313      ...            0.897639     0.453266   \n",
       "std      41.319291      0.100997      ...            0.303147     0.497851   \n",
       "min       0.000000      0.000000      ...            0.000000     0.000000   \n",
       "25%       1.000000      0.222892      ...            1.000000     0.000000   \n",
       "50%       3.000000      0.284021      ...            1.000000     0.000000   \n",
       "75%      17.000000      0.333333      ...            1.000000     1.000000   \n",
       "max     543.000000      0.400000      ...            1.000000     1.000000   \n",
       "\n",
       "       is_correct_submit  correct_wrong_ratio  passed_discovered_ratio  \\\n",
       "count        6184.000000          6184.000000              6184.000000   \n",
       "mean            0.446798           434.290373                 0.858051   \n",
       "std             0.497202          1448.097450                 0.306596   \n",
       "min             0.000000             0.000000                 0.000000   \n",
       "25%             0.000000             0.000000                 0.916628   \n",
       "50%             0.000000             0.000000                 0.999001   \n",
       "75%             1.000000             1.999828                 0.999500   \n",
       "max             1.000000         40000.000000                 1.999000   \n",
       "\n",
       "       passed_started_attempt_ratio  passed_viewed_ratio  \\\n",
       "count                   6184.000000          6184.000000   \n",
       "mean                     594.190867             0.716561   \n",
       "std                     1677.388696             0.331465   \n",
       "min                        0.000000             0.000000   \n",
       "25%                        2.188705             0.499917   \n",
       "50%                        4.497751             0.833194   \n",
       "75%                     1000.000000             0.999001   \n",
       "max                   101000.000000             1.999000   \n",
       "\n",
       "       correct_passed_ratio   total_subm  total_events  \n",
       "count           6184.000000  6184.000000   6184.000000  \n",
       "mean               7.630399     6.833926     44.432083  \n",
       "std              353.279077    16.917293     81.401342  \n",
       "min                0.000000     0.000000      1.000000  \n",
       "25%                0.000000     0.000000      3.000000  \n",
       "50%                0.000000     0.000000      7.000000  \n",
       "75%                0.294100     4.000000     44.000000  \n",
       "max            24000.000000   206.000000    839.000000  \n",
       "\n",
       "[8 rows x 23 columns]"
      ]
     },
     "execution_count": 241,
     "metadata": {},
     "output_type": "execute_result"
    }
   ],
   "source": [
    "X_test.describe()"
   ]
  },
  {
   "cell_type": "code",
   "execution_count": 242,
   "metadata": {},
   "outputs": [
    {
     "data": {
      "text/plain": [
       "(6184, 23)"
      ]
     },
     "execution_count": 242,
     "metadata": {},
     "output_type": "execute_result"
    }
   ],
   "source": [
    "X_test.shape"
   ]
  },
  {
   "cell_type": "code",
   "execution_count": 243,
   "metadata": {},
   "outputs": [
    {
     "name": "stderr",
     "output_type": "stream",
     "text": [
      "C:\\ProgramData\\Anaconda3\\lib\\site-packages\\ipykernel_launcher.py:18: SettingWithCopyWarning: \n",
      "A value is trying to be set on a copy of a slice from a DataFrame.\n",
      "Try using .loc[row_indexer,col_indexer] = value instead\n",
      "\n",
      "See the caveats in the documentation: http://pandas.pydata.org/pandas-docs/stable/indexing.html#indexing-view-versus-copy\n",
      "C:\\ProgramData\\Anaconda3\\lib\\site-packages\\ipykernel_launcher.py:19: SettingWithCopyWarning: \n",
      "A value is trying to be set on a copy of a slice from a DataFrame.\n",
      "Try using .loc[row_indexer,col_indexer] = value instead\n",
      "\n",
      "See the caveats in the documentation: http://pandas.pydata.org/pandas-docs/stable/indexing.html#indexing-view-versus-copy\n"
     ]
    }
   ],
   "source": [
    "first_timestamp_event_data_pred = events_data_pred.groupby('user_id', as_index=False) \\\n",
    "    .agg({'timestamp': 'min'}) \\\n",
    "    .rename(columns={'timestamp': 'first_timestamp'})\n",
    "    \n",
    "first_timestamp_event_data_pred['1_day_timestamp'] = first_timestamp_event_data_pred['first_timestamp'] + (treshold / 2)\n",
    "\n",
    "events_data_pred = events_data_pred.merge(first_timestamp_event_data_pred, on='user_id', how='outer')\n",
    "\n",
    "\n",
    "first_timestamp_submissions_data_pred = submission_data_pred.groupby('user_id', as_index=False) \\\n",
    "    .agg({'timestamp': 'min'}) \\\n",
    "    .rename(columns={'timestamp': 'first_timestamp'})\n",
    "    \n",
    "first_timestamp_submissions_data_pred['1_day_timestamp'] = first_timestamp_submissions_data_pred['first_timestamp'] + (treshold / 2)\n",
    "\n",
    "\n",
    "submission_data_pred = submission_data_pred.merge(first_timestamp_submissions_data_pred, on='user_id', how='outer')\n",
    "\n",
    "\n",
    "event_data_pred_day_1 = events_data_pred[events_data_pred['timestamp'] < \\\n",
    "                                         events_data_pred['1_day_timestamp']]\n",
    "\n",
    "event_data_pred_day_2 = events_data_pred[events_data_pred['timestamp'] >= \\\n",
    "                                         events_data_pred['1_day_timestamp']]\n",
    "\n",
    "submissions_data_pred_day_1 = submission_data_pred[submission_data_pred['timestamp'] < \\\n",
    "                                                   submission_data_pred['1_day_timestamp']]\n",
    "\n",
    "submissions_data_pred_day_2 = submission_data_pred[submission_data_pred['timestamp'] >= \\\n",
    "                                                   submission_data_pred['1_day_timestamp']]\n",
    "\n",
    "X_test_1_day = data_preprocessing(event_data_pred_day_1, submissions_data_pred_day_1)\n",
    "\n",
    "X_test_2_day = data_preprocessing(event_data_pred_day_2, submissions_data_pred_day_2)"
   ]
  },
  {
   "cell_type": "code",
   "execution_count": 244,
   "metadata": {},
   "outputs": [
    {
     "data": {
      "text/html": [
       "<div>\n",
       "<style scoped>\n",
       "    .dataframe tbody tr th:only-of-type {\n",
       "        vertical-align: middle;\n",
       "    }\n",
       "\n",
       "    .dataframe tbody tr th {\n",
       "        vertical-align: top;\n",
       "    }\n",
       "\n",
       "    .dataframe thead th {\n",
       "        text-align: right;\n",
       "    }\n",
       "</style>\n",
       "<table border=\"1\" class=\"dataframe\">\n",
       "  <thead>\n",
       "    <tr style=\"text-align: right;\">\n",
       "      <th></th>\n",
       "      <th>user_id</th>\n",
       "      <th>event_unique_days</th>\n",
       "      <th>subm_unique_days</th>\n",
       "      <th>event_steps_tried</th>\n",
       "      <th>subm_step_tried</th>\n",
       "      <th>discovered</th>\n",
       "      <th>passed</th>\n",
       "      <th>started_attempt</th>\n",
       "      <th>viewed</th>\n",
       "      <th>passed_ratio</th>\n",
       "      <th>...</th>\n",
       "      <th>action_passed</th>\n",
       "      <th>is_submit</th>\n",
       "      <th>is_correct_submit</th>\n",
       "      <th>correct_wrong_ratio</th>\n",
       "      <th>passed_discovered_ratio</th>\n",
       "      <th>passed_started_attempt_ratio</th>\n",
       "      <th>passed_viewed_ratio</th>\n",
       "      <th>correct_passed_ratio</th>\n",
       "      <th>total_subm</th>\n",
       "      <th>total_events</th>\n",
       "    </tr>\n",
       "  </thead>\n",
       "  <tbody>\n",
       "    <tr>\n",
       "      <th>0</th>\n",
       "      <td>24417</td>\n",
       "      <td>1</td>\n",
       "      <td>0.0</td>\n",
       "      <td>33</td>\n",
       "      <td>0.0</td>\n",
       "      <td>33</td>\n",
       "      <td>27</td>\n",
       "      <td>6</td>\n",
       "      <td>65</td>\n",
       "      <td>0.206107</td>\n",
       "      <td>...</td>\n",
       "      <td>1</td>\n",
       "      <td>0</td>\n",
       "      <td>0</td>\n",
       "      <td>0.0</td>\n",
       "      <td>0.818157</td>\n",
       "      <td>4.499250</td>\n",
       "      <td>0.415378</td>\n",
       "      <td>0.0</td>\n",
       "      <td>0.0</td>\n",
       "      <td>131</td>\n",
       "    </tr>\n",
       "    <tr>\n",
       "      <th>1</th>\n",
       "      <td>999</td>\n",
       "      <td>1</td>\n",
       "      <td>0.0</td>\n",
       "      <td>6</td>\n",
       "      <td>0.0</td>\n",
       "      <td>6</td>\n",
       "      <td>6</td>\n",
       "      <td>0</td>\n",
       "      <td>8</td>\n",
       "      <td>0.300000</td>\n",
       "      <td>...</td>\n",
       "      <td>1</td>\n",
       "      <td>0</td>\n",
       "      <td>0</td>\n",
       "      <td>0.0</td>\n",
       "      <td>0.999833</td>\n",
       "      <td>6000.000000</td>\n",
       "      <td>0.749906</td>\n",
       "      <td>0.0</td>\n",
       "      <td>0.0</td>\n",
       "      <td>20</td>\n",
       "    </tr>\n",
       "    <tr>\n",
       "      <th>2</th>\n",
       "      <td>26244</td>\n",
       "      <td>1</td>\n",
       "      <td>0.0</td>\n",
       "      <td>1</td>\n",
       "      <td>0.0</td>\n",
       "      <td>1</td>\n",
       "      <td>1</td>\n",
       "      <td>0</td>\n",
       "      <td>1</td>\n",
       "      <td>0.333333</td>\n",
       "      <td>...</td>\n",
       "      <td>1</td>\n",
       "      <td>0</td>\n",
       "      <td>0</td>\n",
       "      <td>0.0</td>\n",
       "      <td>0.999001</td>\n",
       "      <td>1000.000000</td>\n",
       "      <td>0.999001</td>\n",
       "      <td>0.0</td>\n",
       "      <td>0.0</td>\n",
       "      <td>3</td>\n",
       "    </tr>\n",
       "    <tr>\n",
       "      <th>3</th>\n",
       "      <td>14192</td>\n",
       "      <td>1</td>\n",
       "      <td>0.0</td>\n",
       "      <td>13</td>\n",
       "      <td>0.0</td>\n",
       "      <td>13</td>\n",
       "      <td>13</td>\n",
       "      <td>0</td>\n",
       "      <td>22</td>\n",
       "      <td>0.270833</td>\n",
       "      <td>...</td>\n",
       "      <td>1</td>\n",
       "      <td>0</td>\n",
       "      <td>0</td>\n",
       "      <td>0.0</td>\n",
       "      <td>0.999923</td>\n",
       "      <td>13000.000000</td>\n",
       "      <td>0.590882</td>\n",
       "      <td>0.0</td>\n",
       "      <td>0.0</td>\n",
       "      <td>48</td>\n",
       "    </tr>\n",
       "    <tr>\n",
       "      <th>4</th>\n",
       "      <td>12684</td>\n",
       "      <td>2</td>\n",
       "      <td>0.0</td>\n",
       "      <td>97</td>\n",
       "      <td>0.0</td>\n",
       "      <td>97</td>\n",
       "      <td>72</td>\n",
       "      <td>22</td>\n",
       "      <td>266</td>\n",
       "      <td>0.157549</td>\n",
       "      <td>...</td>\n",
       "      <td>1</td>\n",
       "      <td>0</td>\n",
       "      <td>0</td>\n",
       "      <td>0.0</td>\n",
       "      <td>0.742260</td>\n",
       "      <td>3.272579</td>\n",
       "      <td>0.270676</td>\n",
       "      <td>0.0</td>\n",
       "      <td>0.0</td>\n",
       "      <td>457</td>\n",
       "    </tr>\n",
       "  </tbody>\n",
       "</table>\n",
       "<p>5 rows × 23 columns</p>\n",
       "</div>"
      ],
      "text/plain": [
       "   user_id  event_unique_days  subm_unique_days  event_steps_tried  \\\n",
       "0    24417                  1               0.0                 33   \n",
       "1      999                  1               0.0                  6   \n",
       "2    26244                  1               0.0                  1   \n",
       "3    14192                  1               0.0                 13   \n",
       "4    12684                  2               0.0                 97   \n",
       "\n",
       "   subm_step_tried  discovered  passed  started_attempt  viewed  passed_ratio  \\\n",
       "0              0.0          33      27                6      65      0.206107   \n",
       "1              0.0           6       6                0       8      0.300000   \n",
       "2              0.0           1       1                0       1      0.333333   \n",
       "3              0.0          13      13                0      22      0.270833   \n",
       "4              0.0          97      72               22     266      0.157549   \n",
       "\n",
       "       ...       action_passed  is_submit  is_correct_submit  \\\n",
       "0      ...                   1          0                  0   \n",
       "1      ...                   1          0                  0   \n",
       "2      ...                   1          0                  0   \n",
       "3      ...                   1          0                  0   \n",
       "4      ...                   1          0                  0   \n",
       "\n",
       "   correct_wrong_ratio  passed_discovered_ratio  passed_started_attempt_ratio  \\\n",
       "0                  0.0                 0.818157                      4.499250   \n",
       "1                  0.0                 0.999833                   6000.000000   \n",
       "2                  0.0                 0.999001                   1000.000000   \n",
       "3                  0.0                 0.999923                  13000.000000   \n",
       "4                  0.0                 0.742260                      3.272579   \n",
       "\n",
       "   passed_viewed_ratio  correct_passed_ratio  total_subm  total_events  \n",
       "0             0.415378                   0.0         0.0           131  \n",
       "1             0.749906                   0.0         0.0            20  \n",
       "2             0.999001                   0.0         0.0             3  \n",
       "3             0.590882                   0.0         0.0            48  \n",
       "4             0.270676                   0.0         0.0           457  \n",
       "\n",
       "[5 rows x 23 columns]"
      ]
     },
     "execution_count": 244,
     "metadata": {},
     "output_type": "execute_result"
    }
   ],
   "source": [
    "X_test_1_day.head()"
   ]
  },
  {
   "cell_type": "code",
   "execution_count": 245,
   "metadata": {},
   "outputs": [
    {
     "data": {
      "text/html": [
       "<div>\n",
       "<style scoped>\n",
       "    .dataframe tbody tr th:only-of-type {\n",
       "        vertical-align: middle;\n",
       "    }\n",
       "\n",
       "    .dataframe tbody tr th {\n",
       "        vertical-align: top;\n",
       "    }\n",
       "\n",
       "    .dataframe thead th {\n",
       "        text-align: right;\n",
       "    }\n",
       "</style>\n",
       "<table border=\"1\" class=\"dataframe\">\n",
       "  <thead>\n",
       "    <tr style=\"text-align: right;\">\n",
       "      <th></th>\n",
       "      <th>user_id</th>\n",
       "      <th>event_unique_days</th>\n",
       "      <th>subm_unique_days</th>\n",
       "      <th>event_steps_tried</th>\n",
       "      <th>subm_step_tried</th>\n",
       "      <th>discovered</th>\n",
       "      <th>passed</th>\n",
       "      <th>started_attempt</th>\n",
       "      <th>viewed</th>\n",
       "      <th>passed_ratio</th>\n",
       "      <th>...</th>\n",
       "      <th>action_passed</th>\n",
       "      <th>is_submit</th>\n",
       "      <th>is_correct_submit</th>\n",
       "      <th>correct_wrong_ratio</th>\n",
       "      <th>passed_discovered_ratio</th>\n",
       "      <th>passed_started_attempt_ratio</th>\n",
       "      <th>passed_viewed_ratio</th>\n",
       "      <th>correct_passed_ratio</th>\n",
       "      <th>total_subm</th>\n",
       "      <th>total_events</th>\n",
       "    </tr>\n",
       "  </thead>\n",
       "  <tbody>\n",
       "    <tr>\n",
       "      <th>0</th>\n",
       "      <td>12684</td>\n",
       "      <td>1.0</td>\n",
       "      <td>0.0</td>\n",
       "      <td>20.0</td>\n",
       "      <td>0.0</td>\n",
       "      <td>6.0</td>\n",
       "      <td>3.0</td>\n",
       "      <td>3.0</td>\n",
       "      <td>70.0</td>\n",
       "      <td>0.036585</td>\n",
       "      <td>...</td>\n",
       "      <td>1</td>\n",
       "      <td>0</td>\n",
       "      <td>0</td>\n",
       "      <td>0.000000</td>\n",
       "      <td>0.499917</td>\n",
       "      <td>0.999667</td>\n",
       "      <td>0.042857</td>\n",
       "      <td>0.000000</td>\n",
       "      <td>0.0</td>\n",
       "      <td>82.0</td>\n",
       "    </tr>\n",
       "    <tr>\n",
       "      <th>1</th>\n",
       "      <td>271</td>\n",
       "      <td>1.0</td>\n",
       "      <td>0.0</td>\n",
       "      <td>4.0</td>\n",
       "      <td>0.0</td>\n",
       "      <td>1.0</td>\n",
       "      <td>0.0</td>\n",
       "      <td>1.0</td>\n",
       "      <td>4.0</td>\n",
       "      <td>0.000000</td>\n",
       "      <td>...</td>\n",
       "      <td>0</td>\n",
       "      <td>0</td>\n",
       "      <td>0</td>\n",
       "      <td>0.000000</td>\n",
       "      <td>0.000000</td>\n",
       "      <td>0.000000</td>\n",
       "      <td>0.000000</td>\n",
       "      <td>0.000000</td>\n",
       "      <td>0.0</td>\n",
       "      <td>6.0</td>\n",
       "    </tr>\n",
       "    <tr>\n",
       "      <th>2</th>\n",
       "      <td>24261</td>\n",
       "      <td>1.0</td>\n",
       "      <td>1.0</td>\n",
       "      <td>8.0</td>\n",
       "      <td>2.0</td>\n",
       "      <td>7.0</td>\n",
       "      <td>7.0</td>\n",
       "      <td>2.0</td>\n",
       "      <td>8.0</td>\n",
       "      <td>0.291667</td>\n",
       "      <td>...</td>\n",
       "      <td>1</td>\n",
       "      <td>1</td>\n",
       "      <td>1</td>\n",
       "      <td>0.999500</td>\n",
       "      <td>0.999857</td>\n",
       "      <td>3.498251</td>\n",
       "      <td>0.874891</td>\n",
       "      <td>0.285673</td>\n",
       "      <td>4.0</td>\n",
       "      <td>24.0</td>\n",
       "    </tr>\n",
       "    <tr>\n",
       "      <th>3</th>\n",
       "      <td>16555</td>\n",
       "      <td>2.0</td>\n",
       "      <td>2.0</td>\n",
       "      <td>43.0</td>\n",
       "      <td>11.0</td>\n",
       "      <td>39.0</td>\n",
       "      <td>38.0</td>\n",
       "      <td>22.0</td>\n",
       "      <td>97.0</td>\n",
       "      <td>0.193878</td>\n",
       "      <td>...</td>\n",
       "      <td>1</td>\n",
       "      <td>1</td>\n",
       "      <td>1</td>\n",
       "      <td>0.785658</td>\n",
       "      <td>0.974334</td>\n",
       "      <td>1.727194</td>\n",
       "      <td>0.391749</td>\n",
       "      <td>0.289466</td>\n",
       "      <td>25.0</td>\n",
       "      <td>196.0</td>\n",
       "    </tr>\n",
       "    <tr>\n",
       "      <th>4</th>\n",
       "      <td>15857</td>\n",
       "      <td>1.0</td>\n",
       "      <td>0.0</td>\n",
       "      <td>2.0</td>\n",
       "      <td>0.0</td>\n",
       "      <td>0.0</td>\n",
       "      <td>0.0</td>\n",
       "      <td>0.0</td>\n",
       "      <td>2.0</td>\n",
       "      <td>0.000000</td>\n",
       "      <td>...</td>\n",
       "      <td>0</td>\n",
       "      <td>0</td>\n",
       "      <td>0</td>\n",
       "      <td>0.000000</td>\n",
       "      <td>0.000000</td>\n",
       "      <td>0.000000</td>\n",
       "      <td>0.000000</td>\n",
       "      <td>0.000000</td>\n",
       "      <td>0.0</td>\n",
       "      <td>2.0</td>\n",
       "    </tr>\n",
       "  </tbody>\n",
       "</table>\n",
       "<p>5 rows × 23 columns</p>\n",
       "</div>"
      ],
      "text/plain": [
       "   user_id  event_unique_days  subm_unique_days  event_steps_tried  \\\n",
       "0    12684                1.0               0.0               20.0   \n",
       "1      271                1.0               0.0                4.0   \n",
       "2    24261                1.0               1.0                8.0   \n",
       "3    16555                2.0               2.0               43.0   \n",
       "4    15857                1.0               0.0                2.0   \n",
       "\n",
       "   subm_step_tried  discovered  passed  started_attempt  viewed  passed_ratio  \\\n",
       "0              0.0         6.0     3.0              3.0    70.0      0.036585   \n",
       "1              0.0         1.0     0.0              1.0     4.0      0.000000   \n",
       "2              2.0         7.0     7.0              2.0     8.0      0.291667   \n",
       "3             11.0        39.0    38.0             22.0    97.0      0.193878   \n",
       "4              0.0         0.0     0.0              0.0     2.0      0.000000   \n",
       "\n",
       "       ...       action_passed  is_submit  is_correct_submit  \\\n",
       "0      ...                   1          0                  0   \n",
       "1      ...                   0          0                  0   \n",
       "2      ...                   1          1                  1   \n",
       "3      ...                   1          1                  1   \n",
       "4      ...                   0          0                  0   \n",
       "\n",
       "   correct_wrong_ratio  passed_discovered_ratio  passed_started_attempt_ratio  \\\n",
       "0             0.000000                 0.499917                      0.999667   \n",
       "1             0.000000                 0.000000                      0.000000   \n",
       "2             0.999500                 0.999857                      3.498251   \n",
       "3             0.785658                 0.974334                      1.727194   \n",
       "4             0.000000                 0.000000                      0.000000   \n",
       "\n",
       "   passed_viewed_ratio  correct_passed_ratio  total_subm  total_events  \n",
       "0             0.042857              0.000000         0.0          82.0  \n",
       "1             0.000000              0.000000         0.0           6.0  \n",
       "2             0.874891              0.285673         4.0          24.0  \n",
       "3             0.391749              0.289466        25.0         196.0  \n",
       "4             0.000000              0.000000         0.0           2.0  \n",
       "\n",
       "[5 rows x 23 columns]"
      ]
     },
     "execution_count": 245,
     "metadata": {},
     "output_type": "execute_result"
    }
   ],
   "source": [
    "X_test_2_day.head()"
   ]
  },
  {
   "cell_type": "code",
   "execution_count": 246,
   "metadata": {},
   "outputs": [],
   "source": [
    "X_test_1_day.columns = col_1_day\n",
    "X_test_2_day.columns = col_2_day"
   ]
  },
  {
   "cell_type": "code",
   "execution_count": 247,
   "metadata": {},
   "outputs": [],
   "source": [
    "X_test = X_test.merge(X_test_1_day, on='user_id', how='outer')\n",
    "\n",
    "X_test = X_test.merge(X_test_2_day, on='user_id', how='outer')\n",
    "\n",
    "X_test = X_test.set_index(['user_id'])"
   ]
  },
  {
   "cell_type": "code",
   "execution_count": 248,
   "metadata": {},
   "outputs": [
    {
     "data": {
      "text/plain": [
       "(6184, 66)"
      ]
     },
     "execution_count": 248,
     "metadata": {},
     "output_type": "execute_result"
    }
   ],
   "source": [
    "X_test.shape"
   ]
  },
  {
   "cell_type": "code",
   "execution_count": 249,
   "metadata": {},
   "outputs": [],
   "source": [
    "X_test = X_test.fillna(0)"
   ]
  },
  {
   "cell_type": "code",
   "execution_count": 250,
   "metadata": {},
   "outputs": [],
   "source": [
    "X_test['event_unique_days_daysratio'] = X_test['event_unique_days_1_day'] / (X_test['event_unique_days_2_day'] + 0.001)\n",
    "X_test['subm_unique_days_daysratio'] = X_test['subm_unique_days_1_day'] / (X_test['subm_unique_days_2_day'] + 0.001)\n",
    "X_test['event_steps_tried_daysratio'] = X_test['event_steps_tried_1_day'] / (X_test['event_steps_tried_2_day'] + 0.001)\n",
    "X_test['subm_step_tried_daysratio'] = X_test['subm_step_tried_1_day'] / (X_test['subm_step_tried_2_day'] + 0.001)\n",
    "X_test['passed_daysratio'] = X_test['passed_1_day'] / (X_test['passed_2_day'] + 0.001)\n",
    "X_test['correct_daysratio'] = X_test['correct_1_day'] / (X_test['correct_2_day'] + 0.001)\n",
    "X_test['correct_ratio_daysratio'] = X_test['correct_ratio_1_day'] / (X_test['correct_ratio_2_day'] + 0.001)\n",
    "X_test['is_submit_daysratio'] = X_test['is_submit_1_day'] / (X_test['is_submit_2_day'] + 0.001)\n",
    "X_test['is_correct_submit_daysratio'] = X_test['is_correct_submit_1_day'] / (X_test['is_correct_submit_2_day'] + 0.001)\n",
    "X_test['correct_wrong_ratio_daysratio'] = X_test['correct_wrong_ratio_1_day'] / (X_test['correct_wrong_ratio_2_day'] + 0.001)\n",
    "X_test['total_subm_daysratio'] = X_test['total_subm_1_day'] / (X_test['total_subm_2_day'] + 0.001)\n",
    "X_test['total_events_daysratio'] = X_test['total_events_1_day'] / (X_test['total_events_2_day'] + 0.001)\n",
    "\n",
    "X_test['event_unique_days_daysdiff'] = X_test['event_unique_days_1_day'] - X_test['event_unique_days_2_day']\n",
    "X_test['subm_unique_days_daysdiff'] = X_test['subm_unique_days_1_day'] - X_test['subm_unique_days_2_day']\n",
    "X_test['event_steps_tried_daysdiff'] = X_test['event_steps_tried_1_day'] - X_test['event_steps_tried_2_day']\n",
    "X_test['subm_step_tried_daysdiff'] = X_test['subm_step_tried_1_day'] - X_test['subm_step_tried_2_day']\n",
    "X_test['passed_daysdiff'] = X_test['passed_1_day'] - X_test['passed_2_day']\n",
    "X_test['correct_daysdiff'] = X_test['correct_1_day'] - X_test['correct_2_day']\n",
    "X_test['correct_ratio_daysdiff'] = X_test['correct_ratio_1_day'] - X_test['correct_ratio_2_day']\n",
    "X_test['is_submit_daysdiff'] = X_test['is_submit_1_day'] - X_test['is_submit_2_day']\n",
    "X_test['is_correct_submit_daysdiff'] = X_test['is_correct_submit_1_day'] - X_test['is_correct_submit_2_day']\n",
    "X_test['correct_wrong_ratio_daysdiff'] = X_test['correct_wrong_ratio_1_day'] - X_test['correct_wrong_ratio_2_day']\n",
    "X_test['total_subm_daysdiff'] = X_test['total_subm_1_day'] - X_test['total_subm_2_day']\n",
    "X_test['total_events_daysdiff'] = X_test['total_events_1_day'] - X_test['total_events_2_day']"
   ]
  },
  {
   "cell_type": "code",
   "execution_count": 251,
   "metadata": {},
   "outputs": [
    {
     "data": {
      "text/plain": [
       "(6184, 90)"
      ]
     },
     "execution_count": 251,
     "metadata": {},
     "output_type": "execute_result"
    }
   ],
   "source": [
    "X_test.shape"
   ]
  },
  {
   "cell_type": "code",
   "execution_count": 252,
   "metadata": {},
   "outputs": [],
   "source": [
    "# X_test = X_test[feature_importances_df_sorted.features.values[:20]].copy()"
   ]
  },
  {
   "cell_type": "code",
   "execution_count": 253,
   "metadata": {},
   "outputs": [
    {
     "data": {
      "text/plain": [
       "Index(['event_unique_days', 'subm_unique_days', 'event_steps_tried',\n",
       "       'subm_step_tried', 'discovered', 'passed', 'started_attempt', 'viewed',\n",
       "       'passed_ratio', 'correct', 'wrong', 'correct_ratio', 'action_passed',\n",
       "       'is_submit', 'is_correct_submit', 'correct_wrong_ratio',\n",
       "       'passed_discovered_ratio', 'passed_started_attempt_ratio',\n",
       "       'passed_viewed_ratio', 'correct_passed_ratio', 'total_subm',\n",
       "       'total_events', 'event_unique_days_1_day', 'subm_unique_days_1_day',\n",
       "       'event_steps_tried_1_day', 'subm_step_tried_1_day', 'discovered_1_day',\n",
       "       'passed_1_day', 'started_attempt_1_day', 'viewed_1_day',\n",
       "       'passed_ratio_1_day', 'correct_1_day', 'wrong_1_day',\n",
       "       'correct_ratio_1_day', 'action_passed_1_day', 'is_submit_1_day',\n",
       "       'is_correct_submit_1_day', 'correct_wrong_ratio_1_day',\n",
       "       'passed_discovered_ratio_1_day', 'passed_started_attempt_ratio_1_day',\n",
       "       'passed_viewed_ratio_1_day', 'correct_passed_ratio_1_day',\n",
       "       'total_subm_1_day', 'total_events_1_day', 'event_unique_days_2_day',\n",
       "       'subm_unique_days_2_day', 'event_steps_tried_2_day',\n",
       "       'subm_step_tried_2_day', 'discovered_2_day', 'passed_2_day',\n",
       "       'started_attempt_2_day', 'viewed_2_day', 'passed_ratio_2_day',\n",
       "       'correct_2_day', 'wrong_2_day', 'correct_ratio_2_day',\n",
       "       'action_passed_2_day', 'is_submit_2_day', 'is_correct_submit_2_day',\n",
       "       'correct_wrong_ratio_2_day', 'passed_discovered_ratio_2_day',\n",
       "       'passed_started_attempt_ratio_2_day', 'passed_viewed_ratio_2_day',\n",
       "       'correct_passed_ratio_2_day', 'total_subm_2_day', 'total_events_2_day',\n",
       "       'event_unique_days_daysratio', 'subm_unique_days_daysratio',\n",
       "       'event_steps_tried_daysratio', 'subm_step_tried_daysratio',\n",
       "       'passed_daysratio', 'correct_daysratio', 'correct_ratio_daysratio',\n",
       "       'is_submit_daysratio', 'is_correct_submit_daysratio',\n",
       "       'correct_wrong_ratio_daysratio', 'total_subm_daysratio',\n",
       "       'total_events_daysratio', 'event_unique_days_daysdiff',\n",
       "       'subm_unique_days_daysdiff', 'event_steps_tried_daysdiff',\n",
       "       'subm_step_tried_daysdiff', 'passed_daysdiff', 'correct_daysdiff',\n",
       "       'correct_ratio_daysdiff', 'is_submit_daysdiff',\n",
       "       'is_correct_submit_daysdiff', 'correct_wrong_ratio_daysdiff',\n",
       "       'total_subm_daysdiff', 'total_events_daysdiff'],\n",
       "      dtype='object')"
      ]
     },
     "execution_count": 253,
     "metadata": {},
     "output_type": "execute_result"
    }
   ],
   "source": [
    "X_test.columns"
   ]
  },
  {
   "cell_type": "code",
   "execution_count": 254,
   "metadata": {},
   "outputs": [],
   "source": [
    "X_test = X_test[['subm_step_tried', 'correct', 'correct_ratio', 'correct_wrong_ratio',\n",
    "       'correct_passed_ratio', 'subm_step_tried_1_day', 'correct_1_day',\n",
    "       'correct_ratio_1_day', 'correct_passed_ratio_1_day',\n",
    "       'correct_ratio_daysratio']].copy()"
   ]
  },
  {
   "cell_type": "code",
   "execution_count": 255,
   "metadata": {},
   "outputs": [
    {
     "data": {
      "text/plain": [
       "(6184, 10)"
      ]
     },
     "execution_count": 255,
     "metadata": {},
     "output_type": "execute_result"
    }
   ],
   "source": [
    "X_test.shape"
   ]
  },
  {
   "cell_type": "markdown",
   "metadata": {},
   "source": [
    "### RandomForestClassifier з усіма даними X і y\n",
    "Параметри: \n",
    "- n_estimators=200\n",
    "- max_depth=5\n",
    "- min_samples_leaf=10\n",
    "- min_samples_split=10\n",
    "- class_weight='balanced'\n",
    "- n_jobs=-1"
   ]
  },
  {
   "cell_type": "code",
   "execution_count": 256,
   "metadata": {},
   "outputs": [
    {
     "data": {
      "text/plain": [
       "RandomForestClassifier(bootstrap=True, class_weight='balanced',\n",
       "            criterion='gini', max_depth=5, max_features='auto',\n",
       "            max_leaf_nodes=None, min_impurity_decrease=0.0,\n",
       "            min_impurity_split=None, min_samples_leaf=10,\n",
       "            min_samples_split=10, min_weight_fraction_leaf=0.0,\n",
       "            n_estimators=200, n_jobs=1, oob_score=False, random_state=42,\n",
       "            verbose=0, warm_start=False)"
      ]
     },
     "execution_count": 256,
     "metadata": {},
     "output_type": "execute_result"
    }
   ],
   "source": [
    "best_clf.fit(X, y.values.ravel())"
   ]
  },
  {
   "cell_type": "code",
   "execution_count": 257,
   "metadata": {},
   "outputs": [
    {
     "data": {
      "text/plain": [
       "array([0., 0., 0., ..., 0., 0., 0.])"
      ]
     },
     "execution_count": 257,
     "metadata": {},
     "output_type": "execute_result"
    }
   ],
   "source": [
    "y_pred = best_clf.predict_proba(X_test)[:, 1]\n",
    "\n",
    "# y_pred = np.around(y_pred, decimals=2)\n",
    "y_pred"
   ]
  },
  {
   "cell_type": "code",
   "execution_count": 258,
   "metadata": {},
   "outputs": [],
   "source": [
    "# print(len(y_pred[y_pred >= 0.5]))\n",
    "# print(len(y_pred[y_pred < 0.5]))"
   ]
  },
  {
   "cell_type": "code",
   "execution_count": 259,
   "metadata": {},
   "outputs": [
    {
     "name": "stdout",
     "output_type": "stream",
     "text": [
      "Submission saved to Stepic_submission_2019-06-01_23-58-16.csv\n"
     ]
    }
   ],
   "source": [
    "df_submission = pd.DataFrame({'is_gone': y_pred}, \n",
    "                                 index=X_test.index)\n",
    "import datetime\n",
    "submission_filename = 'Stepic_submission_{}.csv'.format(\n",
    "    datetime.datetime.now().strftime('%Y-%m-%d_%H-%M-%S'))\n",
    "df_submission.to_csv(submission_filename)\n",
    "print('Submission saved to {}'.format(submission_filename))"
   ]
  },
  {
   "cell_type": "markdown",
   "metadata": {},
   "source": [
    "### passed > 40\n",
    "\n",
    "Your ROC score is **0.8797461278622003**\n"
   ]
  },
  {
   "cell_type": "markdown",
   "metadata": {},
   "source": [
    "### correct > 40\n",
    "Your ROC score is **0.885178621428762**\n",
    "\n",
    "n_estimators=100, n_jobs=-1, min_samples_leaf=10, min_samples_split=10, class_weight='balanced', random_state=42"
   ]
  },
  {
   "cell_type": "markdown",
   "metadata": {},
   "source": [
    "Your ROC score is **0.8859022671304755** \n",
    "\n",
    "n_estimators=100, n_jobs=-1, max_depth=14, min_samples_leaf=10, min_samples_split=10, class_weight='balanced', random_state=42"
   ]
  },
  {
   "cell_type": "markdown",
   "metadata": {},
   "source": [
    "Your ROC score is **0.8848280290187838**\n",
    "\n",
    "basic + ['correct_wrong_ratio', 'passed_discovered_ratio', 'passed_started_attempt_ratio', 'passed_viewed_ratio', 'correct_passed_ratio']\n",
    "\n",
    "n_estimators=100, n_jobs=-1, max_depth=14, min_samples_leaf=10, min_samples_split=10, class_weight='balanced', random_state=42"
   ]
  },
  {
   "cell_type": "markdown",
   "metadata": {},
   "source": [
    "Your ROC score is **0.884103370044209**\n",
    "\n",
    "['passed_ratio', 'wrong', 'correct_ratio', 'correct', 'year', 'month', 'day_of_month']\n",
    "\n",
    "n_estimators=150, n_jobs=-1, max_depth=8, min_samples_leaf=10, min_samples_split=10, class_weight='balanced', random_state=42"
   ]
  },
  {
   "cell_type": "markdown",
   "metadata": {},
   "source": [
    "Your ROC score is **0.8875674121990621**\n",
    "\n",
    "basic + ['total_subm', 'total_events']\n",
    "\n",
    "n_estimators=100, n_jobs=-1, max_depth=7, min_samples_leaf=10, min_samples_split=10, class_weight='balanced', random_state=42"
   ]
  },
  {
   "cell_type": "markdown",
   "metadata": {},
   "source": [
    "Your ROC score is **0.8894591926309394**\n",
    "\n",
    "n_estimators=200, n_jobs=-1, max_depth=5, min_samples_leaf=10, min_samples_split=10, class_weight='balanced', random_state=42"
   ]
  },
  {
   "cell_type": "markdown",
   "metadata": {},
   "source": [
    "Your ROC score is **0.888882302615291**\n",
    "\n",
    "full - daysdiff\n",
    "\n",
    "n_estimators=100, n_jobs=-1, max_depth=5, min_samples_leaf=10, min_samples_split=10, class_weight='balanced', random_state=42\n"
   ]
  },
  {
   "cell_type": "markdown",
   "metadata": {},
   "source": [
    "Your ROC score is **0.8891884798981864**\n",
    "\n",
    "full best 30 features\n",
    "\n",
    "n_estimators=200, n_jobs=-1, max_depth=5, min_samples_leaf=10, min_samples_split=10, class_weight='balanced', random_state=42"
   ]
  },
  {
   "cell_type": "markdown",
   "metadata": {},
   "source": [
    "Your ROC score is **0.8888713254926279**\n",
    "\n",
    "full best 60 features\n",
    "\n",
    "n_estimators=200, n_jobs=-1, max_depth=5, min_samples_leaf=10, min_samples_split=10, class_weight='balanced', random_state=42"
   ]
  },
  {
   "cell_type": "markdown",
   "metadata": {},
   "source": [
    "Your ROC score is **0.888887368979597**\n",
    "\n",
    "n_estimators=100, n_jobs=-1, max_depth=5, class_weight='balanced', random_state=42"
   ]
  },
  {
   "cell_type": "markdown",
   "metadata": {},
   "source": [
    "Your ROC score is **0.888922495772119**\n",
    "\n",
    "full best 80 features\n",
    "\n",
    "n_estimators=200, n_jobs=-1, max_depth=5, min_samples_leaf=10, min_samples_split=10, class_weight='balanced', random_state=42"
   ]
  },
  {
   "cell_type": "markdown",
   "metadata": {},
   "source": [
    "Your ROC score is **0.8890886725213573**\n",
    "\n",
    "full best 20 features\n",
    "\n",
    "n_estimators=200, n_jobs=-1, max_depth=5, min_samples_leaf=10, min_samples_split=10, class_weight='balanced', random_state=42"
   ]
  },
  {
   "cell_type": "markdown",
   "metadata": {},
   "source": [
    "Your ROC score is **0.889576225646409**\n",
    "\n",
    "RFE 19 features\n",
    "\n",
    "n_estimators=200, n_jobs=-1, max_depth=5, min_samples_leaf=10, min_samples_split=10, class_weight='balanced', random_state=42"
   ]
  },
  {
   "cell_type": "markdown",
   "metadata": {},
   "source": [
    "Your ROC score is **0.8893095660051009**\n",
    "\n",
    "RFE 10 features\n",
    "\n",
    "n_estimators=200, n_jobs=-1, max_depth=5, min_samples_leaf=10, min_samples_split=10, class_weight='balanced', random_state=42"
   ]
  },
  {
   "cell_type": "code",
   "execution_count": 260,
   "metadata": {},
   "outputs": [],
   "source": [
    "# import lightgbm as lgb\n",
    "# from xgboost import XGBClassifier"
   ]
  },
  {
   "cell_type": "code",
   "execution_count": 261,
   "metadata": {},
   "outputs": [],
   "source": [
    "# xgb_model = XGBClassifier(n_estimators=100, max_depth=5, n_jobs=-1, random_state=42, learning_rate=0.1)"
   ]
  },
  {
   "cell_type": "code",
   "execution_count": 262,
   "metadata": {},
   "outputs": [],
   "source": [
    "# %%time\n",
    "# xgb_model.fit(X_train, y_train.values.ravel())"
   ]
  },
  {
   "cell_type": "code",
   "execution_count": 263,
   "metadata": {},
   "outputs": [],
   "source": [
    "# pred_proba = xgb_model.predict_proba(X_valid)\n",
    "# roc_score = roc_auc_score(y_valid, pred_proba[:, 1])\n",
    "# print('roc на test', roc_score)"
   ]
  },
  {
   "cell_type": "code",
   "execution_count": 264,
   "metadata": {},
   "outputs": [],
   "source": [
    "# xgb_cv = XGBClassifier(**xgb_model.get_params())\n",
    "\n",
    "# cv_scores = cross_val_score(xgb_cv, X_train, y_train, scoring='roc_auc', cv=10, n_jobs=-1)\n",
    "# mean_cv_scores = np.mean(cv_scores)\n",
    "# print ('mean score', mean_cv_scores)\n",
    "\n",
    "# std_cv_scores = np.std(cv_scores)\n",
    "# print ('std score', std_cv_scores)"
   ]
  },
  {
   "cell_type": "code",
   "execution_count": 265,
   "metadata": {},
   "outputs": [],
   "source": [
    "# xgb_model.fit(X, y.values.ravel())"
   ]
  },
  {
   "cell_type": "code",
   "execution_count": 266,
   "metadata": {},
   "outputs": [],
   "source": [
    "# y_pred = xgb_model.predict_proba(X_test)[:, 1]\n",
    "\n",
    "# y_pred"
   ]
  },
  {
   "cell_type": "code",
   "execution_count": 267,
   "metadata": {},
   "outputs": [],
   "source": [
    "# df_submission = pd.DataFrame({'is_gone': y_pred}, \n",
    "#                                  index=X_test.index)\n",
    "# import datetime\n",
    "# submission_filename = 'Stepic_submission_{}.csv'.format(\n",
    "#     datetime.datetime.now().strftime('%Y-%m-%d_%H-%M-%S'))\n",
    "# df_submission.to_csv(submission_filename)\n",
    "# print('Submission saved to {}'.format(submission_filename))"
   ]
  },
  {
   "cell_type": "code",
   "execution_count": 268,
   "metadata": {},
   "outputs": [],
   "source": [
    "################################################################################################################################"
   ]
  },
  {
   "cell_type": "code",
   "execution_count": 269,
   "metadata": {},
   "outputs": [],
   "source": [
    "# xgb_model = XGBClassifier(n_jobs=-1, random_state=42)\n",
    "\n",
    "# params = {'n_estimators': [100, 300, 500], \n",
    "#           'max_depth': [3, 7, 10], \n",
    "#           'subsample': [0.6, 0.8], \n",
    "#           'colsample_bytree': [0.8, 1], \n",
    "# #           'learning_rate': [0.1, 1]}\n",
    "#          'learning_rate': [0.1, 1]}\n",
    "\n",
    "# params = {'n_estimators': [50, 100, 150], \n",
    "#           'max_depth': [3, 4, 5], \n",
    "#           'subsample': [0.6], \n",
    "#           'colsample_bytree': [0.8], \n",
    "#           'learning_rate': [0.1]}\n",
    "\n",
    "# xgb_model = XGBClassifier(n_estimators=50, n_jobs=-1, random_state=42, learning_rate=0.1)\n",
    "# params = {'max_depth': [3, 4, 6, 7], \n",
    "#           'subsample': [0.6, 0.7], \n",
    "#           'colsample_bytree': [0.8, 0.9, 1]}\n",
    "\n",
    "# xgb_model = XGBClassifier(n_jobs=-1, random_state=42, learning_rate=0.1, subsample=0.6, colsample_bytree=0.9)\n",
    "# params = {'max_depth': [3, 4], \n",
    "#           'n_estimators': [50, 100]}\n",
    "\n",
    "# xgb_model = XGBClassifier(n_jobs=-1, random_state=42, learning_rate=0.1)\n",
    "# params = {'max_depth': [3, 4], \n",
    "#           'n_estimators': [50, 100]}"
   ]
  },
  {
   "cell_type": "code",
   "execution_count": 270,
   "metadata": {},
   "outputs": [],
   "source": [
    "# %%time\n",
    "# grid_search_xgb = GridSearchCV(xgb_model, params, cv=5, n_jobs=-1)\n",
    "# grid_search_xgb.fit(X_train, y_train.values.ravel())"
   ]
  },
  {
   "cell_type": "code",
   "execution_count": 271,
   "metadata": {},
   "outputs": [],
   "source": [
    "# grid_search_xgb.best_score_"
   ]
  },
  {
   "cell_type": "code",
   "execution_count": 272,
   "metadata": {},
   "outputs": [],
   "source": [
    "# grid_search_xgb.best_params_"
   ]
  },
  {
   "cell_type": "code",
   "execution_count": 273,
   "metadata": {},
   "outputs": [],
   "source": [
    "# {'colsample_bytree': 0.8,\n",
    "#  'learning_rate': 0.1,\n",
    "#  'max_depth': 3,\n",
    "#  'n_estimators': 100,\n",
    "#  'subsample': 0.6}"
   ]
  },
  {
   "cell_type": "code",
   "execution_count": 274,
   "metadata": {},
   "outputs": [],
   "source": [
    "# best_xgb = grid_search_xgb.best_estimator_"
   ]
  },
  {
   "cell_type": "code",
   "execution_count": 275,
   "metadata": {},
   "outputs": [],
   "source": [
    "# cv_scores = cross_val_score(best_xgb, X_train, y_train, scoring='roc_auc', cv=10, n_jobs=-1)\n",
    "# mean_cv_scores = np.mean(cv_scores)\n",
    "# print ('mean score', mean_cv_scores)\n",
    "\n",
    "# std_cv_scores = np.std(cv_scores)\n",
    "# print ('std score', std_cv_scores)"
   ]
  },
  {
   "cell_type": "code",
   "execution_count": 276,
   "metadata": {},
   "outputs": [],
   "source": [
    "# best_xgb.fit(X, y.values.ravel())"
   ]
  },
  {
   "cell_type": "code",
   "execution_count": 277,
   "metadata": {},
   "outputs": [],
   "source": [
    "# y_pred = best_xgb.predict_proba(X_test)[:, 1]\n",
    "\n",
    "# # y_pred = np.around(y_pred, decimals=2)\n",
    "# y_pred"
   ]
  },
  {
   "cell_type": "code",
   "execution_count": 278,
   "metadata": {},
   "outputs": [],
   "source": [
    "# df_submission = pd.DataFrame({'is_gone': y_pred}, \n",
    "#                                  index=X_test.index)\n",
    "# import datetime\n",
    "# submission_filename = 'Stepic_submission_{}.csv'.format(\n",
    "#     datetime.datetime.now().strftime('%Y-%m-%d_%H-%M-%S'))\n",
    "# df_submission.to_csv(submission_filename)\n",
    "# print('Submission saved to {}'.format(submission_filename))"
   ]
  },
  {
   "cell_type": "markdown",
   "metadata": {},
   "source": [
    "Your ROC score is **0.8814327205396826**"
   ]
  },
  {
   "cell_type": "markdown",
   "metadata": {},
   "source": [
    "Your ROC score is **0.8841239732590537**\n",
    "\n",
    "base + ['total_subm', 'total_events']\n",
    "\n",
    "n_estimators=50, n_jobs=-1, max_depth=3, learning_rate=0.1, subsample=0.6, colsample_bytree=0.9, random_state=42"
   ]
  },
  {
   "cell_type": "markdown",
   "metadata": {},
   "source": [
    "Your ROC score is **0.8851999001588474**\n",
    "\n",
    "base + ['total_subm', 'total_events']\n",
    "\n",
    "n_estimators=50, n_jobs=-1, max_depth=3, learning_rate=0.1, random_state=42"
   ]
  },
  {
   "cell_type": "markdown",
   "metadata": {},
   "source": [
    "Your ROC score is **0.8878967258789551**\n",
    "\n",
    "n_estimators=100, n_jobs=-1, max_depth=5, learning_rate=0.1,  subsample=0.8, colsample_bytree=0.8, random_state=42"
   ]
  },
  {
   "cell_type": "markdown",
   "metadata": {},
   "source": [
    "Your ROC score is **0.8879448563398625**\n",
    "\n",
    "n_estimators=100, n_jobs=-1, max_depth=5, learning_rate=0.1, random_state=42"
   ]
  }
 ],
 "metadata": {
  "kernelspec": {
   "display_name": "Python 3",
   "language": "python",
   "name": "python3"
  },
  "language_info": {
   "codemirror_mode": {
    "name": "ipython",
    "version": 3
   },
   "file_extension": ".py",
   "mimetype": "text/x-python",
   "name": "python",
   "nbconvert_exporter": "python",
   "pygments_lexer": "ipython3",
   "version": "3.6.4"
  }
 },
 "nbformat": 4,
 "nbformat_minor": 2
}
