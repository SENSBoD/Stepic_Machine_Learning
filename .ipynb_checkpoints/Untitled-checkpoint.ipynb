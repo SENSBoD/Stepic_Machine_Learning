{
 "cells": [
  {
   "cell_type": "code",
   "execution_count": null,
   "metadata": {},
   "outputs": [],
   "source": [
    "print(event_data_train_first_2_days.shape)\n",
    "print(event_data_train_first_2_days['user_id'].nunique())\n",
    "\n",
    "first_timestamp_event_data = event_data_train.groupby('user_id', as_index=False) \\\n",
    "    .agg({'timestamp': 'min'}) \\\n",
    "    .rename(columns={'timestamp': 'first_timestamp'})\n",
    "\n",
    "first_timestamp_event_data['1_day_timestamp'] = first_timestamp_event_data['first_timestamp'] + (treshold / 2)\n",
    "\n",
    "event_data_train = event_data_train.merge(first_timestamp_event_data, on='user_id', how='outer')\n",
    "\n",
    "\n",
    "first_timestamp_submissions_data = submissions_data_train.groupby('user_id', as_index=False) \\\n",
    "    .agg({'timestamp': 'min'}) \\\n",
    "    .rename(columns={'timestamp': 'first_timestamp'})\n",
    "    \n",
    "first_timestamp_submissions_data['1_day_timestamp'] = first_timestamp_submissions_data['first_timestamp'] + (treshold / 2)\n",
    "\n",
    "\n",
    "submissions_data_train = submissions_data_train.merge(first_timestamp_submissions_data, on='user_id', how='outer')\n",
    "\n",
    "\n",
    "event_data_train_day_1 = event_data_train_first_2_days[event_data_train_first_2_days['timestamp'] < \\\n",
    "                                                       event_data_train_first_2_days['1_day_timestamp']]\n",
    "\n",
    "print(event_data_train_day_1.shape)\n",
    "print(event_data_train_day_1['user_id'].nunique())\n",
    "\n",
    "event_data_train_day_2 = event_data_train_first_2_days[event_data_train_first_2_days['timestamp'] >= \\\n",
    "                                                       event_data_train_first_2_days['1_day_timestamp']]\n",
    "\n",
    "print(event_data_train_day_2.shape)\n",
    "print(event_data_train_day_2['user_id'].nunique())\n",
    "\n",
    "\n",
    "print(submissions_data_train_first_2_days.shape)\n",
    "print(submissions_data_train_first_2_days['user_id'].nunique())\n",
    "\n",
    "submissions_data_train_day_1 = submissions_data_train_first_2_days[submissions_data_train_first_2_days['timestamp'] < \\\n",
    "                                                                   submissions_data_train_first_2_days['1_day_timestamp']]\n",
    "\n",
    "print(submissions_data_train_day_1.shape)\n",
    "print(submissions_data_train_day_1['user_id'].nunique())\n",
    "\n",
    "submissions_data_train_day_2 = submissions_data_train_first_2_days[submissions_data_train_first_2_days['timestamp'] >= \\\n",
    "                                                                   submissions_data_train_first_2_days['1_day_timestamp']]\n",
    "\n",
    "print(submissions_data_train_day_2.shape)\n",
    "print(submissions_data_train_day_2['user_id'].nunique())\n",
    "\n",
    "X_train_1_day = data_preprocessing(event_data_train_day_1, submissions_data_train_day_1)\n",
    "X_train_1_day.head()\n",
    "\n",
    "print(X_train_1_day.shape)\n",
    "print(X_train_1_day.index.nunique())\n",
    "\n",
    "X_train_2_day = data_preprocessing(event_data_train_day_2, submissions_data_train_day_2)\n",
    "X_train_2_day.head()\n",
    "\n",
    "print(X_train_2_day.shape)\n",
    "print(X_train_2_day.index.nunique())"
   ]
  },
  {
   "cell_type": "code",
   "execution_count": null,
   "metadata": {},
   "outputs": [],
   "source": [
    "X_train_1_day.columns = col_1_day\n",
    "X_train_2_day.columns = col_2_day"
   ]
  },
  {
   "cell_type": "code",
   "execution_count": null,
   "metadata": {},
   "outputs": [],
   "source": [
    "X_train = X_train.merge(X_train_1_day, on='user_id', how='outer')\n",
    "\n",
    "X_train = X_train.merge(X_train_2_day, on='user_id', how='outer')\n",
    "\n",
    "X_train = X_train.set_index(['user_id'])\n",
    "\n",
    "X_train.shape\n",
    "\n",
    "X_train = X_train.fillna(0)"
   ]
  }
 ],
 "metadata": {
  "kernelspec": {
   "display_name": "Python 3",
   "language": "python",
   "name": "python3"
  },
  "language_info": {
   "codemirror_mode": {
    "name": "ipython",
    "version": 3
   },
   "file_extension": ".py",
   "mimetype": "text/x-python",
   "name": "python",
   "nbconvert_exporter": "python",
   "pygments_lexer": "ipython3",
   "version": "3.6.4"
  }
 },
 "nbformat": 4,
 "nbformat_minor": 2
}
